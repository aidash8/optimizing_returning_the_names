{
  "nbformat": 4,
  "nbformat_minor": 0,
  "metadata": {
    "colab": {
      "provenance": [],
      "authorship_tag": "ABX9TyMAz4FS79Wmxw+fs4nt7me6",
      "include_colab_link": true
    },
    "kernelspec": {
      "name": "python3",
      "display_name": "Python 3"
    },
    "language_info": {
      "name": "python"
    }
  },
  "cells": [
    {
      "cell_type": "markdown",
      "metadata": {
        "id": "view-in-github",
        "colab_type": "text"
      },
      "source": [
        "<a href=\"https://colab.research.google.com/github/aidash8/optimizing_returning_the_names/blob/main/Optimizing_the_returning_the_names.ipynb\" target=\"_parent\"><img src=\"https://colab.research.google.com/assets/colab-badge.svg\" alt=\"Open In Colab\"/></a>"
      ]
    },
    {
      "cell_type": "markdown",
      "source": [
        "# Optimizing \"returning_the_names\" model (gpt-4o)\n",
        "This colab is trying various LLM techniques to optimize the production model (gpt-4o + prompt engineering + RAG through trie) that was used in the October 29 2024 commemoration.\n",
        "\n",
        "The techniques used for optimization are:\n",
        "- RAG with embeddings\n",
        "  - creating embeddings for all Russian abbreviations dictionary (done)\n",
        "  - creating embeddings for all Russian Geographical names\n",
        "- fine tuning the model through data from prior years (done)\n",
        "- make the model to think from this [paper](https://arxiv.org/pdf/2410.10630)"
      ],
      "metadata": {
        "id": "Q8nSRLQC7bNE"
      }
    },
    {
      "cell_type": "markdown",
      "source": [
        "## Read data and set up the working directory and libraries"
      ],
      "metadata": {
        "id": "oEg2_ZJaeDK2"
      }
    },
    {
      "cell_type": "code",
      "source": [
        "# Import the important libraries\n",
        "import os\n",
        "import sqlite3\n",
        "import pandas as pd\n",
        "import json\n",
        "import asyncio\n",
        "import re\n",
        "import time\n",
        "import openai\n",
        "from scipy import spatial  # for calculating vector similarities for search"
      ],
      "metadata": {
        "id": "R11L2vxvs3fF"
      },
      "execution_count": 2,
      "outputs": []
    },
    {
      "cell_type": "code",
      "source": [
        "# Mount the google drive\n",
        "from google.colab import drive\n",
        "import os\n",
        "\n",
        "# Check if the directory is empty or not\n",
        "if os.path.exists('/content/drive') and os.listdir('/content/drive'):\n",
        "  # If it's not empty, remove the directory\n",
        "  !rm -rf /content/drive\n",
        "\n",
        "# Now mount the drive\n",
        "drive.mount('/content/drive')"
      ],
      "metadata": {
        "colab": {
          "base_uri": "https://localhost:8080/"
        },
        "id": "naV-qm1uhUEP",
        "outputId": "6b7d14b4-41db-4493-c0f7-a1fcb1893653"
      },
      "execution_count": 4,
      "outputs": [
        {
          "output_type": "stream",
          "name": "stdout",
          "text": [
            "Mounted at /content/drive\n"
          ]
        }
      ]
    },
    {
      "cell_type": "code",
      "source": [
        "# Create a working directory\n",
        "path = \"/content/drive/MyDrive/Projects/optimizing_returning_the_names\"\n",
        "os.makedirs(path, exist_ok=True)\n",
        "\n",
        "# Change the current directory to the working directory\n",
        "%cd $path"
      ],
      "metadata": {
        "colab": {
          "base_uri": "https://localhost:8080/"
        },
        "id": "0qP5PpnNfJA6",
        "outputId": "12546b67-9bb4-49a4-dd2a-f5fc21a9345f"
      },
      "execution_count": 3,
      "outputs": [
        {
          "output_type": "stream",
          "name": "stdout",
          "text": [
            "/content/drive/MyDrive/Projects/optimizing_returning_the_names\n"
          ]
        }
      ]
    },
    {
      "cell_type": "markdown",
      "source": [
        "#### Download the production model repo.\n",
        "\n",
        "- The repo has the USSR repressions data as sqlite\n",
        "    - The data is a snapshot of a bigger database. The snapshot has only needed columns and only people who were shot during the purges"
      ],
      "metadata": {
        "id": "zLUlXjypjCfx"
      }
    },
    {
      "cell_type": "code",
      "source": [
        "# In order to clone, you need a github's personal access token (https://docs.github.com/en/authentication/keeping-your-account-and-data-secure/managing-your-personal-access-tokens)\n",
        "# Put the personal access token in the working directory in the file named \"github_access_key.txt\"\n",
        "# or just copy past to the variable personal_access_token\n",
        "\n",
        "personal_access_token = 'Your personal access key'\n",
        "with open('github_access_key.txt', 'r') as f:\n",
        "    personal_access_token = f.read().strip()\n",
        "\n",
        "!git clone https://$personal_access_token@github.com/compositor/returning_the_names.git"
      ],
      "metadata": {
        "id": "fOqZKfMT3v1Q"
      },
      "execution_count": null,
      "outputs": []
    },
    {
      "cell_type": "code",
      "source": [
        "# Install all required libraries\n",
        "!pip install -r returning_the_names/requirements.txt\n",
        "!pip install transformers\n",
        "!pip install tiktoken"
      ],
      "metadata": {
        "id": "v3-kAeoShfk5"
      },
      "execution_count": null,
      "outputs": []
    },
    {
      "cell_type": "markdown",
      "source": [
        "#### Read and clean data\n",
        "Data can be cleaned using functions from the returning_the_names repo, but Colab was giving me an error about locale (doesn't have the right locale installed). Couldn't fix it, so decided to copy the functions here and modify them to for the dataframe use"
      ],
      "metadata": {
        "id": "52vrY-uEx7nX"
      }
    },
    {
      "cell_type": "code",
      "source": [
        "COLUMN_NAMES = [\n",
        "    \"id\",\n",
        "    \"name\",\n",
        "    \"birth_date\",\n",
        "    \"gender\",\n",
        "    \"place_of_birth\",\n",
        "    \"occupation\",\n",
        "    \"place_of_residence\",\n",
        "    \"execution_place\",\n",
        "    \"execution_date\",\n",
        "]\n",
        "\n",
        "conn = sqlite3.connect('returning_the_names/data/october.sqlite3')\n",
        "cur = conn.cursor()\n",
        "cur.execute(\"SELECT * FROM october\")\n",
        "results = cur.fetchall()\n",
        "\n",
        "df = pd.DataFrame(results)\n",
        "df.columns = COLUMN_NAMES\n",
        "print(len(df))\n",
        "df.head(2)"
      ],
      "metadata": {
        "colab": {
          "base_uri": "https://localhost:8080/",
          "height": 219
        },
        "id": "gd6swRyassn8",
        "outputId": "39551a88-d2e3-4a3c-f1c3-8131f47c4cf3"
      },
      "execution_count": 4,
      "outputs": [
        {
          "output_type": "stream",
          "name": "stdout",
          "text": [
            "143432\n"
          ]
        },
        {
          "output_type": "execute_result",
          "data": {
            "text/plain": [
              "       id                        name birth_date   gender place_of_birth  \\\n",
              "0  888372   Назаров Алексей Матвеевич       1897  мужчина   Томская губ.   \n",
              "1  490842  Назаров Емельян Васильевич       1888  мужчина   Томская губ.   \n",
              "\n",
              "                     occupation           place_of_residence execution_place  \\\n",
              "0          Рабочий зверосовхоза   Алтайский кр., Бийский р-н       г. Бийске   \n",
              "1  Член колхоза \"Память Ленина\"  Грязнухинский р-н, с. Кокши       г. Бийске   \n",
              "\n",
              "  execution_date  \n",
              "0     18.11.1937  \n",
              "1     28.03.1938  "
            ],
            "text/html": [
              "\n",
              "  <div id=\"df-b9a31ef9-fc1d-4586-aa3c-33e37a1916c6\" class=\"colab-df-container\">\n",
              "    <div>\n",
              "<style scoped>\n",
              "    .dataframe tbody tr th:only-of-type {\n",
              "        vertical-align: middle;\n",
              "    }\n",
              "\n",
              "    .dataframe tbody tr th {\n",
              "        vertical-align: top;\n",
              "    }\n",
              "\n",
              "    .dataframe thead th {\n",
              "        text-align: right;\n",
              "    }\n",
              "</style>\n",
              "<table border=\"1\" class=\"dataframe\">\n",
              "  <thead>\n",
              "    <tr style=\"text-align: right;\">\n",
              "      <th></th>\n",
              "      <th>id</th>\n",
              "      <th>name</th>\n",
              "      <th>birth_date</th>\n",
              "      <th>gender</th>\n",
              "      <th>place_of_birth</th>\n",
              "      <th>occupation</th>\n",
              "      <th>place_of_residence</th>\n",
              "      <th>execution_place</th>\n",
              "      <th>execution_date</th>\n",
              "    </tr>\n",
              "  </thead>\n",
              "  <tbody>\n",
              "    <tr>\n",
              "      <th>0</th>\n",
              "      <td>888372</td>\n",
              "      <td>Назаров Алексей Матвеевич</td>\n",
              "      <td>1897</td>\n",
              "      <td>мужчина</td>\n",
              "      <td>Томская губ.</td>\n",
              "      <td>Рабочий зверосовхоза</td>\n",
              "      <td>Алтайский кр., Бийский р-н</td>\n",
              "      <td>г. Бийске</td>\n",
              "      <td>18.11.1937</td>\n",
              "    </tr>\n",
              "    <tr>\n",
              "      <th>1</th>\n",
              "      <td>490842</td>\n",
              "      <td>Назаров Емельян Васильевич</td>\n",
              "      <td>1888</td>\n",
              "      <td>мужчина</td>\n",
              "      <td>Томская губ.</td>\n",
              "      <td>Член колхоза \"Память Ленина\"</td>\n",
              "      <td>Грязнухинский р-н, с. Кокши</td>\n",
              "      <td>г. Бийске</td>\n",
              "      <td>28.03.1938</td>\n",
              "    </tr>\n",
              "  </tbody>\n",
              "</table>\n",
              "</div>\n",
              "    <div class=\"colab-df-buttons\">\n",
              "\n",
              "  <div class=\"colab-df-container\">\n",
              "    <button class=\"colab-df-convert\" onclick=\"convertToInteractive('df-b9a31ef9-fc1d-4586-aa3c-33e37a1916c6')\"\n",
              "            title=\"Convert this dataframe to an interactive table.\"\n",
              "            style=\"display:none;\">\n",
              "\n",
              "  <svg xmlns=\"http://www.w3.org/2000/svg\" height=\"24px\" viewBox=\"0 -960 960 960\">\n",
              "    <path d=\"M120-120v-720h720v720H120Zm60-500h600v-160H180v160Zm220 220h160v-160H400v160Zm0 220h160v-160H400v160ZM180-400h160v-160H180v160Zm440 0h160v-160H620v160ZM180-180h160v-160H180v160Zm440 0h160v-160H620v160Z\"/>\n",
              "  </svg>\n",
              "    </button>\n",
              "\n",
              "  <style>\n",
              "    .colab-df-container {\n",
              "      display:flex;\n",
              "      gap: 12px;\n",
              "    }\n",
              "\n",
              "    .colab-df-convert {\n",
              "      background-color: #E8F0FE;\n",
              "      border: none;\n",
              "      border-radius: 50%;\n",
              "      cursor: pointer;\n",
              "      display: none;\n",
              "      fill: #1967D2;\n",
              "      height: 32px;\n",
              "      padding: 0 0 0 0;\n",
              "      width: 32px;\n",
              "    }\n",
              "\n",
              "    .colab-df-convert:hover {\n",
              "      background-color: #E2EBFA;\n",
              "      box-shadow: 0px 1px 2px rgba(60, 64, 67, 0.3), 0px 1px 3px 1px rgba(60, 64, 67, 0.15);\n",
              "      fill: #174EA6;\n",
              "    }\n",
              "\n",
              "    .colab-df-buttons div {\n",
              "      margin-bottom: 4px;\n",
              "    }\n",
              "\n",
              "    [theme=dark] .colab-df-convert {\n",
              "      background-color: #3B4455;\n",
              "      fill: #D2E3FC;\n",
              "    }\n",
              "\n",
              "    [theme=dark] .colab-df-convert:hover {\n",
              "      background-color: #434B5C;\n",
              "      box-shadow: 0px 1px 3px 1px rgba(0, 0, 0, 0.15);\n",
              "      filter: drop-shadow(0px 1px 2px rgba(0, 0, 0, 0.3));\n",
              "      fill: #FFFFFF;\n",
              "    }\n",
              "  </style>\n",
              "\n",
              "    <script>\n",
              "      const buttonEl =\n",
              "        document.querySelector('#df-b9a31ef9-fc1d-4586-aa3c-33e37a1916c6 button.colab-df-convert');\n",
              "      buttonEl.style.display =\n",
              "        google.colab.kernel.accessAllowed ? 'block' : 'none';\n",
              "\n",
              "      async function convertToInteractive(key) {\n",
              "        const element = document.querySelector('#df-b9a31ef9-fc1d-4586-aa3c-33e37a1916c6');\n",
              "        const dataTable =\n",
              "          await google.colab.kernel.invokeFunction('convertToInteractive',\n",
              "                                                    [key], {});\n",
              "        if (!dataTable) return;\n",
              "\n",
              "        const docLinkHtml = 'Like what you see? Visit the ' +\n",
              "          '<a target=\"_blank\" href=https://colab.research.google.com/notebooks/data_table.ipynb>data table notebook</a>'\n",
              "          + ' to learn more about interactive tables.';\n",
              "        element.innerHTML = '';\n",
              "        dataTable['output_type'] = 'display_data';\n",
              "        await google.colab.output.renderOutput(dataTable, element);\n",
              "        const docLink = document.createElement('div');\n",
              "        docLink.innerHTML = docLinkHtml;\n",
              "        element.appendChild(docLink);\n",
              "      }\n",
              "    </script>\n",
              "  </div>\n",
              "\n",
              "\n",
              "<div id=\"df-b2559069-fcbc-48fb-b261-08eab862346b\">\n",
              "  <button class=\"colab-df-quickchart\" onclick=\"quickchart('df-b2559069-fcbc-48fb-b261-08eab862346b')\"\n",
              "            title=\"Suggest charts\"\n",
              "            style=\"display:none;\">\n",
              "\n",
              "<svg xmlns=\"http://www.w3.org/2000/svg\" height=\"24px\"viewBox=\"0 0 24 24\"\n",
              "     width=\"24px\">\n",
              "    <g>\n",
              "        <path d=\"M19 3H5c-1.1 0-2 .9-2 2v14c0 1.1.9 2 2 2h14c1.1 0 2-.9 2-2V5c0-1.1-.9-2-2-2zM9 17H7v-7h2v7zm4 0h-2V7h2v10zm4 0h-2v-4h2v4z\"/>\n",
              "    </g>\n",
              "</svg>\n",
              "  </button>\n",
              "\n",
              "<style>\n",
              "  .colab-df-quickchart {\n",
              "      --bg-color: #E8F0FE;\n",
              "      --fill-color: #1967D2;\n",
              "      --hover-bg-color: #E2EBFA;\n",
              "      --hover-fill-color: #174EA6;\n",
              "      --disabled-fill-color: #AAA;\n",
              "      --disabled-bg-color: #DDD;\n",
              "  }\n",
              "\n",
              "  [theme=dark] .colab-df-quickchart {\n",
              "      --bg-color: #3B4455;\n",
              "      --fill-color: #D2E3FC;\n",
              "      --hover-bg-color: #434B5C;\n",
              "      --hover-fill-color: #FFFFFF;\n",
              "      --disabled-bg-color: #3B4455;\n",
              "      --disabled-fill-color: #666;\n",
              "  }\n",
              "\n",
              "  .colab-df-quickchart {\n",
              "    background-color: var(--bg-color);\n",
              "    border: none;\n",
              "    border-radius: 50%;\n",
              "    cursor: pointer;\n",
              "    display: none;\n",
              "    fill: var(--fill-color);\n",
              "    height: 32px;\n",
              "    padding: 0;\n",
              "    width: 32px;\n",
              "  }\n",
              "\n",
              "  .colab-df-quickchart:hover {\n",
              "    background-color: var(--hover-bg-color);\n",
              "    box-shadow: 0 1px 2px rgba(60, 64, 67, 0.3), 0 1px 3px 1px rgba(60, 64, 67, 0.15);\n",
              "    fill: var(--button-hover-fill-color);\n",
              "  }\n",
              "\n",
              "  .colab-df-quickchart-complete:disabled,\n",
              "  .colab-df-quickchart-complete:disabled:hover {\n",
              "    background-color: var(--disabled-bg-color);\n",
              "    fill: var(--disabled-fill-color);\n",
              "    box-shadow: none;\n",
              "  }\n",
              "\n",
              "  .colab-df-spinner {\n",
              "    border: 2px solid var(--fill-color);\n",
              "    border-color: transparent;\n",
              "    border-bottom-color: var(--fill-color);\n",
              "    animation:\n",
              "      spin 1s steps(1) infinite;\n",
              "  }\n",
              "\n",
              "  @keyframes spin {\n",
              "    0% {\n",
              "      border-color: transparent;\n",
              "      border-bottom-color: var(--fill-color);\n",
              "      border-left-color: var(--fill-color);\n",
              "    }\n",
              "    20% {\n",
              "      border-color: transparent;\n",
              "      border-left-color: var(--fill-color);\n",
              "      border-top-color: var(--fill-color);\n",
              "    }\n",
              "    30% {\n",
              "      border-color: transparent;\n",
              "      border-left-color: var(--fill-color);\n",
              "      border-top-color: var(--fill-color);\n",
              "      border-right-color: var(--fill-color);\n",
              "    }\n",
              "    40% {\n",
              "      border-color: transparent;\n",
              "      border-right-color: var(--fill-color);\n",
              "      border-top-color: var(--fill-color);\n",
              "    }\n",
              "    60% {\n",
              "      border-color: transparent;\n",
              "      border-right-color: var(--fill-color);\n",
              "    }\n",
              "    80% {\n",
              "      border-color: transparent;\n",
              "      border-right-color: var(--fill-color);\n",
              "      border-bottom-color: var(--fill-color);\n",
              "    }\n",
              "    90% {\n",
              "      border-color: transparent;\n",
              "      border-bottom-color: var(--fill-color);\n",
              "    }\n",
              "  }\n",
              "</style>\n",
              "\n",
              "  <script>\n",
              "    async function quickchart(key) {\n",
              "      const quickchartButtonEl =\n",
              "        document.querySelector('#' + key + ' button');\n",
              "      quickchartButtonEl.disabled = true;  // To prevent multiple clicks.\n",
              "      quickchartButtonEl.classList.add('colab-df-spinner');\n",
              "      try {\n",
              "        const charts = await google.colab.kernel.invokeFunction(\n",
              "            'suggestCharts', [key], {});\n",
              "      } catch (error) {\n",
              "        console.error('Error during call to suggestCharts:', error);\n",
              "      }\n",
              "      quickchartButtonEl.classList.remove('colab-df-spinner');\n",
              "      quickchartButtonEl.classList.add('colab-df-quickchart-complete');\n",
              "    }\n",
              "    (() => {\n",
              "      let quickchartButtonEl =\n",
              "        document.querySelector('#df-b2559069-fcbc-48fb-b261-08eab862346b button');\n",
              "      quickchartButtonEl.style.display =\n",
              "        google.colab.kernel.accessAllowed ? 'block' : 'none';\n",
              "    })();\n",
              "  </script>\n",
              "</div>\n",
              "\n",
              "    </div>\n",
              "  </div>\n"
            ],
            "application/vnd.google.colaboratory.intrinsic+json": {
              "type": "dataframe",
              "variable_name": "df"
            }
          },
          "metadata": {},
          "execution_count": 4
        }
      ]
    },
    {
      "cell_type": "code",
      "source": [
        "from typing import Optional, Tuple, Any\n",
        "from datetime import datetime, date\n",
        "import locale\n",
        "from dateutil.relativedelta import relativedelta\n",
        "import re\n",
        "\n",
        "def clean_date(x: str) -> date:\n",
        "    if not x:\n",
        "        return None\n",
        "    x_orig = x.strip()\n",
        "    if x == \"1906 (по др. данным, в 1905)\":\n",
        "      x = '01.01.1906'\n",
        "    elif x == \"28.03 (9.04).1891\":\n",
        "      x = \"28.03.1891\"\n",
        "    elif x == \"31.09.1938\":\n",
        "      x = \"30.09.1938\"\n",
        "    elif x == '01(13). 02.1884':\n",
        "      x = \"01.02.1884\"\n",
        "    elif x == '1898 (по данным протокола №82- 1905)':\n",
        "      x = \"01.01.1898\"\n",
        "    elif x == '11.03 (28.02).1888':\n",
        "      x = \"11.03.1888\"\n",
        "    elif x == '11.10.08.1933':\n",
        "      x = \"11.08.1933\"\n",
        "    elif x == '28.02(?).1938':\n",
        "      x = \"28.02.1938\"\n",
        "    x = re.sub(r'\\(\\d+\\)', '', x)\n",
        "    x = x.split(\";\")[-1]\n",
        "    x = x.split(\".\")\n",
        "    if len(x) == 1:\n",
        "        x = [\"01\", \"01\", x[0].strip()]\n",
        "    elif len(x) == 2:\n",
        "        x = [\"01\", x[0].strip(), x[1].strip()]\n",
        "    try:\n",
        "      return datetime.strptime('.'.join(x), \"%d.%m.%Y\").date()\n",
        "    except:\n",
        "      return \"\"\n",
        "\n",
        "\n",
        "def convert_to_rus_datetime(x: Optional[date]) -> str:\n",
        "    if x is None:\n",
        "        return \"\"\n",
        "    locale.setlocale(locale.LC_TIME, \"ru_RU.UTF-8\")\n",
        "    return x.strftime(\"%d %B %Y\")\n",
        "\n",
        "\n",
        "def create_age(date_of_demise: date, dob: date) -> str:\n",
        "    if date_of_demise is None or dob is None:\n",
        "        return \"\"\n",
        "    if date_of_demise == \"\" or dob == \"\":\n",
        "        return \"\"\n",
        "    years = relativedelta(date_of_demise, dob).years\n",
        "    if years < 10:\n",
        "      print(date_of_demise, dob)\n",
        "        # raise Exception(f\"Age is too low. Likely incorrect: {date_of_demise, dob}\")\n",
        "    return str(years)\n",
        "\n",
        "\n",
        "def clean_profession(x: Optional[str]) -> str:\n",
        "    if not x:\n",
        "        return x\n",
        "    x = re.sub(\"по месту рождения,\", \"\", x)\n",
        "    return x\n",
        "\n",
        "\n",
        "def normalize_name(name: str) -> str:\n",
        "    li = name.split(\" \")\n",
        "    li2 = li[1:]\n",
        "    li2.extend(li[:1])\n",
        "    return \" \".join(li2)\n",
        "\n",
        "def create_age_final(x) -> str:\n",
        "    dob = clean_date(x[\"birth_date\"])\n",
        "    if not x[\"execution_date\"]:\n",
        "        raise Exception(\"Date of death is unknown\")\n",
        "\n",
        "    date_of_demise = clean_date(x[\"execution_date\"])\n",
        "\n",
        "    return create_age(date_of_demise, dob) if date_of_demise and dob else \"\"\n",
        "\n",
        "def manual_cleaning(x):\n",
        "    if x['id'] == 418499:\n",
        "        x[\"birth_date\"] = '20.04.1888' # openlist.wiki (info from Книга памяти \"Корейцы - жертвы политических репрессий в СССР\")\n",
        "    elif x['id'] == 517801:\n",
        "        x['execution_date'] = '02.08.1930' # https://drevo-info.ru/articles/26121.html\n",
        "    elif x['id'] == 1068479:\n",
        "        x['execution_date'] = '14.10.1938' # https://lists.memo.ru/d1/f464.htm\n",
        "    return x\n",
        "\n",
        "manual_cleaning_ids = [418499, 517801, 1068479]\n",
        "df.loc[df['id'].isin(manual_cleaning_ids)] = df.loc[df['id'].isin(manual_cleaning_ids),].apply(lambda x: manual_cleaning(x), axis=1)\n",
        "df['name'] = df['name'].apply(normalize_name)\n",
        "df['age'] = df.apply(lambda x: create_age_final(x), axis=1)\n",
        "df.head(2)"
      ],
      "metadata": {
        "colab": {
          "base_uri": "https://localhost:8080/",
          "height": 273
        },
        "id": "z27wYiSXt_A4",
        "outputId": "0c3e3d5d-bcbc-43b9-b97c-d0e05ef5700b"
      },
      "execution_count": 5,
      "outputs": [
        {
          "output_type": "stream",
          "name": "stdout",
          "text": [
            "1938-01-22 1937-01-01\n",
            "1920-01-01 1912-01-01\n",
            "1938-08-05 1936-01-01\n",
            "1938-04-08 1938-01-01\n"
          ]
        },
        {
          "output_type": "execute_result",
          "data": {
            "text/plain": [
              "       id                        name birth_date   gender place_of_birth  \\\n",
              "0  888372   Алексей Матвеевич Назаров       1897  мужчина   Томская губ.   \n",
              "1  490842  Емельян Васильевич Назаров       1888  мужчина   Томская губ.   \n",
              "\n",
              "                     occupation           place_of_residence execution_place  \\\n",
              "0          Рабочий зверосовхоза   Алтайский кр., Бийский р-н       г. Бийске   \n",
              "1  Член колхоза \"Память Ленина\"  Грязнухинский р-н, с. Кокши       г. Бийске   \n",
              "\n",
              "  execution_date age  \n",
              "0     18.11.1937  40  \n",
              "1     28.03.1938  50  "
            ],
            "text/html": [
              "\n",
              "  <div id=\"df-bec2cdb5-f584-4466-af46-84512f6d7b4f\" class=\"colab-df-container\">\n",
              "    <div>\n",
              "<style scoped>\n",
              "    .dataframe tbody tr th:only-of-type {\n",
              "        vertical-align: middle;\n",
              "    }\n",
              "\n",
              "    .dataframe tbody tr th {\n",
              "        vertical-align: top;\n",
              "    }\n",
              "\n",
              "    .dataframe thead th {\n",
              "        text-align: right;\n",
              "    }\n",
              "</style>\n",
              "<table border=\"1\" class=\"dataframe\">\n",
              "  <thead>\n",
              "    <tr style=\"text-align: right;\">\n",
              "      <th></th>\n",
              "      <th>id</th>\n",
              "      <th>name</th>\n",
              "      <th>birth_date</th>\n",
              "      <th>gender</th>\n",
              "      <th>place_of_birth</th>\n",
              "      <th>occupation</th>\n",
              "      <th>place_of_residence</th>\n",
              "      <th>execution_place</th>\n",
              "      <th>execution_date</th>\n",
              "      <th>age</th>\n",
              "    </tr>\n",
              "  </thead>\n",
              "  <tbody>\n",
              "    <tr>\n",
              "      <th>0</th>\n",
              "      <td>888372</td>\n",
              "      <td>Алексей Матвеевич Назаров</td>\n",
              "      <td>1897</td>\n",
              "      <td>мужчина</td>\n",
              "      <td>Томская губ.</td>\n",
              "      <td>Рабочий зверосовхоза</td>\n",
              "      <td>Алтайский кр., Бийский р-н</td>\n",
              "      <td>г. Бийске</td>\n",
              "      <td>18.11.1937</td>\n",
              "      <td>40</td>\n",
              "    </tr>\n",
              "    <tr>\n",
              "      <th>1</th>\n",
              "      <td>490842</td>\n",
              "      <td>Емельян Васильевич Назаров</td>\n",
              "      <td>1888</td>\n",
              "      <td>мужчина</td>\n",
              "      <td>Томская губ.</td>\n",
              "      <td>Член колхоза \"Память Ленина\"</td>\n",
              "      <td>Грязнухинский р-н, с. Кокши</td>\n",
              "      <td>г. Бийске</td>\n",
              "      <td>28.03.1938</td>\n",
              "      <td>50</td>\n",
              "    </tr>\n",
              "  </tbody>\n",
              "</table>\n",
              "</div>\n",
              "    <div class=\"colab-df-buttons\">\n",
              "\n",
              "  <div class=\"colab-df-container\">\n",
              "    <button class=\"colab-df-convert\" onclick=\"convertToInteractive('df-bec2cdb5-f584-4466-af46-84512f6d7b4f')\"\n",
              "            title=\"Convert this dataframe to an interactive table.\"\n",
              "            style=\"display:none;\">\n",
              "\n",
              "  <svg xmlns=\"http://www.w3.org/2000/svg\" height=\"24px\" viewBox=\"0 -960 960 960\">\n",
              "    <path d=\"M120-120v-720h720v720H120Zm60-500h600v-160H180v160Zm220 220h160v-160H400v160Zm0 220h160v-160H400v160ZM180-400h160v-160H180v160Zm440 0h160v-160H620v160ZM180-180h160v-160H180v160Zm440 0h160v-160H620v160Z\"/>\n",
              "  </svg>\n",
              "    </button>\n",
              "\n",
              "  <style>\n",
              "    .colab-df-container {\n",
              "      display:flex;\n",
              "      gap: 12px;\n",
              "    }\n",
              "\n",
              "    .colab-df-convert {\n",
              "      background-color: #E8F0FE;\n",
              "      border: none;\n",
              "      border-radius: 50%;\n",
              "      cursor: pointer;\n",
              "      display: none;\n",
              "      fill: #1967D2;\n",
              "      height: 32px;\n",
              "      padding: 0 0 0 0;\n",
              "      width: 32px;\n",
              "    }\n",
              "\n",
              "    .colab-df-convert:hover {\n",
              "      background-color: #E2EBFA;\n",
              "      box-shadow: 0px 1px 2px rgba(60, 64, 67, 0.3), 0px 1px 3px 1px rgba(60, 64, 67, 0.15);\n",
              "      fill: #174EA6;\n",
              "    }\n",
              "\n",
              "    .colab-df-buttons div {\n",
              "      margin-bottom: 4px;\n",
              "    }\n",
              "\n",
              "    [theme=dark] .colab-df-convert {\n",
              "      background-color: #3B4455;\n",
              "      fill: #D2E3FC;\n",
              "    }\n",
              "\n",
              "    [theme=dark] .colab-df-convert:hover {\n",
              "      background-color: #434B5C;\n",
              "      box-shadow: 0px 1px 3px 1px rgba(0, 0, 0, 0.15);\n",
              "      filter: drop-shadow(0px 1px 2px rgba(0, 0, 0, 0.3));\n",
              "      fill: #FFFFFF;\n",
              "    }\n",
              "  </style>\n",
              "\n",
              "    <script>\n",
              "      const buttonEl =\n",
              "        document.querySelector('#df-bec2cdb5-f584-4466-af46-84512f6d7b4f button.colab-df-convert');\n",
              "      buttonEl.style.display =\n",
              "        google.colab.kernel.accessAllowed ? 'block' : 'none';\n",
              "\n",
              "      async function convertToInteractive(key) {\n",
              "        const element = document.querySelector('#df-bec2cdb5-f584-4466-af46-84512f6d7b4f');\n",
              "        const dataTable =\n",
              "          await google.colab.kernel.invokeFunction('convertToInteractive',\n",
              "                                                    [key], {});\n",
              "        if (!dataTable) return;\n",
              "\n",
              "        const docLinkHtml = 'Like what you see? Visit the ' +\n",
              "          '<a target=\"_blank\" href=https://colab.research.google.com/notebooks/data_table.ipynb>data table notebook</a>'\n",
              "          + ' to learn more about interactive tables.';\n",
              "        element.innerHTML = '';\n",
              "        dataTable['output_type'] = 'display_data';\n",
              "        await google.colab.output.renderOutput(dataTable, element);\n",
              "        const docLink = document.createElement('div');\n",
              "        docLink.innerHTML = docLinkHtml;\n",
              "        element.appendChild(docLink);\n",
              "      }\n",
              "    </script>\n",
              "  </div>\n",
              "\n",
              "\n",
              "<div id=\"df-0df99d53-81aa-4148-90c6-b29e7df0f0ff\">\n",
              "  <button class=\"colab-df-quickchart\" onclick=\"quickchart('df-0df99d53-81aa-4148-90c6-b29e7df0f0ff')\"\n",
              "            title=\"Suggest charts\"\n",
              "            style=\"display:none;\">\n",
              "\n",
              "<svg xmlns=\"http://www.w3.org/2000/svg\" height=\"24px\"viewBox=\"0 0 24 24\"\n",
              "     width=\"24px\">\n",
              "    <g>\n",
              "        <path d=\"M19 3H5c-1.1 0-2 .9-2 2v14c0 1.1.9 2 2 2h14c1.1 0 2-.9 2-2V5c0-1.1-.9-2-2-2zM9 17H7v-7h2v7zm4 0h-2V7h2v10zm4 0h-2v-4h2v4z\"/>\n",
              "    </g>\n",
              "</svg>\n",
              "  </button>\n",
              "\n",
              "<style>\n",
              "  .colab-df-quickchart {\n",
              "      --bg-color: #E8F0FE;\n",
              "      --fill-color: #1967D2;\n",
              "      --hover-bg-color: #E2EBFA;\n",
              "      --hover-fill-color: #174EA6;\n",
              "      --disabled-fill-color: #AAA;\n",
              "      --disabled-bg-color: #DDD;\n",
              "  }\n",
              "\n",
              "  [theme=dark] .colab-df-quickchart {\n",
              "      --bg-color: #3B4455;\n",
              "      --fill-color: #D2E3FC;\n",
              "      --hover-bg-color: #434B5C;\n",
              "      --hover-fill-color: #FFFFFF;\n",
              "      --disabled-bg-color: #3B4455;\n",
              "      --disabled-fill-color: #666;\n",
              "  }\n",
              "\n",
              "  .colab-df-quickchart {\n",
              "    background-color: var(--bg-color);\n",
              "    border: none;\n",
              "    border-radius: 50%;\n",
              "    cursor: pointer;\n",
              "    display: none;\n",
              "    fill: var(--fill-color);\n",
              "    height: 32px;\n",
              "    padding: 0;\n",
              "    width: 32px;\n",
              "  }\n",
              "\n",
              "  .colab-df-quickchart:hover {\n",
              "    background-color: var(--hover-bg-color);\n",
              "    box-shadow: 0 1px 2px rgba(60, 64, 67, 0.3), 0 1px 3px 1px rgba(60, 64, 67, 0.15);\n",
              "    fill: var(--button-hover-fill-color);\n",
              "  }\n",
              "\n",
              "  .colab-df-quickchart-complete:disabled,\n",
              "  .colab-df-quickchart-complete:disabled:hover {\n",
              "    background-color: var(--disabled-bg-color);\n",
              "    fill: var(--disabled-fill-color);\n",
              "    box-shadow: none;\n",
              "  }\n",
              "\n",
              "  .colab-df-spinner {\n",
              "    border: 2px solid var(--fill-color);\n",
              "    border-color: transparent;\n",
              "    border-bottom-color: var(--fill-color);\n",
              "    animation:\n",
              "      spin 1s steps(1) infinite;\n",
              "  }\n",
              "\n",
              "  @keyframes spin {\n",
              "    0% {\n",
              "      border-color: transparent;\n",
              "      border-bottom-color: var(--fill-color);\n",
              "      border-left-color: var(--fill-color);\n",
              "    }\n",
              "    20% {\n",
              "      border-color: transparent;\n",
              "      border-left-color: var(--fill-color);\n",
              "      border-top-color: var(--fill-color);\n",
              "    }\n",
              "    30% {\n",
              "      border-color: transparent;\n",
              "      border-left-color: var(--fill-color);\n",
              "      border-top-color: var(--fill-color);\n",
              "      border-right-color: var(--fill-color);\n",
              "    }\n",
              "    40% {\n",
              "      border-color: transparent;\n",
              "      border-right-color: var(--fill-color);\n",
              "      border-top-color: var(--fill-color);\n",
              "    }\n",
              "    60% {\n",
              "      border-color: transparent;\n",
              "      border-right-color: var(--fill-color);\n",
              "    }\n",
              "    80% {\n",
              "      border-color: transparent;\n",
              "      border-right-color: var(--fill-color);\n",
              "      border-bottom-color: var(--fill-color);\n",
              "    }\n",
              "    90% {\n",
              "      border-color: transparent;\n",
              "      border-bottom-color: var(--fill-color);\n",
              "    }\n",
              "  }\n",
              "</style>\n",
              "\n",
              "  <script>\n",
              "    async function quickchart(key) {\n",
              "      const quickchartButtonEl =\n",
              "        document.querySelector('#' + key + ' button');\n",
              "      quickchartButtonEl.disabled = true;  // To prevent multiple clicks.\n",
              "      quickchartButtonEl.classList.add('colab-df-spinner');\n",
              "      try {\n",
              "        const charts = await google.colab.kernel.invokeFunction(\n",
              "            'suggestCharts', [key], {});\n",
              "      } catch (error) {\n",
              "        console.error('Error during call to suggestCharts:', error);\n",
              "      }\n",
              "      quickchartButtonEl.classList.remove('colab-df-spinner');\n",
              "      quickchartButtonEl.classList.add('colab-df-quickchart-complete');\n",
              "    }\n",
              "    (() => {\n",
              "      let quickchartButtonEl =\n",
              "        document.querySelector('#df-0df99d53-81aa-4148-90c6-b29e7df0f0ff button');\n",
              "      quickchartButtonEl.style.display =\n",
              "        google.colab.kernel.accessAllowed ? 'block' : 'none';\n",
              "    })();\n",
              "  </script>\n",
              "</div>\n",
              "\n",
              "    </div>\n",
              "  </div>\n"
            ],
            "application/vnd.google.colaboratory.intrinsic+json": {
              "type": "dataframe",
              "variable_name": "df"
            }
          },
          "metadata": {},
          "execution_count": 5
        }
      ]
    },
    {
      "cell_type": "markdown",
      "source": [
        "## The production model\n",
        "\n",
        "The production model is in the returning_the_names repo.\n",
        "\n",
        "We used gpt-4o (the full model) which was tuned by\n",
        "- prompt engineering\n",
        "- RAG through tries: retrieval of the new information through exact matches. The dictionary of abbreviations was stored in a trie structure where the keys are normalized abbreviations and its meaning and the values are abbreviations and its meaning.\n",
        "  - Normalization is done by leaving only letters, no special charactes, spaces, numbers and etc"
      ],
      "metadata": {
        "id": "1TrfxD_6_Rt8"
      }
    },
    {
      "cell_type": "code",
      "source": [
        "# Get into the returning_the_names folder in order to run the production model\n",
        "%cd returning_the_names"
      ],
      "metadata": {
        "colab": {
          "base_uri": "https://localhost:8080/"
        },
        "id": "b1d_tovD1ONw",
        "outputId": "6fc5a5b8-9b87-4095-ee02-53594c8cef84"
      },
      "execution_count": 6,
      "outputs": [
        {
          "output_type": "stream",
          "name": "stdout",
          "text": [
            "/content/drive/MyDrive/Projects/optimizing_returning_the_names/returning_the_names\n"
          ]
        }
      ]
    },
    {
      "cell_type": "code",
      "source": [
        "# Put your OPEN AI Key to returning_the_names folder in the secret.txt file. Here is the tutorial to the OPEN AI API: https://platform.openai.com/docs/quickstart\n",
        "OPENAI_KEY = 'Your OPEN AI Key'\n",
        "!echo $OPENAI_KEY > secret.txt"
      ],
      "metadata": {
        "colab": {
          "base_uri": "https://localhost:8080/"
        },
        "id": "z5EPf0-uFc1i",
        "outputId": "7321e48e-122f-4f48-d559-b462e09e785e"
      },
      "execution_count": 10,
      "outputs": [
        {
          "output_type": "stream",
          "name": "stdout",
          "text": [
            "[Errno 2] No such file or directory: 'returning_the_names'\n",
            "/content/drive/MyDrive/Projects/optimizing_returning_the_names/returning_the_names\n"
          ]
        }
      ]
    },
    {
      "cell_type": "code",
      "source": [
        "# Read your OPEN AI Key if it's not saved in OPENAI_KEY\n",
        "with open('secret.txt', 'r') as f:\n",
        "    OPENAI_KEY = f.read().strip()"
      ],
      "metadata": {
        "id": "89DrJhbM45cU"
      },
      "execution_count": 7,
      "outputs": []
    },
    {
      "cell_type": "code",
      "source": [
        "from openai import AsyncOpenAI\n",
        "from src.ai_client import AiClient\n",
        "\n",
        "full = True # the full model aka gpt-4o\n",
        "input_to_client = AiClient(full) # the structure that has info about the prompt and model\n",
        "\n",
        "# async OPEN AI client for faster communication\n",
        "client = AsyncOpenAI(api_key=OPENAI_KEY, timeout=60, max_retries=3)"
      ],
      "metadata": {
        "id": "mbLPq3l8Ia-x"
      },
      "execution_count": 8,
      "outputs": []
    },
    {
      "cell_type": "code",
      "source": [
        "# Pick a random example to see how the current model works\n",
        "example = df.sample()\n",
        "example"
      ],
      "metadata": {
        "colab": {
          "base_uri": "https://localhost:8080/",
          "height": 135
        },
        "id": "Dk9cTeuYISts",
        "outputId": "0d5e81f3-802d-4c71-8f36-9e323e59826e"
      },
      "execution_count": 23,
      "outputs": [
        {
          "output_type": "execute_result",
          "data": {
            "text/plain": [
              "            id                            name birth_date   gender  \\\n",
              "19041  1122501  Владимир Григорьевич Вейнштейн       1904  мужчина   \n",
              "\n",
              "             place_of_birth               occupation  \\\n",
              "19041  Венгрия, г. Комарово  НИИ-20: Слесарь-механик   \n",
              "\n",
              "                        place_of_residence          execution_place  \\\n",
              "19041  Москва, ул. Горького, д. 110, кв. 3  Московская обл., Бутово   \n",
              "\n",
              "      execution_date age  \n",
              "19041     10.06.1938  34  "
            ],
            "text/html": [
              "\n",
              "  <div id=\"df-83050cc7-f981-4d7a-8834-29ab80ff1bda\" class=\"colab-df-container\">\n",
              "    <div>\n",
              "<style scoped>\n",
              "    .dataframe tbody tr th:only-of-type {\n",
              "        vertical-align: middle;\n",
              "    }\n",
              "\n",
              "    .dataframe tbody tr th {\n",
              "        vertical-align: top;\n",
              "    }\n",
              "\n",
              "    .dataframe thead th {\n",
              "        text-align: right;\n",
              "    }\n",
              "</style>\n",
              "<table border=\"1\" class=\"dataframe\">\n",
              "  <thead>\n",
              "    <tr style=\"text-align: right;\">\n",
              "      <th></th>\n",
              "      <th>id</th>\n",
              "      <th>name</th>\n",
              "      <th>birth_date</th>\n",
              "      <th>gender</th>\n",
              "      <th>place_of_birth</th>\n",
              "      <th>occupation</th>\n",
              "      <th>place_of_residence</th>\n",
              "      <th>execution_place</th>\n",
              "      <th>execution_date</th>\n",
              "      <th>age</th>\n",
              "    </tr>\n",
              "  </thead>\n",
              "  <tbody>\n",
              "    <tr>\n",
              "      <th>19041</th>\n",
              "      <td>1122501</td>\n",
              "      <td>Владимир Григорьевич Вейнштейн</td>\n",
              "      <td>1904</td>\n",
              "      <td>мужчина</td>\n",
              "      <td>Венгрия, г. Комарово</td>\n",
              "      <td>НИИ-20: Слесарь-механик</td>\n",
              "      <td>Москва, ул. Горького, д. 110, кв. 3</td>\n",
              "      <td>Московская обл., Бутово</td>\n",
              "      <td>10.06.1938</td>\n",
              "      <td>34</td>\n",
              "    </tr>\n",
              "  </tbody>\n",
              "</table>\n",
              "</div>\n",
              "    <div class=\"colab-df-buttons\">\n",
              "\n",
              "  <div class=\"colab-df-container\">\n",
              "    <button class=\"colab-df-convert\" onclick=\"convertToInteractive('df-83050cc7-f981-4d7a-8834-29ab80ff1bda')\"\n",
              "            title=\"Convert this dataframe to an interactive table.\"\n",
              "            style=\"display:none;\">\n",
              "\n",
              "  <svg xmlns=\"http://www.w3.org/2000/svg\" height=\"24px\" viewBox=\"0 -960 960 960\">\n",
              "    <path d=\"M120-120v-720h720v720H120Zm60-500h600v-160H180v160Zm220 220h160v-160H400v160Zm0 220h160v-160H400v160ZM180-400h160v-160H180v160Zm440 0h160v-160H620v160ZM180-180h160v-160H180v160Zm440 0h160v-160H620v160Z\"/>\n",
              "  </svg>\n",
              "    </button>\n",
              "\n",
              "  <style>\n",
              "    .colab-df-container {\n",
              "      display:flex;\n",
              "      gap: 12px;\n",
              "    }\n",
              "\n",
              "    .colab-df-convert {\n",
              "      background-color: #E8F0FE;\n",
              "      border: none;\n",
              "      border-radius: 50%;\n",
              "      cursor: pointer;\n",
              "      display: none;\n",
              "      fill: #1967D2;\n",
              "      height: 32px;\n",
              "      padding: 0 0 0 0;\n",
              "      width: 32px;\n",
              "    }\n",
              "\n",
              "    .colab-df-convert:hover {\n",
              "      background-color: #E2EBFA;\n",
              "      box-shadow: 0px 1px 2px rgba(60, 64, 67, 0.3), 0px 1px 3px 1px rgba(60, 64, 67, 0.15);\n",
              "      fill: #174EA6;\n",
              "    }\n",
              "\n",
              "    .colab-df-buttons div {\n",
              "      margin-bottom: 4px;\n",
              "    }\n",
              "\n",
              "    [theme=dark] .colab-df-convert {\n",
              "      background-color: #3B4455;\n",
              "      fill: #D2E3FC;\n",
              "    }\n",
              "\n",
              "    [theme=dark] .colab-df-convert:hover {\n",
              "      background-color: #434B5C;\n",
              "      box-shadow: 0px 1px 3px 1px rgba(0, 0, 0, 0.15);\n",
              "      filter: drop-shadow(0px 1px 2px rgba(0, 0, 0, 0.3));\n",
              "      fill: #FFFFFF;\n",
              "    }\n",
              "  </style>\n",
              "\n",
              "    <script>\n",
              "      const buttonEl =\n",
              "        document.querySelector('#df-83050cc7-f981-4d7a-8834-29ab80ff1bda button.colab-df-convert');\n",
              "      buttonEl.style.display =\n",
              "        google.colab.kernel.accessAllowed ? 'block' : 'none';\n",
              "\n",
              "      async function convertToInteractive(key) {\n",
              "        const element = document.querySelector('#df-83050cc7-f981-4d7a-8834-29ab80ff1bda');\n",
              "        const dataTable =\n",
              "          await google.colab.kernel.invokeFunction('convertToInteractive',\n",
              "                                                    [key], {});\n",
              "        if (!dataTable) return;\n",
              "\n",
              "        const docLinkHtml = 'Like what you see? Visit the ' +\n",
              "          '<a target=\"_blank\" href=https://colab.research.google.com/notebooks/data_table.ipynb>data table notebook</a>'\n",
              "          + ' to learn more about interactive tables.';\n",
              "        element.innerHTML = '';\n",
              "        dataTable['output_type'] = 'display_data';\n",
              "        await google.colab.output.renderOutput(dataTable, element);\n",
              "        const docLink = document.createElement('div');\n",
              "        docLink.innerHTML = docLinkHtml;\n",
              "        element.appendChild(docLink);\n",
              "      }\n",
              "    </script>\n",
              "  </div>\n",
              "\n",
              "\n",
              "  <div id=\"id_f3765e35-345d-41d3-9bb9-ef264eb6a93b\">\n",
              "    <style>\n",
              "      .colab-df-generate {\n",
              "        background-color: #E8F0FE;\n",
              "        border: none;\n",
              "        border-radius: 50%;\n",
              "        cursor: pointer;\n",
              "        display: none;\n",
              "        fill: #1967D2;\n",
              "        height: 32px;\n",
              "        padding: 0 0 0 0;\n",
              "        width: 32px;\n",
              "      }\n",
              "\n",
              "      .colab-df-generate:hover {\n",
              "        background-color: #E2EBFA;\n",
              "        box-shadow: 0px 1px 2px rgba(60, 64, 67, 0.3), 0px 1px 3px 1px rgba(60, 64, 67, 0.15);\n",
              "        fill: #174EA6;\n",
              "      }\n",
              "\n",
              "      [theme=dark] .colab-df-generate {\n",
              "        background-color: #3B4455;\n",
              "        fill: #D2E3FC;\n",
              "      }\n",
              "\n",
              "      [theme=dark] .colab-df-generate:hover {\n",
              "        background-color: #434B5C;\n",
              "        box-shadow: 0px 1px 3px 1px rgba(0, 0, 0, 0.15);\n",
              "        filter: drop-shadow(0px 1px 2px rgba(0, 0, 0, 0.3));\n",
              "        fill: #FFFFFF;\n",
              "      }\n",
              "    </style>\n",
              "    <button class=\"colab-df-generate\" onclick=\"generateWithVariable('example')\"\n",
              "            title=\"Generate code using this dataframe.\"\n",
              "            style=\"display:none;\">\n",
              "\n",
              "  <svg xmlns=\"http://www.w3.org/2000/svg\" height=\"24px\"viewBox=\"0 0 24 24\"\n",
              "       width=\"24px\">\n",
              "    <path d=\"M7,19H8.4L18.45,9,17,7.55,7,17.6ZM5,21V16.75L18.45,3.32a2,2,0,0,1,2.83,0l1.4,1.43a1.91,1.91,0,0,1,.58,1.4,1.91,1.91,0,0,1-.58,1.4L9.25,21ZM18.45,9,17,7.55Zm-12,3A5.31,5.31,0,0,0,4.9,8.1,5.31,5.31,0,0,0,1,6.5,5.31,5.31,0,0,0,4.9,4.9,5.31,5.31,0,0,0,6.5,1,5.31,5.31,0,0,0,8.1,4.9,5.31,5.31,0,0,0,12,6.5,5.46,5.46,0,0,0,6.5,12Z\"/>\n",
              "  </svg>\n",
              "    </button>\n",
              "    <script>\n",
              "      (() => {\n",
              "      const buttonEl =\n",
              "        document.querySelector('#id_f3765e35-345d-41d3-9bb9-ef264eb6a93b button.colab-df-generate');\n",
              "      buttonEl.style.display =\n",
              "        google.colab.kernel.accessAllowed ? 'block' : 'none';\n",
              "\n",
              "      buttonEl.onclick = () => {\n",
              "        google.colab.notebook.generateWithVariable('example');\n",
              "      }\n",
              "      })();\n",
              "    </script>\n",
              "  </div>\n",
              "\n",
              "    </div>\n",
              "  </div>\n"
            ],
            "application/vnd.google.colaboratory.intrinsic+json": {
              "type": "dataframe",
              "variable_name": "example",
              "repr_error": "0"
            }
          },
          "metadata": {},
          "execution_count": 23
        }
      ]
    },
    {
      "cell_type": "code",
      "source": [
        "from src.cards import RawCard\n",
        "from src import ai_prompts\n",
        "\n",
        "KEEP_COLS = ['id', 'name', 'age', 'gender', 'place_of_birth', 'place_of_residence', 'occupation', 'execution_date', 'execution_place']\n",
        "\n",
        "record = RawCard(**example[KEEP_COLS].to_dict(orient='records')[0])\n",
        "card = record.pretty_print_without_id()\n",
        "print(card)"
      ],
      "metadata": {
        "colab": {
          "base_uri": "https://localhost:8080/"
        },
        "id": "GTlX148sISxY",
        "outputId": "6fbd5a03-8e5b-44b6-91c8-1ce2c20828db"
      },
      "execution_count": 24,
      "outputs": [
        {
          "output_type": "stream",
          "name": "stdout",
          "text": [
            "\n",
            "Имя Отчество Фамилия: Владимир Григорьевич Вейнштейн  \n",
            "Возраст: 34\n",
            "Пол: мужчина\n",
            "Место рождения: Венгрия, г. Комарово\n",
            "Род занятий: НИИ-20: Слесарь-механик\n",
            "Дата расстрела: 10.06.1938\n",
            "Место расстрела: Московская обл., Бутово      \n",
            "\n"
          ]
        }
      ]
    },
    {
      "cell_type": "markdown",
      "source": [
        "The production model's messages to send to OPEN AI consists of:\n",
        "- system message 1: this is the prompt.\n",
        "  - We asked LLM to be a competent editor that creates cards for people to read loud in an event.\n",
        "  - We asked to expand the abbreviations\n",
        "  - We asked to expand correclty geographical objects from the USSR time\n",
        "  - We asked to correct grammatical errors\n",
        "  - We asked to return the card in the following format:\n",
        "    - first row: Name\n",
        "    - second row: Age\n",
        "    - third row: the place where the person was born\n",
        "    - forth row: short biography of the person (occupation and where lived if the place of birth is different from the place of the birth)\n",
        "    - fifth row: information about the death\n",
        "- system message 2: we added information from the Russian abbreviation dictionary here. We extracted the abbreviations that might be useful through RAG\n",
        "- assistent message: examples of the good cards\n",
        "- user message: input information from which we want to create the card for reading during the commemoration"
      ],
      "metadata": {
        "id": "GVSODYjYaCOw"
      }
    },
    {
      "cell_type": "code",
      "source": [
        "# Get the prompt for OPEN AI (messages) for this particular example\n",
        "# You can see that in the 2nd system message there is explanation of \"Ушосдор\", \"УНКВД\"\n",
        "messages = input_to_client.get_messages(record)\n",
        "messages"
      ],
      "metadata": {
        "colab": {
          "base_uri": "https://localhost:8080/"
        },
        "id": "ahViTmmMIS2Q",
        "outputId": "5a666e8b-b68b-43dc-b4af-60168c551959"
      },
      "execution_count": 30,
      "outputs": [
        {
          "output_type": "execute_result",
          "data": {
            "text/plain": [
              "[{'role': 'system',\n",
              "  'content': [{'type': 'text',\n",
              "    'text': '\\nТы - грамотный редактор, феминист. \\nТвоя задача - подготовить для зачитывания карточку о расстрелянном человеке.\\nКарточка должна звучать естественно и красиво. Нельзя использовать бюрократический и канцелярский язык.\\n\\nВерни текст, в котором раскрыты сокращения, и согласованы все падежи и формы слов.\\nНе раскрывай самые распространенные сокращения, такие как Советская Социалистическая Республика, СССР.\\nВсегда используй справочник https://abbr_rus.academic.ru/ . Если возможно несколько вариантов, оставь сокращение как есть. \\nПодумай хорошо над сокращением.\\nПри раскрытии сокращений перед населенными пунктами используй знание о настоящих географических объектах времен Советского Союза.\\nPlease pay extra attention on expanding abbreviations. For example, пуст. should be пустоши, but not поселке or пустыне.\\nИспользуй названия настоящих населенных пунктов. Если надо, исправь написание на правильное, везде, кроме имен.\\nНапример, вместо Полотск должен быть Полоцк \\n\\nИсправь грамматические ошибки во входных данных\\nДанные могут быть неполными или неточными.\\nФормат возвращаемой карточки должен быть такой\\n\\nПервая стока: имя человека.\\nВторая строка: возраст.\\nТретья строка:\\n\"Родился в\" или \"Родилась в\" (в зависимости от пола) и дальше место рождения.\\nЕсли место рождения неизвестно, напиши \"Место рождения неизвестно\"\\nТип населенного пункта указывай – только если это НЕ город.  \\nВ поле “регион” указывай области и страны – если это единственное, что известно.\\nПример: “деревня Рвы Ленинградской области”, то есть сначала населенный пункт, потом город.\\n\\n\\nЧетвертая строка: краткая информация о жизни человека.\\nЕсли место рождения и место проживания человека совпадают, используй только \\'родился\\' и не добавляй \\'жил\\'. Если места разные, укажи оба: сначала \\'родился\\', а затем \\'жил\\'.\\nНазвание “профессии” в именительном падеже, “место работы” в именительном падеже и добавляем информацию из “места проживания”\\nИспользуй разговорный стиль. Но старайся использовать меньше запятых. Используй лучше короткие предложения. Тип населенного пункта указывай – только если это НЕ город.\\nНапример, вместо \"Облпрамсоюз, фотограф в городе Хабаровск\" должно быть \"Фотограф в Облпрамсоюзе в Хабаровске\"\\nНЕ пиши \"Работал\". \"Был\" можно добавить чтобы текст был более разговорным и менее формальным. Но лучше текст без глагола. Например, вместо \"Был единоличником и жил в селе Буланиха Бийского района\" надо \"Крестьянин единоличник в селе Буланиха Бийского района\"\\nЕсли будет единоличник, пиши крестьянин-единоличник, так как это делает профессию менее негативной. Старайся профессии изменять так чтобы они звучали нейтрально или позитивно.\\nЕсли заключенный, то не пиши глагол \"жил\" или \"проживал\" в лагере. Например, вместо \"ЗАКЛЮЧЕННЫЙ В БЕЛБАЛТЛАГЕ, ЖИЛ В МЕДВЕЖЬЕГОРСКОМ РАЙОНЕ КАРЕЛЬСКОЙ АССР\" надо \"ЗАКЛЮЧЕННЫЙ В БЕЛОМОРСКО-БАЛТИЙСКОМ\\nИСПРАВИТЕЛЬНО-ТРУДОВОМ ЛАГЕРЕ\"  \\n\\nПятая строка: Расстрелян(-а) [Дата расстрела] в [Место расстрела]\\nФорма глагола определяется в зависимости от пола.\\nВ место расстрела указывай тип населенного пункта  – только если это НЕ город. Например, вместо \"Расстрелян 5 июля 1931 года в городе Бийске\" должно быть \"Расстрелян 5 июля 1931 года в Бийске\"\\nPay extra attention to Место расстрела. Please cross-reference those places with the known memorials to the victims of Soviet political repression\\nПоле “Дата расстрела” число – цифрой, месяц – словом, год – четыре цифры: например, 1 февраля 1938 года\\n\\nВерни только эти пять строк.\\nИспользуй только русский язык и русские буквы. Не используй английские буквы. Не используй английские слова.\\n'}]},\n",
              " {'role': 'system',\n",
              "  'content': [{'type': 'text',\n",
              "    'text': '\\nИспользуй этот справочник для расшифровки аббревиатур\\n\\nобл. — область\\n    \"обл—\": \"областной, -ая, -ое\",\\n    \"облоно\": \"областной отдел народного образования\",\\n    \"облот\": \"областной отдел\",\\n    \"обл.\": \"ц. областной центр\",\\n    \"облархив\": \"областное архивное управление\",\\n    \"областном\": \"областной комитет\",\\n    \"облводхоз\": \"областное водное хозяйство\",\\n    \"облгосстрах\": \"областная контора государственного* страхования\",\\n    \"^облгфофсовет\": \"областной совет профессиональных союзов\",\\n    \"облдортрансы\": \"областные органы управления шоссейных и грунтовых дорог и автомобильного транспорта\",\\n    \"облжилотдел\": \"областной жилищный отдел\",\\n    \"облзагот\": \"областной заготовительный пункт\",\\n    \"облздравотдел\": \"областной отдел здравоохранения\",\\n    \"облземотдел\": \"областной земельный отдел\",\\n    \"облземупр\": \"областное земельное управление\",\\n    \"облзо\": \"областной земельный отдел\",\\n    \"облзу\": \"областное земельное управление\",\\n    \"облизбиркомы\": \"областные избирательные комиссии по перевыборам в советы депутатов трудящихся\",\\n    \"облик\": \"облисполком) — областной исполнительный комитет\",\\n    \"облком\": \"областной комитет\",\\n    \"облкомхоз\": \"областной отдел коммунального хозяйства\",\\n    \"обллегпром\": \"легкая промышленность области\",\\n    \"облместтоп\": \"областное управление местного топлива\",\\n    \"Облмостор\": \"Московское областное предприятие оптоворозничной торговли\",\\n    \"облпартком\": \"областной партийный комитет\",\\n    \"облпарткурсы\": \"областные партийные курсы\",\\n    \"облпищепром\": \"областной союз пищевой промышленности\",\\n    \"облпшцеторг\": \"областное торговое отделение пищевых продуктов\",\\n    \"облплан\": \"областная плановая комиссия\",\\n    \"облполитпросветценгр\": \"областной политико-просветительный\" центр\",\\n    \"облпотребсоюз\": \"областной потребительский союз\",\\n    \"облправсвязь\": \"областное правление связи\",\\n    \"облпромсовет\": \"областной промышленный совет\",\\n    \"облсберкасса\": \"областная сберегательная касса\",\\n    \"облсвязь\": \"областное управление связи\",\\n    \"облсобес\": \"областной отдел социального обеспечения\",\\n    \"облетатбюро\": \"областное статистическое бюро\",\\n    \"^облтоппром\": \"областная топливная промышленность\",\\n    \"^облторі\": \"отдел — областной торговый отдел\",\\n    \"облунху\": \"областное управление народнохозяйственного учета\",\\n    \"облфизкульт\": \"областной комитет по делам физической культуры и спорта\",\\n    \"облфинотдел\": \"облФО) — областной финансовый отдел\",\\nНИИ — научно-исследовательский институт\\n    \"НИИАП\": \"Научно-исследовательский институт автоприборов\",\\n    \"НИИАЭП\": \"Научно-исследовательский институт автоэлектроприборов\",\\n    \"НИИВ\": \"Научно-исследовательский институт вискозы, Научно-исследовательский институт искусственного волокна\",\\n    \"НИИВВС\": \"Научно-исследовательский институт военно-воздушных сил\",\\n    \"НИИГ\": \"Научно-исследовательский институт гидротехники\",\\n    \"нииги\": \"Научно-исследовательский институт гипса и извести\",\\n    \"НИИгорнеруд\": \"Научно-исследовательский институт горнорудной промышленности\",\\n    \"НИИГРП\": \"Научно-исследовательский институт горнорудной промышленности\",\\n    \"НИИГТ\": \"Научно-исследовательский институт грузового транспорта\",\\n    \"НИИЖБС\": \"НИИже— Научно-исследовательский институт лезобетон) железобетонного строительства, НИИЖТ — Научно-исследовательский институт железнодорожного транспорта\",\\n    \"НИИЗ\": \"Научно-исследовательский институт зерна и продуктові его переработки, Научно-исследовательский институт зоологии\",\\n    \"ниикп\": \"Научно-исследовательский институт кабельной промышленности, Научно-исследовательский институт . кожевенной промышленности\",\\n    \"ниилв\": \"Научно-исследовательский институт лубяных волокон\",\\n    \"ниилк\": \"Научно-исследовательский институт лаков и красок\",\\n    \"ниим\": \"Научно-исследовательский институт мостов\",\\n    \"НИИМАШ\": \"Научно-исследовательский институт машиностроения\",\\n    \"ниимм\": \"Научно-исследовательский институт математики и механики\",\\n    \"ниимп\": \"Научно-исследовательский институт мясной промышленности\",\\n    \"ниимх\": \"Научно-исследовательский институт мясного хозяйства\",\\n    \"ниио\": \"Научно-исследовательский институт оленеводства\",\\n    \"ниипг\": \"Научно-исследовательский институт прикладной геофизики\",\\n    \"ниипм\": \"Научно-исследовательский институт пластических масс\",\\n    \"ниипп\": \"Научно-исследовательский институт подшипниковой промышленности\",\\n    \"ниипс\": \"Научно-исследовательский институт пути и строительства\",\\n    \"ниипш\": \"Научно-исследовательский институт швейной промышленности, Научноисследовательский институт шелковой промышленности, Научно-исследовательский институт шерстяной промышленности\",\\n    \"НИИРТ\": \"Научно-исследовательский институт радиовещания и телевидения\",\\n    \"ниис\": \"Научно-исследовательский институт свиноводства, Научно-исследовательский институт связи, Научно-исследовательский институт стекла\",\\n    \"НИИСалюминий\": \"Научно-исследовательский институт легких металлов!\",\\n    \"нииси\": \"Научно-исследовательский испытательный санитарный институт\",\\n    \"ниит\": \"Научно-исследовательский институт транспорта\",\\n    \"ниитн\": \"Научно-исследовательский институт технического нормирования\",\\n    \"ниитвч\": \"Научно-исследовательский институт токов высокой частоты\",\\n    \"ниитп\": \"Научно-исследовательский институт текстильной промьпыленностй, Научно-исследовательский институт трикотажной промышленности\",\\n    \"ниитяж\": \"Научно-исследовательский институт тяжелого машиностроения\",\\n    \"ниих\": \"Научно-исследовательский институт химии\",\\n    \"НИИХиммаш\": \"Научно-исследовательский институт химических машин\",\\n    \"нииш\": \"Научно-исследовательский институт по школьному образованию\",\\n'}]},\n",
              " {'role': 'assistant',\n",
              "  'content': [{'type': 'text',\n",
              "    'text': '\\nНиже правильные примеры оформления, разделенные пустой строкой\\n\\nАвдеев Никита Трофимович\\n63 года\\nРодился в Пензенской области\\nБанщик на станции Студенец\\nРасстрелян 29 декабря 1937 года\\n\\nАкатов Василий Ефремович\\n48 лет\\nРодился в Тамбовской области \\nсчетовод Сердобского Воен-торга\\nРасстрелян 3 января 1938 года\\n\\nНиколай Иванович Елисеев  \\n49 лет  \\nРодился в Саратовской губернии  \\nЗаведовал отделением треста \"Барторгин\" и жил на станции Повалиха в Барнаульском сельском районе  \\nРасстрелян 17 марта 1938 года в Барнауле\\n\\nАлимов Илья Андреевич\\n65 лет\\nРодился в Пензенской области \\nкрестьянин-единоличник села Синодское\\nРасстрелян 14 января 1938 года в Вольске Саратовской области\\n\\nАсеев Василий Иванович\\n36 лет\\nРодился в Курской губернии \\nстарший счетовод  депо Пенза-1 Ленинской железной дороги\\nРасстрелян 1 декабря 1937 года\\n\\nАлимов Никифор Дмитриевич\\n49 лет\\nРодился в Пензенской области \\nкрестьянин-единоличник села Марьевка Лунинского района\\nРасстрелян 14 января 1939 года в Вольске Саратовской области\\n\\nБаранова Ксения Никитична\\n40 лет\\nРодилась в Пензенской области \\nбывшая монахиня \\nРасстреляна 21 декабря 193 года\\n\\n\\n\\nБаткаев Ибрагим Хуснетдинович\\n47 лет\\nРодился в Пензенской области \\nколхозник колхоза \"Яны-тормыш\" села Кикино Каменского района\\nРасстрелян 4 февраля 1938 года\\n\\nБелавин Михаил Захарович\\n68 лет\\nРодился в Пензенской области \\nсторож Сосновского сельпо в селе Вертуновка\\nРасстрелян 9 декабря 1937 года\\n\\nБлинов Василий Алексеевич\\n51 год\\nРодился в Пензенской области \\nконюх артель инвалидов в селе Беково\\nРасстрелян 3 января 1938 года\\n\\nБогомолов Степан Федорович\\n39 лет\\nРодился в Пензенской области \\nсекретарь Нижнеломовского Райкома ВКП(б), \\nРасстрелян 25 октября 1938 года\\n\\nБогонин Михаил Сергеевич\\n70 лет\\nРодился в Пензенской области , \\nЧлен колхоза \"Политотделец\" в селе Бессоновка\\nРасстрелян 3 декабря 1937 года\\n\\nБодрухин Федор Михайлович\\n39 лет\\nРодился в Пензенской области \\nгрузчик на  железнодорожной станции Ртищево\\nОбвинен был в том, что: «проводил вредительские действия, выводя машины из строя»\\nРасстрелян 28 декабря 1937 года\\n\\nБожников Александр Андреевич\\n19 лет\\nРодился в Пензенской области \\nтракторист Синодской машинно-тракторной станции  \\nРасстрелян 14 января 1938 года Вольске Саратовской области\\n\\nБуканов Сергей Васильевич\\n37 лет\\nРодился в Московской области \\nпредседатель Беднодемьяновского Райисполкома Пензенской области\\nРасстрелян 27 мая 1938 года\\n\\nВаншев Иван Федорович\\n33 года\\nРодился в Пензенской области \\nкрестьянин-единоличник в селе Синдоское\\nРасстрелян 14 января 1938 года в Вольске Саратовской области\\n\\nВасенькин Павел Ефимович\\n42 года\\nРодился в Саратовской области \\nрабочий совхоза \"Даниловский\"\\nРасстрелян 31 декабря 1937 года\\n\\nВашаев Владимир Иванович\\n52 года\\nРодился в Пензенской области  \\nколхозник колхоза имени Кагановича в селе Бессоновка\\nРасстрелян 3 декабря 1937 года\\n\\nВиноградов Александр Александрович\\n51 год\\nРодился в Пензенской области , \\nучитель трудового воспитания в Сердобском детским доме \\nРасстрелян 15 февраля 1938 года\\n\\nВрагов Василий Федорович\\n61 год\\nРодился в Пензенской области , \\nкрестьянин-единоличник из крестьян-кулаков села Каменка\\nРасстрелян 29 декабря 1937 года\\n\\nГенералов Иван Осипович\\n56 лет\\nРодился в Пензенской области \\nколхозник колхоза имени Ленина села Студенец\\nРасстрелян 29 декабря 1937 года\\n\\nГорелкин Михаил Иванович\\n34 года\\nРодился в Пензенской области\\nпекарь Бековской Пекарни. Обвинен в том, что: «восхвалял капиталистический строй, распространял провокационные слухи о голоде в СССР»\\nРасстрелян 23 ноября 1937 года\\n\\nГрицаев Андрей Иванович\\n48 лет\\nРодился в Николаевске-на-Амуре\\nмашинист электростанция при железнодорожной станции Земетчино \\nРасстрелян 22 января 1938 года\\n\\nДенисова Елена Васильевна\\n49 лет\\nРодилась в Пензенской области \\nколхозница колхоза \"Активист\"\\nРасстреляна 10 декабря 1937 года\\n\\nДорошкевич Антон Игнатьевич\\n63 года\\nРодился в  Белоруссии, в Гродненской области  \\nветфельдшер совхоза имени \"ОГПУ\" в городе Нижний Ломов\\nРасстрелян 11 сентября 1938 года\\n\\nДудин Петр Дмитриевич\\n37 лет\\nРодился в Пензенской области \\nкрестьянин-единоличник в селе Телегино\\nРасстрелян 14 января 1938 года в Вольске Саратовской области\\n\\nЕвсеев Михаил Иванович\\n48 лет\\nРодился в Пензенской области\\nколхозник колхоза села  Верхозим Даниловского района\\nРасстрелян 5 декабря 1937 года\\n\\nЕмельянов Георгий Семенович\\n40 лет\\nРодился в Москве  \\nполковник РККА, преподаватель Пензенского Кавалерийского училища \\nРасстрелян 16 мая 1938 года\\n\\nЕфремов Василий Осипович\\n45 лет\\nРодился в Пензенской области \\nколхозник колхоза имени Ворошилова. Обвинен в том, что: «проводил контрреволюционную  агитацию против Советской власти, восхвалял жизнь капиталистических стран»\\nРасстрелян 3 января 1938 года\\n\\nЖегулов Степан Акимович\\n47 лет\\nРодился в Пензенской области \\nиз крестьян-кулаков, плотник конторы Загот-зерно\\nРасстрелян 29 декабря 1937 года\\n\\nЖуравлева Евдокия Михайловна\\n38 лет\\nРодилась в Пензенской области \\nсторож церкви в Сердобске\\nРасстреляна 9 декабря 1937 года\\n\\nЗабродин Иван Тихонович\\n55 лет\\nРодился в Пензенской области\\nколхозник колхоз деревне Покровка \\nРасстрелян 28 декабря 1937 года\\n\\nЗаев Михаил Андреевич\\n45 лет\\nРодился в Московской области \\nЗаведующий мастерской Урлейского колхоз \"Ударник\" \\nРасстрелян 7 февраля 1938 года в  Пензе\\n\\nЗайцев Иван Егорович\\n39 лет\\nРодился в Республики Немцев Поволжья\\nпомощник директора по политчасти Синодской машинно-тракторной станции.  \\nРасстрелян 5 августа 1937 года\\n\\nЗябликов Лазарь Кириллович\\n57 лет\\nРодился в Пензенской области  \\nколхозник колхоза имени Красного Октября \\nРасстрелян 7 октября 1937 года\\n\\nИрышков Василий Иванович\\n59 лет\\nРодился в Пензенской области \\nколхозник колхоза имени Кагановича в селе Бессоновка\\nРасстрелян 3 декабря 1937 года\\n\\nИрышков Федор Степанович\\n72 года\\nРодился в Пензенской области  \\nчлен колхоза имени Кагановича села Бессоновка\\nРасстрелян 3 декабря 1937 года\\n\\nКабанова Ирина Дементьевна\\n48 лет\\nРодилась в Пензенской области \\nНе работала \\nРасстреляна 31 декабря 1937 года\\n\\nКамышонков Иван Федорович\\n43 года\\nРодился в Пензенской области \\nкрестьянин-единоличник,  из крестьян-кулаков села Синодское\\nРасстрелян 14 января 1938 года\\n\\nКанеев Абдулла Аллямович\\n55 лет\\nРодился в Пензенской области \\nбез определенных занятий, бывший мулла\\nРасстрелян 4 февраля1938 года\\n\\nПетр Гергиевич Кащеев\\n32 года\\nРодился в Оренбурге\\nпредседатель Наровчатовсого Райисполкома\\nРасстрелян 25 октября 1938 года в Пензе\\n\\nКвашнин Иван Васильевич\\n57 лет\\nРодился в Пензенской области \\nкрестьян села Верхозим\\nРасстрелян 23 ноября 1937 года\\n'}]},\n",
              " {'role': 'user',\n",
              "  'content': [{'type': 'text',\n",
              "    'text': '\\nИмя Отчество Фамилия: Владимир Григорьевич Вейнштейн  \\nВозраст: 34\\nПол: мужчина\\nМесто рождения: Венгрия, г. Комарово\\nРод занятий: НИИ-20: Слесарь-механик\\nДата расстрела: 10.06.1938\\nМесто расстрела: Московская обл., Бутово      \\n'}]}]"
            ]
          },
          "metadata": {},
          "execution_count": 30
        }
      ]
    },
    {
      "cell_type": "code",
      "source": [
        "# We used temperature=0 to eliminate hallucinations\n",
        "\n",
        "print(f\"The model is: {input_to_client.model}\")\n",
        "completion = await client.chat.completions.create(\n",
        "            model=input_to_client.model, messages=messages, temperature=0\n",
        "        )\n",
        "result = completion.choices[0].message.content\n",
        "print(\"The production model result:\\n\")\n",
        "print(result)\n",
        "print()"
      ],
      "metadata": {
        "colab": {
          "base_uri": "https://localhost:8080/"
        },
        "id": "uLbNmD9BIS6c",
        "outputId": "b277dcae-76a7-4cd3-fdb4-27893eca3d7a"
      },
      "execution_count": 31,
      "outputs": [
        {
          "output_type": "stream",
          "name": "stdout",
          "text": [
            "The model is: gpt-4o\n",
            "The production model result:\n",
            "\n",
            "Вейнштейн Владимир Григорьевич  \n",
            "34 года  \n",
            "Родился в городе Комарово в Венгрии  \n",
            "Слесарь-механик в Научно-исследовательском институте-20  \n",
            "Расстрелян 10 июня 1938 года в Бутово Московской области  \n",
            "\n"
          ]
        }
      ]
    },
    {
      "cell_type": "markdown",
      "source": [
        "## Optimization of the production model\n",
        "\n",
        "Since the gpt-4o-mini is a worse model than gpt-4o, we optimize the gpt-4o-mini in order to see the improvements. This will help us to understand the direction we need to go to improve further the gpt-4o model for this task.\n",
        "\n",
        "The reason why we optimize the mini-model is that we collected all good examples where the model didn't work for mini-model. We don't have good examples where the full model doesn't work.\n",
        "\n",
        "We assume that all steps we do that improves the mini model will improve better model (the full model)\n"
      ],
      "metadata": {
        "id": "d8igsu_Vdx73"
      }
    },
    {
      "cell_type": "markdown",
      "source": [
        "#### Examples of the gpt-4o-mini defficiencies"
      ],
      "metadata": {
        "id": "x4tnEwAVIk0L"
      }
    },
    {
      "cell_type": "markdown",
      "source": [
        "The result of the mini model is not bad. Only thing the mini model didn't expand \"Норильлага\".\n",
        "\n",
        "Let's check examples where the mini model fails to compare to the full model"
      ],
      "metadata": {
        "id": "jacP6p6gfIUt"
      }
    },
    {
      "cell_type": "code",
      "source": [
        "# Example of the mini model that hallucinates (wrongly expands the abbreviations): Зав. сектором горЗО\n",
        "# the full model gives the right answer (right expantion of 'горЗО') with and without RAG\n",
        "\n",
        "id = 1222123 # горЗО\n",
        "record = df.loc[df.id == id, KEEP_COLS].to_dict(orient='records')[0]\n",
        "record = RawCard(**record)\n",
        "card = record.pretty_print_without_id()\n",
        "print(card)\n",
        "print()\n",
        "print(f\"The prod model stems: {record.get_stems()}\")\n",
        "print()\n",
        "custom = ai_prompts.get_sub(record.get_stems())\n",
        "print(f\"The length of the additional prompt created through RAG: {len(custom.split(chr(10)))}\")\n"
      ],
      "metadata": {
        "colab": {
          "base_uri": "https://localhost:8080/"
        },
        "id": "Zj7eozt7zhXu",
        "outputId": "d2e94aff-24ea-4b04-c11a-78c99b077207"
      },
      "execution_count": null,
      "outputs": [
        {
          "output_type": "stream",
          "name": "stdout",
          "text": [
            "\n",
            "Имя Отчество Фамилия: Венедикт Иванович Катков  \n",
            "Возраст: 31\n",
            "Пол: мужчина\n",
            "Место рождения: None\n",
            "Род занятий: Зав. сектором горЗО\n",
            "Дата расстрела: 01.07.1938\n",
            "Место расстрела: г. Барнаул      \n",
            "\n",
            "\n",
            "The prod model stems: {'зав', 'барна', 'гор', 'сектор'}\n",
            "\n",
            "The length of the additional prompt created through RAG: 61\n"
          ]
        }
      ]
    },
    {
      "cell_type": "code",
      "source": [
        "# the production model\n",
        "messages = input_to_client.get_messages(record)\n",
        "completion = await client.chat.completions.create(\n",
        "            model=input_to_client.model, messages=messages, temperature=0\n",
        "        )\n",
        "result = completion.choices[0].message.content\n",
        "print(\"The production model:\\n\")\n",
        "print(result)\n",
        "print()\n",
        "print(f\"Total length of additional prompt: {len(messages[1]['content'][0]['text'])}\")\n",
        "print(f\"Number of abbr in the additional prompt: {len(messages[1]['content'][0]['text'].split(chr(10)))}\")\n",
        "\n",
        "# the production model without RAG. It's shown why we need RAG\n",
        "messages_wo_abbr = [m for i, m in enumerate(messages) if i != 1]\n",
        "completion = await client.chat.completions.create(\n",
        "            model=input_to_client.model, messages=messages_wo_abbr, temperature=0\n",
        "        )\n",
        "result = completion.choices[0].message.content\n",
        "print()\n",
        "print(f\"The {input_to_client.model} without RAG\\n\")\n",
        "print(result)\n",
        "\n",
        "# check the second attempt for the production model without RAG (sometimes it gives the correct answer)\n",
        "completion = await client.chat.completions.create(\n",
        "            model=input_to_client.model, messages=messages_wo_abbr, temperature=0\n",
        "        )\n",
        "result = completion.choices[0].message.content\n",
        "print()\n",
        "print(f\"The {input_to_client.model} without RAG, 2nd attempt\\n\")\n",
        "print(result)"
      ],
      "metadata": {
        "colab": {
          "base_uri": "https://localhost:8080/"
        },
        "id": "r_ON4uoe_VBg",
        "outputId": "41fc214a-501f-412b-8b92-4f019db9933f"
      },
      "execution_count": null,
      "outputs": [
        {
          "output_type": "stream",
          "name": "stdout",
          "text": [
            "The production model:\n",
            "\n",
            "Венедикт Иванович Катков  \n",
            "31 год  \n",
            "Место рождения неизвестно  \n",
            "Заведующий сектором городского земельного отдела  \n",
            "Расстрелян 1 июля 1938 года в Барнауле  \n",
            "\n",
            "Total length of additional prompt: 3564\n",
            "Number of abbr in the additional prompt: 65\n",
            "\n",
            "The gpt-4o without RAG\n",
            "\n",
            "Венедикт Иванович Катков  \n",
            "31 год  \n",
            "Место рождения неизвестно  \n",
            "Заведующий сектором городского отдела здравоохранения  \n",
            "Расстрелян 1 июля 1938 года в Барнауле  \n",
            "\n",
            "The gpt-4o without RAG, 2nd attempt\n",
            "\n",
            "Венедикт Иванович Катков  \n",
            "31 год  \n",
            "Место рождения неизвестно  \n",
            "Заведующий сектором городского отдела здравоохранения  \n",
            "Расстрелян 1 июля 1938 года в Барнауле  \n"
          ]
        }
      ]
    },
    {
      "cell_type": "markdown",
      "source": [
        "You can see the production model works well with the knowdledge extracted through RAG. It did't expand correctly \"горЗО\" without RAG. It expanded it as \"отдела здравоохранения\" while it needs to be \"городского земельного отдела\""
      ],
      "metadata": {
        "id": "tKufgQxOl99-"
      }
    },
    {
      "cell_type": "code",
      "source": [
        "# mini model hallucinates even with RAG\n",
        "# it takes the first abbreviations from the RAG list\n",
        "model = \"gpt-4o-mini\"\n",
        "temperature = 0\n",
        "\n",
        "# with RAG\n",
        "messages = input_to_client.get_messages(record)\n",
        "completion = await client.chat.completions.create(\n",
        "            model=model, messages=messages, temperature=temperature\n",
        "        )\n",
        "result = completion.choices[0].message.content\n",
        "print(f\"{model} model with RAG:\\n\")\n",
        "print(result)"
      ],
      "metadata": {
        "colab": {
          "base_uri": "https://localhost:8080/"
        },
        "id": "-tnuD22p3T3I",
        "outputId": "32652d65-f732-4f05-ae1c-89653ee98dcd"
      },
      "execution_count": null,
      "outputs": [
        {
          "output_type": "stream",
          "name": "stdout",
          "text": [
            "gpt-4o-mini model with RAG:\n",
            "\n",
            "Венедикт Иванович Катков  \n",
            "31 год  \n",
            "Место рождения неизвестно  \n",
            "Заведующий сектором городского отдела  \n",
            "Расстрелян 1 июля 1938 года в Барнауле  \n"
          ]
        }
      ]
    },
    {
      "cell_type": "code",
      "source": [
        "# but stopes the hallucination if the correct abbreviation is on the top of the RAG list\n",
        "messages[1]['content'][0]['text'] = re.sub('\"горзо\": \"городской земельный отдел\"','',messages[1]['content'][0]['text'])\n",
        "messages[1]['content'][0]['text'] = '\\nИспользуй этот справочник для расшифровки аббревиатур\\n\\n\"горзо\": \"городской земельный отдел\"' + messages[1]['content'][0]['text'][59:]\n",
        "\n",
        "print(messages[1]['content'][0]['text'][:200])\n",
        "completion = await client.chat.completions.create(\n",
        "            model=model, messages=messages, temperature=temperature\n",
        "        )\n",
        "result = completion.choices[0].message.content\n",
        "print(\"---------------------\")\n",
        "print(result)"
      ],
      "metadata": {
        "colab": {
          "base_uri": "https://localhost:8080/"
        },
        "id": "XMeODzARzRRQ",
        "outputId": "4c0c8608-95a7-4d6a-8fad-db5709583670"
      },
      "execution_count": null,
      "outputs": [
        {
          "output_type": "stream",
          "name": "stdout",
          "text": [
            "\n",
            "Используй этот справочник для расшифровки аббревиатур\n",
            "\n",
            "\"горзо\": \"городской земельный отдел\" \"завод (карт.), заимка (карт.), запад, западный, -ая, -ое (карт.), застава (карт.)\",\n",
            "    \"'завод\": \"Стеклос\n",
            "---------------------\n",
            "Венедикт Иванович Катков  \n",
            "31 год  \n",
            "Место рождения неизвестно  \n",
            "Заведующий сектором городского земельного отдела  \n",
            "Расстрелян 1 июля 1938 года в Барнауле  \n"
          ]
        }
      ]
    },
    {
      "cell_type": "markdown",
      "source": [
        "# Fine-tuning the gpt-4o-mini model\n",
        "- It's not recommended to use fine-tuning to introduce new knowledge to the model. In this case, it's better to use RAG/Knowledge Grapths\n",
        "- Fine-tuning helps with inheriting style, but not so much with hallucinations. The better solution to prevent the hallucinations for our case was RAG\n",
        "\n",
        "We fine-tuned the mini model to see if there are any improvements on the examples where the mini model failed.\n",
        "\n",
        "We used last year's (2023) human created cards as our ground truth for fine-tuning"
      ],
      "metadata": {
        "id": "2-hTJi5ryGGX"
      }
    },
    {
      "cell_type": "code",
      "source": [
        "# Read human generated cards for fine-tuning\n",
        "url = \"https://drive.google.com/file/d/1jAkv2B9EZcuqss8DftFUy2D4t-t6kdGd/view?usp=drive_link\"\n",
        "file_id=url.split('/')[-2]\n",
        "dwn_url='https://drive.google.com/uc?id=' + file_id\n",
        "df2023_cards = pd.read_csv(dwn_url)\n",
        "print(f\"Number of records: {len(df2023_cards)}\")\n",
        "duplicate_ids = df2023_cards.groupby('id').filter(lambda x: len(x) > 1)\n",
        "print(f\"Number of duplicate records: {len(duplicate_ids)}\")\n",
        "# dedupe data\n",
        "df2023_cards = df2023_cards.drop_duplicates(subset=['id'])\n",
        "print(f\"NUmber of records after deduping: {len(df2023_cards)}\")\n",
        "\n",
        "# create a card from columns (the original card has a lot of spaces, so we will ignore it)\n",
        "df2023_cards.loc[:,'card'] = df2023_cards.apply(lambda x: \"\\n\".join([x['name'], x['age'], x['birth_info'], x['occupation'], x['death_info']]), axis=1)\n",
        "\n",
        "# remove the word emphasis\n",
        "df2023_cards.loc[:,'card'] = df2023_cards.card.map(lambda x: re.sub(chr(769),'',x))\n",
        "df2023_cards.fillna('',inplace=True)\n",
        "\n",
        "df2023_cards.head(2)"
      ],
      "metadata": {
        "colab": {
          "base_uri": "https://localhost:8080/",
          "height": 290
        },
        "id": "N6I1WiY5_eY0",
        "outputId": "1bc8770f-5266-477a-9426-1da0f3ce592a"
      },
      "execution_count": 9,
      "outputs": [
        {
          "output_type": "stream",
          "name": "stdout",
          "text": [
            "Number of records: 2972\n",
            "Number of duplicate records: 146\n",
            "NUmber of records after deduping: 2899\n"
          ]
        },
        {
          "output_type": "execute_result",
          "data": {
            "text/plain": [
              "          filename  page_num            id  \\\n",
              "0  2Imena_1258.pdf         0   24363485000   \n",
              "1  2Imena_1258.pdf         1  219618741000   \n",
              "\n",
              "                                 name      age  \\\n",
              "0              ЯКОВ ГУСТАВОВИЧ ВАЙВАР  72 ГОДА   \n",
              "1  АНДРЕЙ КОНСТАНТИНОВИЧ КОНСТАНТИНОВ   55 ЛЕТ   \n",
              "\n",
              "                        birth_info                         occupation  \\\n",
              "0   РОДИЛСЯ В ЛИФЛЯНДСКОЙ ГУБЕРНИИ          ПЕНСИОНЕР, ЖИЛ ВСМОЛЕНСКЕ   \n",
              "1  РОДИЛСЯ И ЖИЛ ВТВЕРСКОЙ ОБЛАСТИ  ЧЕРНОРАБОЧИЙ В КОНТОРЕ ЗАГОТ-СЕНО   \n",
              "\n",
              "                       death_info  \\\n",
              "0  РАССТРЕЛЯН 11 ЯНВАРЯ 1938 ГОДА   \n",
              "1      РАССТРЕЛЯН 29 ОКТЯБРЯ 1941   \n",
              "\n",
              "                                                card  \n",
              "0  ЯКОВ ГУСТАВОВИЧ ВАЙВАР\\n72 ГОДА\\nРОДИЛСЯ В ЛИФ...  \n",
              "1  АНДРЕЙ КОНСТАНТИНОВИЧ КОНСТАНТИНОВ\\n55 ЛЕТ\\nРО...  "
            ],
            "text/html": [
              "\n",
              "  <div id=\"df-e59f8f85-32dd-4989-b545-0d42b00584be\" class=\"colab-df-container\">\n",
              "    <div>\n",
              "<style scoped>\n",
              "    .dataframe tbody tr th:only-of-type {\n",
              "        vertical-align: middle;\n",
              "    }\n",
              "\n",
              "    .dataframe tbody tr th {\n",
              "        vertical-align: top;\n",
              "    }\n",
              "\n",
              "    .dataframe thead th {\n",
              "        text-align: right;\n",
              "    }\n",
              "</style>\n",
              "<table border=\"1\" class=\"dataframe\">\n",
              "  <thead>\n",
              "    <tr style=\"text-align: right;\">\n",
              "      <th></th>\n",
              "      <th>filename</th>\n",
              "      <th>page_num</th>\n",
              "      <th>id</th>\n",
              "      <th>name</th>\n",
              "      <th>age</th>\n",
              "      <th>birth_info</th>\n",
              "      <th>occupation</th>\n",
              "      <th>death_info</th>\n",
              "      <th>card</th>\n",
              "    </tr>\n",
              "  </thead>\n",
              "  <tbody>\n",
              "    <tr>\n",
              "      <th>0</th>\n",
              "      <td>2Imena_1258.pdf</td>\n",
              "      <td>0</td>\n",
              "      <td>24363485000</td>\n",
              "      <td>ЯКОВ ГУСТАВОВИЧ ВАЙВАР</td>\n",
              "      <td>72 ГОДА</td>\n",
              "      <td>РОДИЛСЯ В ЛИФЛЯНДСКОЙ ГУБЕРНИИ</td>\n",
              "      <td>ПЕНСИОНЕР, ЖИЛ ВСМОЛЕНСКЕ</td>\n",
              "      <td>РАССТРЕЛЯН 11 ЯНВАРЯ 1938 ГОДА</td>\n",
              "      <td>ЯКОВ ГУСТАВОВИЧ ВАЙВАР\\n72 ГОДА\\nРОДИЛСЯ В ЛИФ...</td>\n",
              "    </tr>\n",
              "    <tr>\n",
              "      <th>1</th>\n",
              "      <td>2Imena_1258.pdf</td>\n",
              "      <td>1</td>\n",
              "      <td>219618741000</td>\n",
              "      <td>АНДРЕЙ КОНСТАНТИНОВИЧ КОНСТАНТИНОВ</td>\n",
              "      <td>55 ЛЕТ</td>\n",
              "      <td>РОДИЛСЯ И ЖИЛ ВТВЕРСКОЙ ОБЛАСТИ</td>\n",
              "      <td>ЧЕРНОРАБОЧИЙ В КОНТОРЕ ЗАГОТ-СЕНО</td>\n",
              "      <td>РАССТРЕЛЯН 29 ОКТЯБРЯ 1941</td>\n",
              "      <td>АНДРЕЙ КОНСТАНТИНОВИЧ КОНСТАНТИНОВ\\n55 ЛЕТ\\nРО...</td>\n",
              "    </tr>\n",
              "  </tbody>\n",
              "</table>\n",
              "</div>\n",
              "    <div class=\"colab-df-buttons\">\n",
              "\n",
              "  <div class=\"colab-df-container\">\n",
              "    <button class=\"colab-df-convert\" onclick=\"convertToInteractive('df-e59f8f85-32dd-4989-b545-0d42b00584be')\"\n",
              "            title=\"Convert this dataframe to an interactive table.\"\n",
              "            style=\"display:none;\">\n",
              "\n",
              "  <svg xmlns=\"http://www.w3.org/2000/svg\" height=\"24px\" viewBox=\"0 -960 960 960\">\n",
              "    <path d=\"M120-120v-720h720v720H120Zm60-500h600v-160H180v160Zm220 220h160v-160H400v160Zm0 220h160v-160H400v160ZM180-400h160v-160H180v160Zm440 0h160v-160H620v160ZM180-180h160v-160H180v160Zm440 0h160v-160H620v160Z\"/>\n",
              "  </svg>\n",
              "    </button>\n",
              "\n",
              "  <style>\n",
              "    .colab-df-container {\n",
              "      display:flex;\n",
              "      gap: 12px;\n",
              "    }\n",
              "\n",
              "    .colab-df-convert {\n",
              "      background-color: #E8F0FE;\n",
              "      border: none;\n",
              "      border-radius: 50%;\n",
              "      cursor: pointer;\n",
              "      display: none;\n",
              "      fill: #1967D2;\n",
              "      height: 32px;\n",
              "      padding: 0 0 0 0;\n",
              "      width: 32px;\n",
              "    }\n",
              "\n",
              "    .colab-df-convert:hover {\n",
              "      background-color: #E2EBFA;\n",
              "      box-shadow: 0px 1px 2px rgba(60, 64, 67, 0.3), 0px 1px 3px 1px rgba(60, 64, 67, 0.15);\n",
              "      fill: #174EA6;\n",
              "    }\n",
              "\n",
              "    .colab-df-buttons div {\n",
              "      margin-bottom: 4px;\n",
              "    }\n",
              "\n",
              "    [theme=dark] .colab-df-convert {\n",
              "      background-color: #3B4455;\n",
              "      fill: #D2E3FC;\n",
              "    }\n",
              "\n",
              "    [theme=dark] .colab-df-convert:hover {\n",
              "      background-color: #434B5C;\n",
              "      box-shadow: 0px 1px 3px 1px rgba(0, 0, 0, 0.15);\n",
              "      filter: drop-shadow(0px 1px 2px rgba(0, 0, 0, 0.3));\n",
              "      fill: #FFFFFF;\n",
              "    }\n",
              "  </style>\n",
              "\n",
              "    <script>\n",
              "      const buttonEl =\n",
              "        document.querySelector('#df-e59f8f85-32dd-4989-b545-0d42b00584be button.colab-df-convert');\n",
              "      buttonEl.style.display =\n",
              "        google.colab.kernel.accessAllowed ? 'block' : 'none';\n",
              "\n",
              "      async function convertToInteractive(key) {\n",
              "        const element = document.querySelector('#df-e59f8f85-32dd-4989-b545-0d42b00584be');\n",
              "        const dataTable =\n",
              "          await google.colab.kernel.invokeFunction('convertToInteractive',\n",
              "                                                    [key], {});\n",
              "        if (!dataTable) return;\n",
              "\n",
              "        const docLinkHtml = 'Like what you see? Visit the ' +\n",
              "          '<a target=\"_blank\" href=https://colab.research.google.com/notebooks/data_table.ipynb>data table notebook</a>'\n",
              "          + ' to learn more about interactive tables.';\n",
              "        element.innerHTML = '';\n",
              "        dataTable['output_type'] = 'display_data';\n",
              "        await google.colab.output.renderOutput(dataTable, element);\n",
              "        const docLink = document.createElement('div');\n",
              "        docLink.innerHTML = docLinkHtml;\n",
              "        element.appendChild(docLink);\n",
              "      }\n",
              "    </script>\n",
              "  </div>\n",
              "\n",
              "\n",
              "<div id=\"df-3293af9e-def7-4eba-bd41-54bc17c13564\">\n",
              "  <button class=\"colab-df-quickchart\" onclick=\"quickchart('df-3293af9e-def7-4eba-bd41-54bc17c13564')\"\n",
              "            title=\"Suggest charts\"\n",
              "            style=\"display:none;\">\n",
              "\n",
              "<svg xmlns=\"http://www.w3.org/2000/svg\" height=\"24px\"viewBox=\"0 0 24 24\"\n",
              "     width=\"24px\">\n",
              "    <g>\n",
              "        <path d=\"M19 3H5c-1.1 0-2 .9-2 2v14c0 1.1.9 2 2 2h14c1.1 0 2-.9 2-2V5c0-1.1-.9-2-2-2zM9 17H7v-7h2v7zm4 0h-2V7h2v10zm4 0h-2v-4h2v4z\"/>\n",
              "    </g>\n",
              "</svg>\n",
              "  </button>\n",
              "\n",
              "<style>\n",
              "  .colab-df-quickchart {\n",
              "      --bg-color: #E8F0FE;\n",
              "      --fill-color: #1967D2;\n",
              "      --hover-bg-color: #E2EBFA;\n",
              "      --hover-fill-color: #174EA6;\n",
              "      --disabled-fill-color: #AAA;\n",
              "      --disabled-bg-color: #DDD;\n",
              "  }\n",
              "\n",
              "  [theme=dark] .colab-df-quickchart {\n",
              "      --bg-color: #3B4455;\n",
              "      --fill-color: #D2E3FC;\n",
              "      --hover-bg-color: #434B5C;\n",
              "      --hover-fill-color: #FFFFFF;\n",
              "      --disabled-bg-color: #3B4455;\n",
              "      --disabled-fill-color: #666;\n",
              "  }\n",
              "\n",
              "  .colab-df-quickchart {\n",
              "    background-color: var(--bg-color);\n",
              "    border: none;\n",
              "    border-radius: 50%;\n",
              "    cursor: pointer;\n",
              "    display: none;\n",
              "    fill: var(--fill-color);\n",
              "    height: 32px;\n",
              "    padding: 0;\n",
              "    width: 32px;\n",
              "  }\n",
              "\n",
              "  .colab-df-quickchart:hover {\n",
              "    background-color: var(--hover-bg-color);\n",
              "    box-shadow: 0 1px 2px rgba(60, 64, 67, 0.3), 0 1px 3px 1px rgba(60, 64, 67, 0.15);\n",
              "    fill: var(--button-hover-fill-color);\n",
              "  }\n",
              "\n",
              "  .colab-df-quickchart-complete:disabled,\n",
              "  .colab-df-quickchart-complete:disabled:hover {\n",
              "    background-color: var(--disabled-bg-color);\n",
              "    fill: var(--disabled-fill-color);\n",
              "    box-shadow: none;\n",
              "  }\n",
              "\n",
              "  .colab-df-spinner {\n",
              "    border: 2px solid var(--fill-color);\n",
              "    border-color: transparent;\n",
              "    border-bottom-color: var(--fill-color);\n",
              "    animation:\n",
              "      spin 1s steps(1) infinite;\n",
              "  }\n",
              "\n",
              "  @keyframes spin {\n",
              "    0% {\n",
              "      border-color: transparent;\n",
              "      border-bottom-color: var(--fill-color);\n",
              "      border-left-color: var(--fill-color);\n",
              "    }\n",
              "    20% {\n",
              "      border-color: transparent;\n",
              "      border-left-color: var(--fill-color);\n",
              "      border-top-color: var(--fill-color);\n",
              "    }\n",
              "    30% {\n",
              "      border-color: transparent;\n",
              "      border-left-color: var(--fill-color);\n",
              "      border-top-color: var(--fill-color);\n",
              "      border-right-color: var(--fill-color);\n",
              "    }\n",
              "    40% {\n",
              "      border-color: transparent;\n",
              "      border-right-color: var(--fill-color);\n",
              "      border-top-color: var(--fill-color);\n",
              "    }\n",
              "    60% {\n",
              "      border-color: transparent;\n",
              "      border-right-color: var(--fill-color);\n",
              "    }\n",
              "    80% {\n",
              "      border-color: transparent;\n",
              "      border-right-color: var(--fill-color);\n",
              "      border-bottom-color: var(--fill-color);\n",
              "    }\n",
              "    90% {\n",
              "      border-color: transparent;\n",
              "      border-bottom-color: var(--fill-color);\n",
              "    }\n",
              "  }\n",
              "</style>\n",
              "\n",
              "  <script>\n",
              "    async function quickchart(key) {\n",
              "      const quickchartButtonEl =\n",
              "        document.querySelector('#' + key + ' button');\n",
              "      quickchartButtonEl.disabled = true;  // To prevent multiple clicks.\n",
              "      quickchartButtonEl.classList.add('colab-df-spinner');\n",
              "      try {\n",
              "        const charts = await google.colab.kernel.invokeFunction(\n",
              "            'suggestCharts', [key], {});\n",
              "      } catch (error) {\n",
              "        console.error('Error during call to suggestCharts:', error);\n",
              "      }\n",
              "      quickchartButtonEl.classList.remove('colab-df-spinner');\n",
              "      quickchartButtonEl.classList.add('colab-df-quickchart-complete');\n",
              "    }\n",
              "    (() => {\n",
              "      let quickchartButtonEl =\n",
              "        document.querySelector('#df-3293af9e-def7-4eba-bd41-54bc17c13564 button');\n",
              "      quickchartButtonEl.style.display =\n",
              "        google.colab.kernel.accessAllowed ? 'block' : 'none';\n",
              "    })();\n",
              "  </script>\n",
              "</div>\n",
              "\n",
              "    </div>\n",
              "  </div>\n"
            ],
            "application/vnd.google.colaboratory.intrinsic+json": {
              "type": "dataframe",
              "variable_name": "df2023_cards",
              "summary": "{\n  \"name\": \"df2023_cards\",\n  \"rows\": 2899,\n  \"fields\": [\n    {\n      \"column\": \"filename\",\n      \"properties\": {\n        \"dtype\": \"string\",\n        \"num_unique_values\": 1467,\n        \"samples\": [\n          \"2Imena_1285.pdf\",\n          \"2Imena_499.pdf\",\n          \"2Imena_720.pdf\"\n        ],\n        \"semantic_type\": \"\",\n        \"description\": \"\"\n      }\n    },\n    {\n      \"column\": \"page_num\",\n      \"properties\": {\n        \"dtype\": \"number\",\n        \"std\": 0,\n        \"min\": 0,\n        \"max\": 1,\n        \"num_unique_values\": 2,\n        \"samples\": [\n          1,\n          0\n        ],\n        \"semantic_type\": \"\",\n        \"description\": \"\"\n      }\n    },\n    {\n      \"column\": \"id\",\n      \"properties\": {\n        \"dtype\": \"number\",\n        \"std\": 339785943312,\n        \"min\": 2346,\n        \"max\": 999493730000,\n        \"num_unique_values\": 2899,\n        \"samples\": [\n          232822,\n          630012\n        ],\n        \"semantic_type\": \"\",\n        \"description\": \"\"\n      }\n    },\n    {\n      \"column\": \"name\",\n      \"properties\": {\n        \"dtype\": \"string\",\n        \"num_unique_values\": 2887,\n        \"samples\": [\n          \"\\u0410\\u041b\\u0415\\u041a\\u0421\\u0410\\u041d\\u0414\\u0420 \\u0418\\u041b\\u042c\\u0418\\u0427 \\u0411\\u041e\\u0419\\u041a\\u041e\\u0412\",\n          \"\\u0413\\u0420\\u0418\\u0413\\u041e\\u0420\\u0418\\u0419 \\u0410\\u041d\\u0414\\u0420\\u0415\\u0415\\u0412\\u0418\\u0427 \\u0410\\u041d\\u0414\\u0420\\u0415\\u0415\\u0412\"\n        ],\n        \"semantic_type\": \"\",\n        \"description\": \"\"\n      }\n    },\n    {\n      \"column\": \"age\",\n      \"properties\": {\n        \"dtype\": \"category\",\n        \"num_unique_values\": 72,\n        \"samples\": [\n          \"53 \\u0413\\u041e\\u0414\\u0410\",\n          \"12 \\u0413\\u041e\\u0414\\u0410\"\n        ],\n        \"semantic_type\": \"\",\n        \"description\": \"\"\n      }\n    },\n    {\n      \"column\": \"birth_info\",\n      \"properties\": {\n        \"dtype\": \"category\",\n        \"num_unique_values\": 1434,\n        \"samples\": [\n          \"\\u0420\\u041e\\u0414\\u0418\\u041b\\u0421\\u042f \\u0412\\u0414\\u0415\\u0420\\u0415\\u0412\\u041d\\u0415 \\u0412\\u041e\\u041b\\u041e\\u0414\\u0418\\u041d\\u041e \\u041c\\u041e\\u0421\\u041a\\u041e\\u0412\\u0421\\u041a\\u041e\\u0419 \\u041e\\u0411\\u041b\\u0410\\u0421\\u0422\\u0418\",\n          \"\\u0420\\u041e\\u0414\\u0418\\u041b\\u0421\\u042f \\u0412 \\u0414\\u0415\\u0420\\u0415\\u0412\\u041d\\u0415 \\u041f\\u0423\\u041b\\u041a\\u041e\\u0412\\u041e \\u041a\\u0418\\u041d\\u0413\\u0418\\u0421\\u0415\\u0301\\u041f\\u041f\\u0421\\u041a\\u041e\\u0413\\u041e \\u0420\\u0410\\u0419\\u041e\\u041d\\u0410\"\n        ],\n        \"semantic_type\": \"\",\n        \"description\": \"\"\n      }\n    },\n    {\n      \"column\": \"occupation\",\n      \"properties\": {\n        \"dtype\": \"string\",\n        \"num_unique_values\": 2796,\n        \"samples\": [\n          \"\\u041e\\u0422\\u0412\\u0415\\u0422\\u0418\\u0421\\u041f\\u041e\\u041b\\u041d\\u0418\\u0422\\u0415\\u041b\\u042c \\u041f\\u041e \\u0421\\u0411\\u042b\\u0422\\u0423 \\u041d\\u0410 \\u0417\\u0410\\u0412\\u041e\\u0414\\u0415 \\\"\\u041c\\u0415\\u0425\\u0410\\u041d\\u0418\\u041a\\u0410\\\"\",\n          \"\\u041a\\u0423\\u0421\\u0422\\u0410\\u0420\\u042c-\\u0421\\u0410\\u041f\\u041e\\u0416\\u041d\\u0418\\u041a \\u0414\\u0415\\u0420\\u0415\\u0412\\u041d\\u0418 \\u041b\\u0418\\u0421\\u0426\\u041e\\u0412\\u041e \\u0423\\u0414\\u041e\\u041c\\u0415\\u041b\\u042c\\u0421\\u041a\\u041e\\u0413\\u041e \\u0420\\u0410\\u0419\\u041e\\u041d\\u0410. \\u0410\\u0420\\u0415\\u0421\\u0422\\u041e\\u0412\\u0410\\u041d 9 \\u0424\\u0415\\u0412\\u0420\\u0410\\u041b\\u042f 1938\\u0413\\u041e\\u0414\\u0410.\"\n        ],\n        \"semantic_type\": \"\",\n        \"description\": \"\"\n      }\n    },\n    {\n      \"column\": \"death_info\",\n      \"properties\": {\n        \"dtype\": \"string\",\n        \"num_unique_values\": 1542,\n        \"samples\": [\n          \"\\u0420\\u0410\\u0421\\u0421\\u0422\\u0420\\u0415\\u041b\\u042f\\u041d 2 \\u041d\\u041e\\u042f\\u0411\\u0420\\u042f 1937 \\u0412 \\u0418\\u0428\\u0418\\u0301 \\u041c\\u0415,\\u0422\\u042e\\u041c\\u0415\\u041d\\u0421\\u041a\\u041e\\u0419 \\u041e\\u0411\\u041b.\",\n          \"\\u0411\\u0415\\u041b\\u041e\\u041c\\u041e\\u0420\\u041a\\u0410\\u041d\\u0410\\u041b\\u0410\"\n        ],\n        \"semantic_type\": \"\",\n        \"description\": \"\"\n      }\n    },\n    {\n      \"column\": \"card\",\n      \"properties\": {\n        \"dtype\": \"string\",\n        \"num_unique_values\": 2899,\n        \"samples\": [\n          \"\\u0411\\u0420\\u041e\\u041d\\u0418\\u0421\\u041b\\u0410\\u0412 \\u0410\\u0412\\u0413\\u0423\\u0421\\u0422\\u041e\\u0412\\u0418\\u0427 \\u0420\\u041e\\u0422\\u0422\\u0415\\u0420\\n64 \\u0413\\u041e\\u0414\\u0410\\n\\u0420\\u041e\\u0414\\u0418\\u041b\\u0421\\u042f \\u0412 \\u0412\\u0410\\u0420\\u0428\\u0410\\u0412\\u0415\\n\\u0420\\u0410\\u0411\\u041e\\u0427\\u0418\\u0419 \\u0412 \\u041a\\u041e\\u0416\\u0417\\u0410\\u0412\\u041e\\u0414\\u0415 \\\"\\u0411\\u041e\\u041b\\u042c\\u0428\\u0415\\u0412\\u0418\\u041a\\\"\\n\\u0420\\u0410\\u0421\\u0421\\u0422\\u0420\\u0415\\u041b\\u042f\\u041d 26 \\u041d\\u041e\\u042f\\u0411\\u0420\\u042f 1937 \\u0412\\u041c\\u0418\\u041d\\u0421\\u041a\\u0415\",\n          \"\\u0410\\u041b\\u0415\\u041a\\u0421\\u0415\\u0419 \\u0418\\u0412\\u0410\\u041d\\u041e\\u0412\\u0418\\u0427 \\u0410\\u0412\\u0414\\u0415\\u0415\\u0412\\n40 \\u041b\\u0415\\u0422\\n\\u0420\\u041e\\u0414\\u0418\\u041b\\u0421\\u042f \\u0412 \\u041a\\u0420\\u0410\\u0421\\u041d\\u041e\\u042f\\u0420\\u0421\\u041a\\u0415\\n\\u0421\\u0422\\u0410\\u0420\\u0428\\u0418\\u0419 \\u0411\\u0423\\u0425\\u0413\\u0410\\u041b\\u0422\\u0415\\u0420 \\u0412\\u0421\\u0422\\u0420\\u041e\\u0418\\u0422\\u0415\\u041b\\u042c\\u0421\\u0422\\u0412\\u0415 \\u0414\\u041e\\u041c\\u0410 \\u0421\\u0412\\u042f\\u0417\\u0418\\n\\u0420\\u0410\\u0421\\u0421\\u0422\\u0420\\u0415\\u041b\\u042f\\u041d 15 \\u0418\\u042e\\u041d\\u042f 1938 \\u0412\\u041a\\u0420\\u0410\\u0421\\u041d\\u041e\\u042f\\u0420\\u0421\\u041a\\u0415\"\n        ],\n        \"semantic_type\": \"\",\n        \"description\": \"\"\n      }\n    }\n  ]\n}"
            }
          },
          "metadata": {},
          "execution_count": 9
        }
      ]
    },
    {
      "cell_type": "code",
      "source": [
        "# Get intersection of the human generated cards and ids in DB\n",
        "# For some reason about 200 cards aren't presented in the db (could be that our slicing for this year was different than in 2023)\n",
        "df2023_cards = df2023_cards[['id','card']].merge(df, on=['id'], how='inner')\n",
        "print(f\"Number of human generated cards that have input info: {len(df2023_cards)}\")"
      ],
      "metadata": {
        "colab": {
          "base_uri": "https://localhost:8080/"
        },
        "id": "FAajnNTlyiB8",
        "outputId": "7a6d2cf1-f5e5-4ccd-8e4f-71eb05799694"
      },
      "execution_count": 10,
      "outputs": [
        {
          "output_type": "stream",
          "name": "stdout",
          "text": [
            "Number of human generated cards that have input info: 857\n"
          ]
        }
      ]
    },
    {
      "cell_type": "code",
      "source": [
        "# Pick good examples from human generated cards\n",
        "\n",
        "def clean_cards(x):\n",
        "  # Cleans data as some cards were read without spaces\n",
        "  x = x.replace('ВЛЕНИНГРАДЕ', 'В ЛЕНИНГРАДЕ')\n",
        "  x = x.replace('ВРОСТОВЕ-НА-ДОНУ', 'В РОСТОВЕ-НА-ДОНУ')\n",
        "  x = x.replace('ВКАРЕЛИИ', 'В КАРЕЛИИ')\n",
        "  x = x.replace('ВЕРЕВАНЕ', 'В ЕРЕВАНЕ')\n",
        "  return x\n",
        "\n",
        "df2023_cards.card = df2023_cards.card.map(clean_cards)\n",
        "\n",
        "ids = [1295418, 3080332, 200025, 590352, 1700077, 396410, 848082, 1697207, 415360, 719271,\n",
        "       922264, 977191,782888, 1087431, 530353, 780628, 1718445, 1065886, 975489, 935140,\n",
        "       935140, 214138, 928699, 2999350, 773859, 1729253]\n",
        "examples_human_generated = df2023_cards.loc[df2023_cards.id.isin(ids)]\n",
        "examples_human_generated.loc[:, 'card'] = examples_human_generated.card.map(clean_cards)"
      ],
      "metadata": {
        "id": "1ssz_IeQ6nxe"
      },
      "execution_count": 18,
      "outputs": []
    },
    {
      "cell_type": "code",
      "source": [
        "# Create good examples from the known issues recorded in the returning_the_names github\n",
        "\n",
        "ids_w_issues = [\n",
        "        887131, # wrong expantion НАУРПа: https://github.com/compositor/returning_the_names/issues/31\n",
        "        667429, # Russian grammar error of the М. Карай expantion (was \"в селе Малая Карай\", need \"в селе Малай Карай\"): https://github.com/compositor/returning_the_names/issues/30\n",
        "        687694, # wrong expantion ТАССР (need all in Russian, but was Татарской Автономной Советской Socialistической Республики): https://github.com/compositor/returning_the_names/issues/24\n",
        "        753186, # wrong expantion АКО -> (wronly) Артеклособанк -> (need) Акционерное Камчатское общество: https://github.com/compositor/returning_the_names/issues/31\n",
        "        1787037, # wrong gramma was расстрелЕн, need расстрелян\n",
        "        1222123, # wrong expantion of гор30: https://github.com/compositor/returning_the_names/issues/20\n",
        "        1104124, # wrong expantion of КРАСНЫЙ КУТ?\n",
        "        405685, # wrong expantion of SOCIALIST REPUBLIC, need Карельской АССР\n",
        "]"
      ],
      "metadata": {
        "id": "gdgRMWkPzZtv"
      },
      "execution_count": 19,
      "outputs": []
    },
    {
      "cell_type": "code",
      "source": [
        "# Generate the good outputs from the issues using the production model as we know it creates good cards\n",
        "\n",
        "async def generate_cards(record, input_to_client=input_to_client, openai_client=client):\n",
        "\n",
        "  record = RawCard(**record)\n",
        "  messages = input_to_client.get_messages(record)\n",
        "\n",
        "  completion = await openai_client.chat.completions.create(\n",
        "            model=input_to_client.model, messages=messages, temperature=0\n",
        "        )\n",
        "  result = completion.choices[0].message.content\n",
        "\n",
        "  return result\n",
        "\n",
        "examples_with_issues = df.loc[df.id.isin(ids_w_issues), KEEP_COLS]\n",
        "\n",
        "# generate outputs through production model\n",
        "created_outputs = await asyncio.gather(*[generate_cards(x, input_to_client, client) for x in examples_with_issues.to_dict(orient='records')])\n",
        "\n",
        "examples_with_issues['card'] = created_outputs"
      ],
      "metadata": {
        "id": "_1HAp_nfkMiy"
      },
      "execution_count": 33,
      "outputs": []
    },
    {
      "cell_type": "code",
      "source": [
        "# Let's store our examples for the future reference\n",
        "from pathlib import Path\n",
        "\n",
        "# we are in the returning_the_names directory\n",
        "Path(\"../data\").mkdir(parents=True, exist_ok=True)\n",
        "\n",
        "examples_with_issues.to_csv(\"../data/examples_with_issues.csv\")"
      ],
      "metadata": {
        "id": "FBKDbPc5CNsw"
      },
      "execution_count": 35,
      "outputs": []
    },
    {
      "cell_type": "code",
      "source": [
        "# Combine two sets of examples for fine-tuning\n",
        "examples_all = pd.concat([examples_human_generated, examples_with_issues], ignore_index=True)"
      ],
      "metadata": {
        "id": "Ii1QKvm4arnX"
      },
      "execution_count": 39,
      "outputs": []
    },
    {
      "cell_type": "code",
      "source": [
        "# Create jsonl data to upload as file to openai\n",
        "def create_messages_openai(x, input_to_client=input_to_client):\n",
        "\n",
        "  record = RawCard(**x[KEEP_COLS])\n",
        "  messages = input_to_client.get_messages(record)\n",
        "\n",
        "  # LLM ideal answer\n",
        "  messages.append({\"role\": \"assistant\", \"content\": x['card']})\n",
        "\n",
        "  return messages\n",
        "\n",
        "# the column name should be 'messages'\n",
        "examples_all['messages'] = examples_all.apply(lambda x: create_messages_openai(x), axis=1)\n",
        "\n",
        "# jsonl file to upload to openai\n",
        "examples_all[['messages']].to_json(\"../data/cards_good_examples.jsonl\", orient='records', lines=True)"
      ],
      "metadata": {
        "id": "YGTJD5CKcWCR"
      },
      "execution_count": 53,
      "outputs": []
    },
    {
      "cell_type": "code",
      "source": [
        "# Upload the training file ton openai\n",
        "from openai import OpenAI\n",
        "\n",
        "client_fine_tuning = OpenAI(api_key=OPENAI_KEY)\n",
        "file_id = client_fine_tuning.files.create(\n",
        "  file=open(\"../data/cards_good_examples.jsonl\", \"rb\"),\n",
        "  purpose='fine-tune'\n",
        ")"
      ],
      "metadata": {
        "id": "ShmDN0rOgE2F"
      },
      "execution_count": 54,
      "outputs": []
    },
    {
      "cell_type": "code",
      "source": [
        "# Fine-tune the model\n",
        "client_fine_tuning.fine_tuning.jobs.create(\n",
        "  training_file=file_id.id,\n",
        "  model=\"gpt-4o-mini-2024-07-18\"\n",
        ")"
      ],
      "metadata": {
        "colab": {
          "base_uri": "https://localhost:8080/"
        },
        "id": "p3V_IGqygqbf",
        "outputId": "5e68ab18-d57c-4aca-990e-96c4c9a97c8f"
      },
      "execution_count": 55,
      "outputs": [
        {
          "output_type": "execute_result",
          "data": {
            "text/plain": [
              "FineTuningJob(id='ftjob-qGpWR3wvTaWP3sCIRdKil2fa', created_at=1733021561, error=Error(code=None, message=None, param=None), fine_tuned_model=None, finished_at=None, hyperparameters=Hyperparameters(n_epochs='auto', batch_size='auto', learning_rate_multiplier='auto'), model='gpt-4o-mini-2024-07-18', object='fine_tuning.job', organization_id='org-zmirdOm1LZQNsHVYVocMI6jL', result_files=[], seed=1152445145, status='validating_files', trained_tokens=None, training_file='file-Y1bb13YVY5gm8qnVe5Jtjd', validation_file=None, estimated_finish=None, integrations=[], user_provided_suffix=None)"
            ]
          },
          "metadata": {},
          "execution_count": 55
        }
      ]
    },
    {
      "cell_type": "code",
      "source": [
        "# Check the status of the job\n",
        "# after the job is finished (filled finished_at), get the fine_tuned_model\n",
        "client_fine_tuning.fine_tuning.jobs.list(limit=10)"
      ],
      "metadata": {
        "colab": {
          "base_uri": "https://localhost:8080/"
        },
        "id": "qms564Zt_hyI",
        "outputId": "f91b16b4-43f6-40d9-8394-4ed1cefb215c"
      },
      "execution_count": 58,
      "outputs": [
        {
          "output_type": "execute_result",
          "data": {
            "text/plain": [
              "SyncCursorPage[FineTuningJob](data=[FineTuningJob(id='ftjob-qGpWR3wvTaWP3sCIRdKil2fa', created_at=1733021561, error=Error(code=None, message=None, param=None), fine_tuned_model='ft:gpt-4o-mini-2024-07-18:personal::AZURfnFa', finished_at=1733021874, hyperparameters=Hyperparameters(n_epochs=3, batch_size=1, learning_rate_multiplier=1.8), model='gpt-4o-mini-2024-07-18', object='fine_tuning.job', organization_id='org-zmirdOm1LZQNsHVYVocMI6jL', result_files=['file-TV9Kj1RRzHsLLYeEFccV8L'], seed=1152445145, status='succeeded', trained_tokens=497493, training_file='file-Y1bb13YVY5gm8qnVe5Jtjd', validation_file=None, estimated_finish=None, integrations=[], user_provided_suffix=None), FineTuningJob(id='ftjob-WpOJq9DrQaCK2g3ZsMsZ4Oqn', created_at=1733021294, error=Error(code='invalid_training_file', message='The job failed due to an invalid training file. Unexpected file format, expected either prompt/completion pairs or chat messages.', param='training_file'), fine_tuned_model=None, finished_at=None, hyperparameters=Hyperparameters(n_epochs='auto', batch_size='auto', learning_rate_multiplier='auto'), model='gpt-4o-mini-2024-07-18', object='fine_tuning.job', organization_id='org-zmirdOm1LZQNsHVYVocMI6jL', result_files=[], seed=14374629, status='failed', trained_tokens=None, training_file='file-94XAMUKCsq6JxQPyTEsrHo', validation_file=None, estimated_finish=None, integrations=[], user_provided_suffix=None), FineTuningJob(id='ftjob-YgErRLXdEp08R32IBGRMr7bC', created_at=1733021096, error=Error(code='invalid_training_file', message='The job failed due to an invalid training file. Unexpected file format, expected either prompt/completion pairs or chat messages.', param='training_file'), fine_tuned_model=None, finished_at=None, hyperparameters=Hyperparameters(n_epochs='auto', batch_size='auto', learning_rate_multiplier='auto'), model='gpt-4o-mini-2024-07-18', object='fine_tuning.job', organization_id='org-zmirdOm1LZQNsHVYVocMI6jL', result_files=[], seed=1816590428, status='failed', trained_tokens=None, training_file='file-VDWaazeY4jKPtGc4TTnqcT', validation_file=None, estimated_finish=None, integrations=[], user_provided_suffix=None)], object='list', has_more=False)"
            ]
          },
          "metadata": {},
          "execution_count": 58
        }
      ]
    },
    {
      "cell_type": "code",
      "source": [
        "fine_tuned_model='ft:gpt-4o-mini-2024-07-18:personal::AZURfnFa'"
      ],
      "metadata": {
        "id": "Ry5cj9-5_zGQ"
      },
      "execution_count": 44,
      "outputs": []
    },
    {
      "cell_type": "markdown",
      "source": [
        "Check the examples with the issues. They are now fixed! Of course, the fine-tuned model won't fix the unseen issues. So be careful."
      ],
      "metadata": {
        "id": "MSKsyxXrKLSv"
      }
    },
    {
      "cell_type": "code",
      "source": [
        "id = 1222123 # Зав. сектором горЗО -> Заведующий сектором городского земельного отдела\n",
        "\n",
        "model = fine_tuned_model\n",
        "\n",
        "record = df.loc[df.id == id, KEEP_COLS].to_dict(orient='records')[0]\n",
        "record = RawCard(**record)\n",
        "card = record.pretty_print_without_id()\n",
        "print(card)\n",
        "print(f\"The prod model stems: {record.get_stems()}\")\n",
        "print()\n",
        "custom = ai_prompts.get_sub(record.get_stems())\n",
        "print(f\"The length of the additional prompt created through RAG: {len(custom.split(chr(10)))}\")\n",
        "print(\"--------------------------------------------\")\n",
        "\n",
        "# no tunned model\n",
        "messages = input_to_client.get_messages(record)\n",
        "completion = await client.chat.completions.create(\n",
        "            model=\"gpt-4o-mini\", messages=messages, temperature=0\n",
        "        )\n",
        "result = completion.choices[0].message.content\n",
        "print(\"No tunned model with the current RAG:\\n\")\n",
        "print(result)\n",
        "print(\"--------------------------------------------\")\n",
        "print()\n",
        "\n",
        "# the fine-tunned model\n",
        "messages = input_to_client.get_messages(record)\n",
        "completion = await client.chat.completions.create(\n",
        "            model=model, messages=messages, temperature=0\n",
        "        )\n",
        "result = completion.choices[0].message.content\n",
        "print(\"The fine-tuned model with the current RAG:\\n\")\n",
        "print(result)\n",
        "print()\n",
        "\n"
      ],
      "metadata": {
        "colab": {
          "base_uri": "https://localhost:8080/"
        },
        "id": "4eNWTandAQ_4",
        "outputId": "2f7bc3b3-cf87-49a0-f34f-1b5e16bc9aa1"
      },
      "execution_count": 60,
      "outputs": [
        {
          "output_type": "stream",
          "name": "stdout",
          "text": [
            "\n",
            "Имя Отчество Фамилия: Венедикт Иванович Катков  \n",
            "Возраст: 31\n",
            "Пол: мужчина\n",
            "Место рождения: None\n",
            "Род занятий: Зав. сектором горЗО\n",
            "Дата расстрела: 01.07.1938\n",
            "Место расстрела: г. Барнаул      \n",
            "\n",
            "The prod model stems: {'сектор', 'зав', 'барна', 'гор'}\n",
            "\n",
            "The length of the additional prompt created through RAG: 61\n",
            "--------------------------------------------\n",
            "No tunned model with the current RAG:\n",
            "\n",
            "Венедикт Иванович Катков  \n",
            "31 год  \n",
            "Место рождения неизвестно  \n",
            "Заведующий сектором городского отдела  \n",
            "Расстрелян 1 июля 1938 года в Барнауле  \n",
            "--------------------------------------------\n",
            "\n",
            "The fine-tuned model with the current RAG:\n",
            "\n",
            "Венедикт Иванович Катков  \n",
            "31 год  \n",
            "Место рождения неизвестно  \n",
            "Заведующий сектором городского земельного отдела в Барнауле  \n",
            "Расстрелян 1 июля 1938 года в Барнауле  \n",
            "\n"
          ]
        }
      ]
    },
    {
      "cell_type": "code",
      "source": [
        "id = 667429 # Малая Карай fixed also, now it's МАЛЫЙ КАРАЙ\n",
        "\n",
        "model = fine_tuned_model\n",
        "\n",
        "record = df.loc[df.id == id, KEEP_COLS].to_dict(orient='records')[0]\n",
        "record = RawCard(**record)\n",
        "card = record.pretty_print_without_id()\n",
        "print(card)\n",
        "print(f\"The prod model stems: {record.get_stems()}\")\n",
        "print()\n",
        "custom = ai_prompts.get_sub(record.get_stems())\n",
        "print(f\"The length of the additional prompt created through RAG: {len(custom.split(chr(10)))}\")\n",
        "print(\"--------------------------------------------\")\n",
        "\n",
        "# no tunned model\n",
        "messages = input_to_client.get_messages(record)\n",
        "completion = await client.chat.completions.create(\n",
        "            model=\"gpt-4o-mini\", messages=messages, temperature=0\n",
        "        )\n",
        "result = completion.choices[0].message.content\n",
        "print(\"No tunned model with the current RAG:\\n\")\n",
        "print(result)\n",
        "print(\"--------------------------------------------\")\n",
        "print()\n",
        "\n",
        "# the fine-tunned model\n",
        "messages = input_to_client.get_messages(record)\n",
        "completion = await client.chat.completions.create(\n",
        "            model=model, messages=messages, temperature=0\n",
        "        )\n",
        "result = completion.choices[0].message.content\n",
        "print(\"The fine-tuned model with the current RAG:\\n\")\n",
        "print(result)\n",
        "print()"
      ],
      "metadata": {
        "colab": {
          "base_uri": "https://localhost:8080/"
        },
        "id": "t1hbExO6DROc",
        "outputId": "ed2ad190-dc0d-45d4-c906-6b29ae831d9a"
      },
      "execution_count": 61,
      "outputs": [
        {
          "output_type": "stream",
          "name": "stdout",
          "text": [
            "\n",
            "Имя Отчество Фамилия: Алексей Егорович Бесчетнов  \n",
            "Возраст: 33\n",
            "Пол: мужчина\n",
            "Место рождения: Саратовская обл., Романовский р-н, с. М. Карай\n",
            "Род занятий: крестьянин-единоличник.\n",
            "Дата расстрела: 04.05.1930\n",
            "Место расстрела: г. Балашов      \n",
            "\n",
            "The prod model stems: {'балаш', 'саратовск', 'кар', 'крестьянинединоличн', 'романовск', 'обл', 'рн'}\n",
            "\n",
            "The length of the additional prompt created through RAG: 58\n",
            "--------------------------------------------\n",
            "No tunned model with the current RAG:\n",
            "\n",
            "Бесчетнов Алексей Егорович  \n",
            "33 года  \n",
            "Родился в селе Малая Карай Саратовской области  \n",
            "Крестьянин-единоличник  \n",
            "Расстрелян 4 мая 1930 года в Балашове  \n",
            "--------------------------------------------\n",
            "\n",
            "The fine-tuned model with the current RAG:\n",
            "\n",
            "АЛЕКСЕЙ ЕГОРОВИЧ БЕСЧЕТНОВ\n",
            "33 ГОДА\n",
            "РОДИЛСЯ В СЕЛЕ МАЛЫЙ КАРАЙ РОМАНОВСКОГО РАЙОНА САРАТОВСКОЙ ОБЛАСТИ\n",
            "КРЕСТЬЯНИН-ЕДИНОЛИЧНИК\n",
            "РАССТРЕЛЯН 4 МАЯ 1930 В БАЛАШОВЕ\n",
            "\n"
          ]
        }
      ]
    },
    {
      "cell_type": "markdown",
      "source": [
        "# RAG - Retrieval-Augmented Generation\n",
        "The production model has RAG, but it's implemented in a straight-forward way:\n",
        "  - uses a trie structure to store all abbreviations and their meanings\n",
        "    - keys are normalized abbreviations concatinated with their normalized meaning (normalized means only letters are left)\n",
        "    - values are abbreviations and their meanings\n",
        "  - for each request creates a list of words from the birth place, occupation and place of execution.  \n",
        "  - for each word extracts all values from the trie that starts with the word.\n",
        "\n",
        "\n",
        "See the below the production model's implementation of RAG"
      ],
      "metadata": {
        "id": "lNIPR-S9fB_T"
      }
    },
    {
      "cell_type": "code",
      "source": [
        "import pygtrie\n",
        "from src.ai_prompts import _FROM_SITE_ABBREVIATIONS, _FROM_BOOK_ABBREVIATIONS # these are copy-pasted abbreviations\n",
        "from src.ai_prompts import _init, normalize\n",
        "\n",
        "_abbreviations: pygtrie.CharTrie = pygtrie.CharTrie()\n",
        "def _init() -> None:\n",
        "    all_abbreviations = _FROM_SITE_ABBREVIATIONS + \"\\n\" + _FROM_BOOK_ABBREVIATIONS\n",
        "    for line in all_abbreviations.splitlines():\n",
        "        _abbreviations[normalize(line)] = line\n",
        "_init()\n",
        "\n",
        "for key, value in _abbreviations.items()[:4]:\n",
        "    print(f\"Key is **{key}**, value is **{value}**\")"
      ],
      "metadata": {
        "colab": {
          "base_uri": "https://localhost:8080/"
        },
        "id": "9Lzflvg5HzxU",
        "outputId": "64b0c4df-c95a-445c-a942-16b1cfc69656"
      },
      "execution_count": 16,
      "outputs": [
        {
          "output_type": "stream",
          "name": "stdout",
          "text": [
            "Key is ****, value is ****\n",
            "Key is **стстанция**, value is **ст - станция**\n",
            "Key is **стстанциястарший**, value is **ст. — станция, старший**\n",
            "Key is **стстстарыйстильстарогостиля**, value is **    \"ст.\": \"ст. — старый стиль, старого стиля\",**\n"
          ]
        }
      ]
    },
    {
      "cell_type": "markdown",
      "source": [
        "For the word 'ст' the trie RAG extracts all values that start with 'ст'"
      ],
      "metadata": {
        "id": "mTu_RgyNMKk7"
      }
    },
    {
      "cell_type": "code",
      "source": [
        "# # For the word 'ст' the trie RAG extracts all values that start with 'ст'\n",
        "_abbreviations.values('ст')"
      ],
      "metadata": {
        "colab": {
          "base_uri": "https://localhost:8080/"
        },
        "id": "LNq8jFx6Lvde",
        "outputId": "878c9b6a-a226-4a13-948f-e441e035254d"
      },
      "execution_count": 27,
      "outputs": [
        {
          "output_type": "execute_result",
          "data": {
            "text/plain": [
              "['ст - станция',\n",
              " 'ст. — станция, старший',\n",
              " '    \"ст.\": \"ст. — старый стиль, старого стиля\",',\n",
              " '    \"СТО\": \"Совет труда и обороны\",',\n",
              " 'стр-во — строительство',\n",
              " 'строит. — строительный',\n",
              " '    \"строй\": \"строительство, строительный, -ая, -ое\",',\n",
              " '    \"стройгаз\": \"Строительный Трест по расширению* Горьковского автомобильного завода им. Молотова\",',\n",
              " '    \"Стройгазхим\": \"Управление строительства Ленинградского газохимического комбината\",',\n",
              " '    \"стройдеталь\": \"строительная деталь\",',\n",
              " '    \"Стройдормаш\": \"Отдел строительного и дорожного машиностроения\",',\n",
              " '    \"Стройиздат\": \"Государственное издательство строительной литературы\",',\n",
              " '    \"стройном\": \"строительный комитет\",',\n",
              " '    \"Стройматериал\": \"Трест производства строительных материалов\",',\n",
              " '    \"Строймеханизация\": \"Государственная специальная контора по механизации строительных работ\",',\n",
              " '    \"Стромбюро\": \"Всесоюзное бюро промышленности строительных материалов\",',\n",
              " '    \"стромор\": \"морской строительный отдел\",',\n",
              " '    \"Стромсоюз\": \"Московский областной промысловокооперативный союз по производству и добыче строительных материалов\",',\n",
              " '    \"строт\": \"стрелковое отделение\",',\n",
              " '    \"Строчпромсоюз\": \"Промышленный союз художественной строчки и вышивки\",',\n",
              " '    \"‘стр.\": \"страница, стрелковый, -ая, -ое\",',\n",
              " '    \"\\'Страхкасса\": \"страховая касса\",',\n",
              " '    \"*Стрелк.\": \"в. стрелковые валы (карт.)\",',\n",
              " '    \"Стад.\": \"стадион (карт.)\",',\n",
              " '    \"Стал.\": \"Сталлелитейный завод (карт.)\",',\n",
              " '    \"Стальконструкция\": \"Трест стальных конструкций\",',\n",
              " '    \"Стальмост\": \"Государственный Всесоюзный Трест стальных конструкций и подъемнотранспортных сооружений\",',\n",
              " '    \"Стан.\": \"станица (карт.), становище (карт.), станция (карт.)\",',\n",
              " '    \"стансовет\": \"станичный совет\",',\n",
              " '    \"Стандартгиз\": \"Государственное издательство стандартов\",',\n",
              " '    \"Станкин\": \"Московский станкоинструментальный институт им. И. В. Сталина\",',\n",
              " '    \"Станкоимпорт\": \"Всесоюзное объединение для ввоза станков\",',\n",
              " '    \"\\'СтанкоинструментВсесоюзная\": \"контора по техническому сбыт обслуживанию и сбыту станков и инструментов\",',\n",
              " '    \"СТАНО\": \"Совет территориальных армий народного ополчения\",',\n",
              " '    \"^Стар.\": \"стар.) старый, -ая, -ое (карт.)\",',\n",
              " '    \"Старком\": \"старший комиссар\",',\n",
              " '    \"\\'старморнач\": \"старший морской начальник\",',\n",
              " '    \"старпом\": \"старший помощник\",',\n",
              " '    \"’Статбюро\": \"статистическое бюро\",',\n",
              " '    \"статинспекция\": \"инспекция статистического управления\",',\n",
              " '    \"статупр\": \"статистическое управление\",',\n",
              " '    \"‘Стацуска\": \"Статистический отдел Центрального управления связи Красной армии\",',\n",
              " '    \"Ст-ца\": \"станица (карт.)\",',\n",
              " '    \"СТТР\": \"Союзный трест глубинных работ\",',\n",
              " '    \"\"Стек.,\": \"Стекл., стекло— Стекольный завод (карт.)\",',\n",
              " '    \"стенгазета\": \"стенная газета\",',\n",
              " '    \"■стереостереоскопический,\": \"ая, -ое\",',\n",
              " '    \"стереокино\": \"стереоскопический кинотеатр\",',\n",
              " '    \"стз\": \"Сталинградский тракторный завод\",',\n",
              " '    \"студгородок\": \"студенческий городок\",',\n",
              " '    \"СТФ\": \"свинотоварная ферма\",',\n",
              " '    \"стэ\": \"Советская техническая энциклопедия\",']"
            ]
          },
          "metadata": {},
          "execution_count": 27
        }
      ]
    },
    {
      "cell_type": "markdown",
      "source": [
        "The production RAG has two problems:\n",
        "- extracts a lot of information that is noise. We want better matches\n",
        "- if there is no exact match, then there won't be empty RAG. We want to extract at least abbreviations close to meaning. For example, 'стр-во' is stored in the trie as 'стрво', but what if we see in the text 'стро-во'. Then the trie won't return anything as there is no node 'строво', but we want the RAG return the values from the node 'стр-во' as it has close meaning.\n",
        "\n",
        "Hence we implemented the RAG through embeddings which should combat above shortcomings.\n",
        "\n",
        "Before we continue, we did a few things outside of this notebook:\n",
        "  - Exported the russian abbreviations from pdf file to csv\n",
        "  - Created the embeddings for abbreviations (only for abbreviations and not for the meaning)\n",
        "  - Stored abbreviations' embeddings, abbreviations and its meaning to a csv file.\n",
        "\n",
        "The code below downloads this csv file into the notebook\n",
        "\n"
      ],
      "metadata": {
        "id": "Qk5x6SZSHyPw"
      }
    },
    {
      "cell_type": "code",
      "source": [
        "# Download the abbreviations csv file.\n",
        "# It is a large file, so we need to download it first before reading into pandas\n",
        "import gdown\n",
        "\n",
        "url = \"https://drive.google.com/uc?id=1-hvSddpXcHmB9Mr3o3ORj5-XvDGqbuOt\"\n",
        "output = \"data/ru_abbr_dictionary_embedding.csv\"\n",
        "gdown.download(url, output, quiet=False)"
      ],
      "metadata": {
        "colab": {
          "base_uri": "https://localhost:8080/",
          "height": 145
        },
        "id": "iPDxEynB0p1g",
        "outputId": "edb21313-0a70-485e-ea64-10a2907899f9"
      },
      "execution_count": 11,
      "outputs": [
        {
          "output_type": "stream",
          "name": "stderr",
          "text": [
            "Downloading...\n",
            "From (original): https://drive.google.com/uc?id=1-hvSddpXcHmB9Mr3o3ORj5-XvDGqbuOt\n",
            "From (redirected): https://drive.google.com/uc?id=1-hvSddpXcHmB9Mr3o3ORj5-XvDGqbuOt&confirm=t&uuid=cb6b5fb0-ddef-4e0a-a84c-96bcbe8a8485\n",
            "To: /content/drive/MyDrive/Projects/optimizing_returning_the_names/returning_the_names/data/ru_abbr_dictionary_embedding.csv\n",
            "100%|██████████| 246M/246M [00:03<00:00, 78.5MB/s]\n"
          ]
        },
        {
          "output_type": "execute_result",
          "data": {
            "text/plain": [
              "'data/ru_abbr_dictionary_embedding.csv'"
            ],
            "application/vnd.google.colaboratory.intrinsic+json": {
              "type": "string"
            }
          },
          "metadata": {},
          "execution_count": 11
        }
      ]
    },
    {
      "cell_type": "code",
      "source": [
        "# Read the abbreviations dictionary as pandas dataframe\n",
        "import ast\n",
        "\n",
        "abbreviations_df = pd.read_csv(\"data/ru_abbr_dictionary_embedding.csv\")\n",
        "abbreviations_df.drop(columns=['Unnamed: 0'], inplace=True)\n",
        "abbreviations_df['embedding'] = abbreviations_df.embedding.map(lambda x: ast.literal_eval(x))\n",
        "abbreviations_df.fillna('',inplace=True)\n",
        "print(f\"Before: {len(abbreviations_df)}\")\n",
        "abbreviations_df = abbreviations_df.loc[abbreviations_df.embedding.map(lambda x: len(x) > 0)]\n",
        "print(f\"After: {len(abbreviations_df)}\")"
      ],
      "metadata": {
        "colab": {
          "base_uri": "https://localhost:8080/"
        },
        "id": "qP-MBS8Q7w-1",
        "outputId": "cdc2ba7d-11b6-47f8-940b-4af8c4adb26d"
      },
      "execution_count": 29,
      "outputs": [
        {
          "output_type": "stream",
          "name": "stdout",
          "text": [
            "Before: 7168\n",
            "After: 7168\n"
          ]
        }
      ]
    },
    {
      "cell_type": "code",
      "source": [
        "abbreviations_df.head(3)"
      ],
      "metadata": {
        "colab": {
          "base_uri": "https://localhost:8080/",
          "height": 143
        },
        "id": "YKjonVHkmNOA",
        "outputId": "0936acce-876f-448b-c86e-23c44031f37d"
      },
      "execution_count": 31,
      "outputs": [
        {
          "output_type": "execute_result",
          "data": {
            "text/plain": [
              "  abbr                       meaning  \\\n",
              "0    А        армия, ангстрем, ампер   \n",
              "1   АА          Академия архитектуры   \n",
              "2  ААН  Академия артиллерийских наук   \n",
              "\n",
              "                                           embedding  \n",
              "0  [0.009917707182466984, -0.005803981330245733, ...  \n",
              "1  [0.005386947188526392, -0.0027102031745016575,...  \n",
              "2  [-0.010861051268875599, 0.016613828018307686, ...  "
            ],
            "text/html": [
              "\n",
              "  <div id=\"df-0caaed7d-d84d-4393-b39e-36e127d07d01\" class=\"colab-df-container\">\n",
              "    <div>\n",
              "<style scoped>\n",
              "    .dataframe tbody tr th:only-of-type {\n",
              "        vertical-align: middle;\n",
              "    }\n",
              "\n",
              "    .dataframe tbody tr th {\n",
              "        vertical-align: top;\n",
              "    }\n",
              "\n",
              "    .dataframe thead th {\n",
              "        text-align: right;\n",
              "    }\n",
              "</style>\n",
              "<table border=\"1\" class=\"dataframe\">\n",
              "  <thead>\n",
              "    <tr style=\"text-align: right;\">\n",
              "      <th></th>\n",
              "      <th>abbr</th>\n",
              "      <th>meaning</th>\n",
              "      <th>embedding</th>\n",
              "    </tr>\n",
              "  </thead>\n",
              "  <tbody>\n",
              "    <tr>\n",
              "      <th>0</th>\n",
              "      <td>А</td>\n",
              "      <td>армия, ангстрем, ампер</td>\n",
              "      <td>[0.009917707182466984, -0.005803981330245733, ...</td>\n",
              "    </tr>\n",
              "    <tr>\n",
              "      <th>1</th>\n",
              "      <td>АА</td>\n",
              "      <td>Академия архитектуры</td>\n",
              "      <td>[0.005386947188526392, -0.0027102031745016575,...</td>\n",
              "    </tr>\n",
              "    <tr>\n",
              "      <th>2</th>\n",
              "      <td>ААН</td>\n",
              "      <td>Академия артиллерийских наук</td>\n",
              "      <td>[-0.010861051268875599, 0.016613828018307686, ...</td>\n",
              "    </tr>\n",
              "  </tbody>\n",
              "</table>\n",
              "</div>\n",
              "    <div class=\"colab-df-buttons\">\n",
              "\n",
              "  <div class=\"colab-df-container\">\n",
              "    <button class=\"colab-df-convert\" onclick=\"convertToInteractive('df-0caaed7d-d84d-4393-b39e-36e127d07d01')\"\n",
              "            title=\"Convert this dataframe to an interactive table.\"\n",
              "            style=\"display:none;\">\n",
              "\n",
              "  <svg xmlns=\"http://www.w3.org/2000/svg\" height=\"24px\" viewBox=\"0 -960 960 960\">\n",
              "    <path d=\"M120-120v-720h720v720H120Zm60-500h600v-160H180v160Zm220 220h160v-160H400v160Zm0 220h160v-160H400v160ZM180-400h160v-160H180v160Zm440 0h160v-160H620v160ZM180-180h160v-160H180v160Zm440 0h160v-160H620v160Z\"/>\n",
              "  </svg>\n",
              "    </button>\n",
              "\n",
              "  <style>\n",
              "    .colab-df-container {\n",
              "      display:flex;\n",
              "      gap: 12px;\n",
              "    }\n",
              "\n",
              "    .colab-df-convert {\n",
              "      background-color: #E8F0FE;\n",
              "      border: none;\n",
              "      border-radius: 50%;\n",
              "      cursor: pointer;\n",
              "      display: none;\n",
              "      fill: #1967D2;\n",
              "      height: 32px;\n",
              "      padding: 0 0 0 0;\n",
              "      width: 32px;\n",
              "    }\n",
              "\n",
              "    .colab-df-convert:hover {\n",
              "      background-color: #E2EBFA;\n",
              "      box-shadow: 0px 1px 2px rgba(60, 64, 67, 0.3), 0px 1px 3px 1px rgba(60, 64, 67, 0.15);\n",
              "      fill: #174EA6;\n",
              "    }\n",
              "\n",
              "    .colab-df-buttons div {\n",
              "      margin-bottom: 4px;\n",
              "    }\n",
              "\n",
              "    [theme=dark] .colab-df-convert {\n",
              "      background-color: #3B4455;\n",
              "      fill: #D2E3FC;\n",
              "    }\n",
              "\n",
              "    [theme=dark] .colab-df-convert:hover {\n",
              "      background-color: #434B5C;\n",
              "      box-shadow: 0px 1px 3px 1px rgba(0, 0, 0, 0.15);\n",
              "      filter: drop-shadow(0px 1px 2px rgba(0, 0, 0, 0.3));\n",
              "      fill: #FFFFFF;\n",
              "    }\n",
              "  </style>\n",
              "\n",
              "    <script>\n",
              "      const buttonEl =\n",
              "        document.querySelector('#df-0caaed7d-d84d-4393-b39e-36e127d07d01 button.colab-df-convert');\n",
              "      buttonEl.style.display =\n",
              "        google.colab.kernel.accessAllowed ? 'block' : 'none';\n",
              "\n",
              "      async function convertToInteractive(key) {\n",
              "        const element = document.querySelector('#df-0caaed7d-d84d-4393-b39e-36e127d07d01');\n",
              "        const dataTable =\n",
              "          await google.colab.kernel.invokeFunction('convertToInteractive',\n",
              "                                                    [key], {});\n",
              "        if (!dataTable) return;\n",
              "\n",
              "        const docLinkHtml = 'Like what you see? Visit the ' +\n",
              "          '<a target=\"_blank\" href=https://colab.research.google.com/notebooks/data_table.ipynb>data table notebook</a>'\n",
              "          + ' to learn more about interactive tables.';\n",
              "        element.innerHTML = '';\n",
              "        dataTable['output_type'] = 'display_data';\n",
              "        await google.colab.output.renderOutput(dataTable, element);\n",
              "        const docLink = document.createElement('div');\n",
              "        docLink.innerHTML = docLinkHtml;\n",
              "        element.appendChild(docLink);\n",
              "      }\n",
              "    </script>\n",
              "  </div>\n",
              "\n",
              "\n",
              "<div id=\"df-b2e36b1c-51ca-4438-a25e-bd8dd80a1527\">\n",
              "  <button class=\"colab-df-quickchart\" onclick=\"quickchart('df-b2e36b1c-51ca-4438-a25e-bd8dd80a1527')\"\n",
              "            title=\"Suggest charts\"\n",
              "            style=\"display:none;\">\n",
              "\n",
              "<svg xmlns=\"http://www.w3.org/2000/svg\" height=\"24px\"viewBox=\"0 0 24 24\"\n",
              "     width=\"24px\">\n",
              "    <g>\n",
              "        <path d=\"M19 3H5c-1.1 0-2 .9-2 2v14c0 1.1.9 2 2 2h14c1.1 0 2-.9 2-2V5c0-1.1-.9-2-2-2zM9 17H7v-7h2v7zm4 0h-2V7h2v10zm4 0h-2v-4h2v4z\"/>\n",
              "    </g>\n",
              "</svg>\n",
              "  </button>\n",
              "\n",
              "<style>\n",
              "  .colab-df-quickchart {\n",
              "      --bg-color: #E8F0FE;\n",
              "      --fill-color: #1967D2;\n",
              "      --hover-bg-color: #E2EBFA;\n",
              "      --hover-fill-color: #174EA6;\n",
              "      --disabled-fill-color: #AAA;\n",
              "      --disabled-bg-color: #DDD;\n",
              "  }\n",
              "\n",
              "  [theme=dark] .colab-df-quickchart {\n",
              "      --bg-color: #3B4455;\n",
              "      --fill-color: #D2E3FC;\n",
              "      --hover-bg-color: #434B5C;\n",
              "      --hover-fill-color: #FFFFFF;\n",
              "      --disabled-bg-color: #3B4455;\n",
              "      --disabled-fill-color: #666;\n",
              "  }\n",
              "\n",
              "  .colab-df-quickchart {\n",
              "    background-color: var(--bg-color);\n",
              "    border: none;\n",
              "    border-radius: 50%;\n",
              "    cursor: pointer;\n",
              "    display: none;\n",
              "    fill: var(--fill-color);\n",
              "    height: 32px;\n",
              "    padding: 0;\n",
              "    width: 32px;\n",
              "  }\n",
              "\n",
              "  .colab-df-quickchart:hover {\n",
              "    background-color: var(--hover-bg-color);\n",
              "    box-shadow: 0 1px 2px rgba(60, 64, 67, 0.3), 0 1px 3px 1px rgba(60, 64, 67, 0.15);\n",
              "    fill: var(--button-hover-fill-color);\n",
              "  }\n",
              "\n",
              "  .colab-df-quickchart-complete:disabled,\n",
              "  .colab-df-quickchart-complete:disabled:hover {\n",
              "    background-color: var(--disabled-bg-color);\n",
              "    fill: var(--disabled-fill-color);\n",
              "    box-shadow: none;\n",
              "  }\n",
              "\n",
              "  .colab-df-spinner {\n",
              "    border: 2px solid var(--fill-color);\n",
              "    border-color: transparent;\n",
              "    border-bottom-color: var(--fill-color);\n",
              "    animation:\n",
              "      spin 1s steps(1) infinite;\n",
              "  }\n",
              "\n",
              "  @keyframes spin {\n",
              "    0% {\n",
              "      border-color: transparent;\n",
              "      border-bottom-color: var(--fill-color);\n",
              "      border-left-color: var(--fill-color);\n",
              "    }\n",
              "    20% {\n",
              "      border-color: transparent;\n",
              "      border-left-color: var(--fill-color);\n",
              "      border-top-color: var(--fill-color);\n",
              "    }\n",
              "    30% {\n",
              "      border-color: transparent;\n",
              "      border-left-color: var(--fill-color);\n",
              "      border-top-color: var(--fill-color);\n",
              "      border-right-color: var(--fill-color);\n",
              "    }\n",
              "    40% {\n",
              "      border-color: transparent;\n",
              "      border-right-color: var(--fill-color);\n",
              "      border-top-color: var(--fill-color);\n",
              "    }\n",
              "    60% {\n",
              "      border-color: transparent;\n",
              "      border-right-color: var(--fill-color);\n",
              "    }\n",
              "    80% {\n",
              "      border-color: transparent;\n",
              "      border-right-color: var(--fill-color);\n",
              "      border-bottom-color: var(--fill-color);\n",
              "    }\n",
              "    90% {\n",
              "      border-color: transparent;\n",
              "      border-bottom-color: var(--fill-color);\n",
              "    }\n",
              "  }\n",
              "</style>\n",
              "\n",
              "  <script>\n",
              "    async function quickchart(key) {\n",
              "      const quickchartButtonEl =\n",
              "        document.querySelector('#' + key + ' button');\n",
              "      quickchartButtonEl.disabled = true;  // To prevent multiple clicks.\n",
              "      quickchartButtonEl.classList.add('colab-df-spinner');\n",
              "      try {\n",
              "        const charts = await google.colab.kernel.invokeFunction(\n",
              "            'suggestCharts', [key], {});\n",
              "      } catch (error) {\n",
              "        console.error('Error during call to suggestCharts:', error);\n",
              "      }\n",
              "      quickchartButtonEl.classList.remove('colab-df-spinner');\n",
              "      quickchartButtonEl.classList.add('colab-df-quickchart-complete');\n",
              "    }\n",
              "    (() => {\n",
              "      let quickchartButtonEl =\n",
              "        document.querySelector('#df-b2e36b1c-51ca-4438-a25e-bd8dd80a1527 button');\n",
              "      quickchartButtonEl.style.display =\n",
              "        google.colab.kernel.accessAllowed ? 'block' : 'none';\n",
              "    })();\n",
              "  </script>\n",
              "</div>\n",
              "\n",
              "    </div>\n",
              "  </div>\n"
            ],
            "application/vnd.google.colaboratory.intrinsic+json": {
              "type": "dataframe",
              "variable_name": "abbreviations_df",
              "summary": "{\n  \"name\": \"abbreviations_df\",\n  \"rows\": 7168,\n  \"fields\": [\n    {\n      \"column\": \"abbr\",\n      \"properties\": {\n        \"dtype\": \"string\",\n        \"num_unique_values\": 7054,\n        \"samples\": [\n          \"\\u0421\\u0410\",\n          \"\\u0434\\u0435\\u0442\\u0438\\u0437\\u0434\\u0430\\u0442\",\n          \"\\u041b\\u0415\\u041d\\u0412\\u041d\\u0418\\u0413\\u0418\"\n        ],\n        \"semantic_type\": \"\",\n        \"description\": \"\"\n      }\n    },\n    {\n      \"column\": \"meaning\",\n      \"properties\": {\n        \"dtype\": \"string\",\n        \"num_unique_values\": 6746,\n        \"samples\": [\n          \"\\u043a\\u043e\\u043c\\u0435\\u043d\\u0434\\u0430\\u043d\\u0442 \\u0433\\u043b\\u0430\\u0432\\u043d\\u043e\\u0433\\u043e \\u043f\\u043e\\u0440\\u0442\\u0430\",\n          \"\\u044d\\u0442\\u0430\\u043f\\u043d\\u043e-\\u0437\\u0430\\u0433\\u0440\\u0430\\u0434\\u0438\\u0442\\u0435\\u043b\\u044c\\u043d\\u0430\\u044f \\u043a\\u043e\\u043c\\u0435\\u043d\\u0434\\u0430\\u0442\\u0443\\u0440\\u0430\",\n          \"\\u043e\\u0431\\u043b\\u0430\\u0441\\u0442\\u043d\\u044b\\u0435 \\u043e\\u0440\\u0433\\u0430\\u043d\\u044b \\u0443\\u043f\\u0440\\u0430\\u0432\\u043b\\u0435\\u043d\\u0438\\u044f \\u0448\\u043e\\u0441\\u0441\\u0435\\u0439\\u043d\\u044b\\u0445 \\u0438 \\u0433\\u0440\\u0443\\u043d\\u0442\\u043e\\u0432\\u044b\\u0445 \\u0434\\u043e\\u0440\\u043e\\u0433 \\u0438 \\u0430\\u0432\\u0442\\u043e\\u043c\\u043e\\u0431\\u0438\\u043b\\u044c\\u043d\\u043e\\u0433\\u043e \\u0442\\u0440\\u0430\\u043d\\u0441\\u043f\\u043e\\u0440\\u0442\\u0430\"\n        ],\n        \"semantic_type\": \"\",\n        \"description\": \"\"\n      }\n    },\n    {\n      \"column\": \"embedding\",\n      \"properties\": {\n        \"dtype\": \"object\",\n        \"semantic_type\": \"\",\n        \"description\": \"\"\n      }\n    }\n  ]\n}"
            }
          },
          "metadata": {},
          "execution_count": 31
        }
      ]
    },
    {
      "cell_type": "markdown",
      "source": [
        "\n",
        "The RAG through embeddings is implemented through the following steps:\n",
        "  - Given request to create a card, get place of birth, occupation and execution place as a concatinated string. This is our query.\n",
        "  - For each word in the query get its stem.\n",
        "  - For each stem get its embedding.\n",
        "  - For each stem's embedding find the close embeddings from the abbreviation dictionary (top 100 which closer than 0.5) and return the list of abbreviations and its meanings that have the closest embeddings\n",
        "  - Compose a message to GPT out of these abbreviations and its meanings (just tell the GPT that it needs to lookup on these abbreviations' references before expanding abbreviations)\n",
        "\n",
        "Disclaimer: the code below is taken from the openai tutorials and slightly modified for our needs"
      ],
      "metadata": {
        "id": "pNwAqM6D5nKl"
      }
    },
    {
      "cell_type": "code",
      "source": [
        "from typing import Dict, List\n",
        "from nltk.stem.snowball import SnowballStemmer\n",
        "\n",
        "# search function\n",
        "async def strings_ranked_by_relatedness(\n",
        "    client: AsyncOpenAI,\n",
        "    query: str,\n",
        "    reference_df: pd.DataFrame,\n",
        "    relatedness_fn=lambda x, y: 1 - spatial.distance.cosine(x, y),\n",
        "    model=\"text-embedding-3-small\",\n",
        "    top_n: int = 100,\n",
        "    threshold=0.5\n",
        ") -> tuple[list[str], list[float]]:\n",
        "    \"\"\"Returns a list of strings and relatednesses, sorted from most related to least.\"\"\"\n",
        "    query_embedding_response = await client.embeddings.create(\n",
        "        model=model,\n",
        "        input=query,\n",
        "    )\n",
        "    query_embedding = query_embedding_response.data[0].embedding\n",
        "    strings_and_relatednesses = [\n",
        "        (' : '.join([row[\"abbr\"], row['meaning']]), relatedness_fn(query_embedding, row[\"embedding\"]))\n",
        "        for i, row in reference_df.iterrows()\n",
        "    ]\n",
        "    strings_and_relatednesses.sort(key=lambda x: x[1], reverse=True)\n",
        "    strings_and_relatednesses = [(string, rel) for string, rel in strings_and_relatednesses if rel > threshold]\n",
        "    if strings_and_relatednesses:\n",
        "      strings, relatednesses = zip(*strings_and_relatednesses)\n",
        "      return strings[:top_n], relatednesses[:top_n]\n",
        "    else:\n",
        "      return [], []\n",
        "\n",
        "def get_stems(words: str) -> List[str]:\n",
        "\n",
        "  stemmer = SnowballStemmer(\"russian\")\n",
        "\n",
        "  stemmed_words = [stemmer.stem(word) for word in words.split()]\n",
        "\n",
        "  return stemmed_words\n",
        "\n",
        "async def get_reference(\n",
        "    client: AsyncOpenAI,\n",
        "    query: str,\n",
        "    reference_df: pd.DataFrame,\n",
        "    model: str,\n",
        "    top_n: int = 10,\n",
        "    threshold: float = 0.5,\n",
        ") -> str:\n",
        "    \"\"\"Return a message for GPT, with relevant source texts pulled from a dataframe.\"\"\"\n",
        "\n",
        "    stems = get_stems(query)\n",
        "    ref_dic = ''\n",
        "    for stem in stems:\n",
        "      strings, _ = await strings_ranked_by_relatedness(client, stem, reference_df, model=model, top_n=top_n, threshold=threshold)\n",
        "      ref_dic += '\\n'.join(strings) + '\\n'\n",
        "    return ref_dic"
      ],
      "metadata": {
        "id": "8hf9rYgo7iQK"
      },
      "execution_count": 34,
      "outputs": []
    },
    {
      "cell_type": "markdown",
      "source": [
        "Let's see how the functions work. Below an example of \"НАУРПа\" the list of abbreviations and its meaning returned that are close to \"НАУРПа\":\n",
        "- The correct abbreviation is in the top of the returned list which is good as the mini model looks only on the top for relevant abbreviations. We assume the full model do the same, only the top for the full model is a bigger list.\n",
        "- The returned list is short and has all relevant information which helps with accuracy and cost"
      ],
      "metadata": {
        "id": "BTTtCIJKVqAd"
      }
    },
    {
      "cell_type": "code",
      "source": [
        "strings, relatednesses = await strings_ranked_by_relatedness(client, \"НАУРПа\", abbreviations_df, model=\"text-embedding-3-small\", top_n=200)\n",
        "for string, relatedness in zip(strings, relatednesses):\n",
        "    print(f\"{relatedness=:.3f}\")\n",
        "    display(string)"
      ],
      "metadata": {
        "colab": {
          "base_uri": "https://localhost:8080/",
          "height": 597
        },
        "id": "hQCmHXQ7Koy3",
        "outputId": "911a86cd-695a-429b-9960-80f1536e81a9"
      },
      "execution_count": null,
      "outputs": [
        {
          "output_type": "stream",
          "name": "stdout",
          "text": [
            "relatedness=0.938\n"
          ]
        },
        {
          "output_type": "display_data",
          "data": {
            "text/plain": [
              "'НАУРП : Нижне-Амурское управление речных пароходств'"
            ],
            "application/vnd.google.colaboratory.intrinsic+json": {
              "type": "string"
            }
          },
          "metadata": {}
        },
        {
          "output_type": "stream",
          "name": "stdout",
          "text": [
            "relatedness=0.610\n"
          ]
        },
        {
          "output_type": "display_data",
          "data": {
            "text/plain": [
              "'НУАРМ : Политическое управление армии'"
            ],
            "application/vnd.google.colaboratory.intrinsic+json": {
              "type": "string"
            }
          },
          "metadata": {}
        },
        {
          "output_type": "stream",
          "name": "stdout",
          "text": [
            "relatedness=0.585\n"
          ]
        },
        {
          "output_type": "display_data",
          "data": {
            "text/plain": [
              "'НАОП : Наставление артиллерийской огневрй подгртовки'"
            ],
            "application/vnd.google.colaboratory.intrinsic+json": {
              "type": "string"
            }
          },
          "metadata": {}
        },
        {
          "output_type": "stream",
          "name": "stdout",
          "text": [
            "relatedness=0.584\n"
          ]
        },
        {
          "output_type": "display_data",
          "data": {
            "text/plain": [
              "'УАПНР : Управление автоматики и пуско-наладочных работ'"
            ],
            "application/vnd.google.colaboratory.intrinsic+json": {
              "type": "string"
            }
          },
          "metadata": {}
        },
        {
          "output_type": "stream",
          "name": "stdout",
          "text": [
            "relatedness=0.567\n"
          ]
        },
        {
          "output_type": "display_data",
          "data": {
            "text/plain": [
              "'н\\nНАВ : Научная ассоциация востоковедения, нав. :: наводчик'"
            ],
            "application/vnd.google.colaboratory.intrinsic+json": {
              "type": "string"
            }
          },
          "metadata": {}
        },
        {
          "output_type": "stream",
          "name": "stdout",
          "text": [
            "relatedness=0.541\n"
          ]
        },
        {
          "output_type": "display_data",
          "data": {
            "text/plain": [
              "'НУС : начальник узла связи'"
            ],
            "application/vnd.google.colaboratory.intrinsic+json": {
              "type": "string"
            }
          },
          "metadata": {}
        },
        {
          "output_type": "stream",
          "name": "stdout",
          "text": [
            "relatedness=0.535\n"
          ]
        },
        {
          "output_type": "display_data",
          "data": {
            "text/plain": [
              "'АУ : Артиллерийское управление'"
            ],
            "application/vnd.google.colaboratory.intrinsic+json": {
              "type": "string"
            }
          },
          "metadata": {}
        },
        {
          "output_type": "stream",
          "name": "stdout",
          "text": [
            "relatedness=0.534\n"
          ]
        },
        {
          "output_type": "display_data",
          "data": {
            "text/plain": [
              "'АУВПС : Армейское управление военнополевого строительства'"
            ],
            "application/vnd.google.colaboratory.intrinsic+json": {
              "type": "string"
            }
          },
          "metadata": {}
        },
        {
          "output_type": "stream",
          "name": "stdout",
          "text": [
            "relatedness=0.524\n"
          ]
        },
        {
          "output_type": "display_data",
          "data": {
            "text/plain": [
              "'НАФА : ночной авиационный фотоаппарат'"
            ],
            "application/vnd.google.colaboratory.intrinsic+json": {
              "type": "string"
            }
          },
          "metadata": {}
        },
        {
          "output_type": "stream",
          "name": "stdout",
          "text": [
            "relatedness=0.521\n"
          ]
        },
        {
          "output_type": "display_data",
          "data": {
            "text/plain": [
              "'НУ : политическое управление'"
            ],
            "application/vnd.google.colaboratory.intrinsic+json": {
              "type": "string"
            }
          },
          "metadata": {}
        },
        {
          "output_type": "stream",
          "name": "stdout",
          "text": [
            "relatedness=0.519\n"
          ]
        },
        {
          "output_type": "display_data",
          "data": {
            "text/plain": [
              "'НАИЗ : Научная ассоциация по изучению народов Запада'"
            ],
            "application/vnd.google.colaboratory.intrinsic+json": {
              "type": "string"
            }
          },
          "metadata": {}
        },
        {
          "output_type": "stream",
          "name": "stdout",
          "text": [
            "relatedness=0.518\n"
          ]
        },
        {
          "output_type": "display_data",
          "data": {
            "text/plain": [
              "'ВНУПП : Трест военно-наглядных учебных пособий и приборов'"
            ],
            "application/vnd.google.colaboratory.intrinsic+json": {
              "type": "string"
            }
          },
          "metadata": {}
        },
        {
          "output_type": "stream",
          "name": "stdout",
          "text": [
            "relatedness=0.503\n"
          ]
        },
        {
          "output_type": "display_data",
          "data": {
            "text/plain": [
              "'УР : угол разворота, укрепленный район, учебный разведчик, урочище (карт.)'"
            ],
            "application/vnd.google.colaboratory.intrinsic+json": {
              "type": "string"
            }
          },
          "metadata": {}
        },
        {
          "output_type": "stream",
          "name": "stdout",
          "text": [
            "relatedness=0.503\n"
          ]
        },
        {
          "output_type": "display_data",
          "data": {
            "text/plain": [
              "'УР : уравнительный рубеж'"
            ],
            "application/vnd.google.colaboratory.intrinsic+json": {
              "type": "string"
            }
          },
          "metadata": {}
        },
        {
          "output_type": "stream",
          "name": "stdout",
          "text": [
            "relatedness=0.502\n"
          ]
        },
        {
          "output_type": "display_data",
          "data": {
            "text/plain": [
              "'КНАП : Комбинат наглядной агитации и пропаганды'"
            ],
            "application/vnd.google.colaboratory.intrinsic+json": {
              "type": "string"
            }
          },
          "metadata": {}
        },
        {
          "output_type": "stream",
          "name": "stdout",
          "text": [
            "relatedness=0.501\n"
          ]
        },
        {
          "output_type": "display_data",
          "data": {
            "text/plain": [
              "'НАД : начальник авиационной дивизии, начальник артиллерии дивизии'"
            ],
            "application/vnd.google.colaboratory.intrinsic+json": {
              "type": "string"
            }
          },
          "metadata": {}
        }
      ]
    },
    {
      "cell_type": "markdown",
      "source": [
        "Not everything is rosy for \"горЗО\" example as the relevant abbreviation is 5th in the list. The mini model doesn't like that and returns the first abbreviation instead \"гор- : горный, -ая, -ое, городской, -ая, -ое\""
      ],
      "metadata": {
        "id": "9HQeXru1XVw3"
      }
    },
    {
      "cell_type": "code",
      "source": [
        "# examples: Зав. сектором горЗО\n",
        "strings, relatednesses = await strings_ranked_by_relatedness(client, \"горЗО\", abbreviations_df, model=\"text-embedding-3-small\", threshold=0.5, top_n=200)\n",
        "for string, relatedness in zip(strings, relatednesses):\n",
        "    print(f\"{relatedness=:.3f}\")\n",
        "    display(string)"
      ],
      "metadata": {
        "colab": {
          "base_uri": "https://localhost:8080/",
          "height": 1000
        },
        "id": "PftfrnT_QNDG",
        "outputId": "79780925-e3b0-4f6c-a142-cfd0e6ece4b7"
      },
      "execution_count": null,
      "outputs": [
        {
          "output_type": "stream",
          "name": "stdout",
          "text": [
            "relatedness=0.722\n"
          ]
        },
        {
          "output_type": "display_data",
          "data": {
            "text/plain": [
              "'гор- : горный, -ая, -ое, городской, -ая, -ое'"
            ],
            "application/vnd.google.colaboratory.intrinsic+json": {
              "type": "string"
            }
          },
          "metadata": {}
        },
        {
          "output_type": "stream",
          "name": "stdout",
          "text": [
            "relatedness=0.705\n"
          ]
        },
        {
          "output_type": "display_data",
          "data": {
            "text/plain": [
              "'гор. : город, городок'"
            ],
            "application/vnd.google.colaboratory.intrinsic+json": {
              "type": "string"
            }
          },
          "metadata": {}
        },
        {
          "output_type": "stream",
          "name": "stdout",
          "text": [
            "relatedness=0.704\n"
          ]
        },
        {
          "output_type": "display_data",
          "data": {
            "text/plain": [
              "'ГОРЗЫ : Государственное объединение радиотелеграфных заводов'"
            ],
            "application/vnd.google.colaboratory.intrinsic+json": {
              "type": "string"
            }
          },
          "metadata": {}
        },
        {
          "output_type": "stream",
          "name": "stdout",
          "text": [
            "relatedness=0.661\n"
          ]
        },
        {
          "output_type": "display_data",
          "data": {
            "text/plain": [
              "'Гор. : горячий источник (карт.)'"
            ],
            "application/vnd.google.colaboratory.intrinsic+json": {
              "type": "string"
            }
          },
          "metadata": {}
        },
        {
          "output_type": "stream",
          "name": "stdout",
          "text": [
            "relatedness=0.659\n"
          ]
        },
        {
          "output_type": "display_data",
          "data": {
            "text/plain": [
              "'горзо : городской земельный отдел'"
            ],
            "application/vnd.google.colaboratory.intrinsic+json": {
              "type": "string"
            }
          },
          "metadata": {}
        },
        {
          "output_type": "stream",
          "name": "stdout",
          "text": [
            "relatedness=0.625\n"
          ]
        },
        {
          "output_type": "display_data",
          "data": {
            "text/plain": [
              "'горОНО (гороно) : городской отдел народного образования'"
            ],
            "application/vnd.google.colaboratory.intrinsic+json": {
              "type": "string"
            }
          },
          "metadata": {}
        },
        {
          "output_type": "stream",
          "name": "stdout",
          "text": [
            "relatedness=0.605\n"
          ]
        },
        {
          "output_type": "display_data",
          "data": {
            "text/plain": [
              "'гз : группа заграждения'"
            ],
            "application/vnd.google.colaboratory.intrinsic+json": {
              "type": "string"
            }
          },
          "metadata": {}
        },
        {
          "output_type": "stream",
          "name": "stdout",
          "text": [
            "relatedness=0.601\n"
          ]
        },
        {
          "output_type": "display_data",
          "data": {
            "text/plain": [
              "'ГАРЗ : Государственный авторемонтный завод'"
            ],
            "application/vnd.google.colaboratory.intrinsic+json": {
              "type": "string"
            }
          },
          "metadata": {}
        },
        {
          "output_type": "stream",
          "name": "stdout",
          "text": [
            "relatedness=0.596\n"
          ]
        },
        {
          "output_type": "display_data",
          "data": {
            "text/plain": [
              "'гоз : Государственный Оптический завод'"
            ],
            "application/vnd.google.colaboratory.intrinsic+json": {
              "type": "string"
            }
          },
          "metadata": {}
        },
        {
          "output_type": "stream",
          "name": "stdout",
          "text": [
            "relatedness=0.594\n"
          ]
        },
        {
          "output_type": "display_data",
          "data": {
            "text/plain": [
              "'ЗОМ : Завод отделочных машин'"
            ],
            "application/vnd.google.colaboratory.intrinsic+json": {
              "type": "string"
            }
          },
          "metadata": {}
        },
        {
          "output_type": "stream",
          "name": "stdout",
          "text": [
            "relatedness=0.593\n"
          ]
        },
        {
          "output_type": "display_data",
          "data": {
            "text/plain": [
              "'горздрав : городской отдел здравоохранения'"
            ],
            "application/vnd.google.colaboratory.intrinsic+json": {
              "type": "string"
            }
          },
          "metadata": {}
        },
        {
          "output_type": "stream",
          "name": "stdout",
          "text": [
            "relatedness=0.592\n"
          ]
        },
        {
          "output_type": "display_data",
          "data": {
            "text/plain": [
              "'ЗОРУ : Учебный комбинат заочного обучения работников учета'"
            ],
            "application/vnd.google.colaboratory.intrinsic+json": {
              "type": "string"
            }
          },
          "metadata": {}
        },
        {
          "output_type": "stream",
          "name": "stdout",
          "text": [
            "relatedness=0.590\n"
          ]
        },
        {
          "output_type": "display_data",
          "data": {
            "text/plain": [
              "'ЗРК : закрытый рабочий кооператив;ЗСГУ :: Западно-Сибирское Геологическое управление'"
            ],
            "application/vnd.google.colaboratory.intrinsic+json": {
              "type": "string"
            }
          },
          "metadata": {}
        },
        {
          "output_type": "stream",
          "name": "stdout",
          "text": [
            "relatedness=0.581\n"
          ]
        },
        {
          "output_type": "display_data",
          "data": {
            "text/plain": [
              "'ПЗО : переносный заградительный огонь'"
            ],
            "application/vnd.google.colaboratory.intrinsic+json": {
              "type": "string"
            }
          },
          "metadata": {}
        },
        {
          "output_type": "stream",
          "name": "stdout",
          "text": [
            "relatedness=0.581\n"
          ]
        },
        {
          "output_type": "display_data",
          "data": {
            "text/plain": [
              "'ПЗО : планово-экономический отдел'"
            ],
            "application/vnd.google.colaboratory.intrinsic+json": {
              "type": "string"
            }
          },
          "metadata": {}
        },
        {
          "output_type": "stream",
          "name": "stdout",
          "text": [
            "relatedness=0.569\n"
          ]
        },
        {
          "output_type": "display_data",
          "data": {
            "text/plain": [
              "'помзаворг : помощник заведующего организацией'"
            ],
            "application/vnd.google.colaboratory.intrinsic+json": {
              "type": "string"
            }
          },
          "metadata": {}
        },
        {
          "output_type": "stream",
          "name": "stdout",
          "text": [
            "relatedness=0.566\n"
          ]
        },
        {
          "output_type": "display_data",
          "data": {
            "text/plain": [
              "'гзос : Государственные Центральные курсы заочного обучения стенографии'"
            ],
            "application/vnd.google.colaboratory.intrinsic+json": {
              "type": "string"
            }
          },
          "metadata": {}
        },
        {
          "output_type": "stream",
          "name": "stdout",
          "text": [
            "relatedness=0.565\n"
          ]
        },
        {
          "output_type": "display_data",
          "data": {
            "text/plain": [
              "'РЖО : районный жилищный отдел'"
            ],
            "application/vnd.google.colaboratory.intrinsic+json": {
              "type": "string"
            }
          },
          "metadata": {}
        },
        {
          "output_type": "stream",
          "name": "stdout",
          "text": [
            "relatedness=0.564\n"
          ]
        },
        {
          "output_type": "display_data",
          "data": {
            "text/plain": [
              "'ГЗИП : Государственный завод испытательных приборов'"
            ],
            "application/vnd.google.colaboratory.intrinsic+json": {
              "type": "string"
            }
          },
          "metadata": {}
        },
        {
          "output_type": "stream",
          "name": "stdout",
          "text": [
            "relatedness=0.562\n"
          ]
        },
        {
          "output_type": "display_data",
          "data": {
            "text/plain": [
              "'ГПЗ : Государственный подшипниковый завод'"
            ],
            "application/vnd.google.colaboratory.intrinsic+json": {
              "type": "string"
            }
          },
          "metadata": {}
        },
        {
          "output_type": "stream",
          "name": "stdout",
          "text": [
            "relatedness=0.561\n"
          ]
        },
        {
          "output_type": "display_data",
          "data": {
            "text/plain": [
              "'Горзавтрест : Государственный трест горнозаводского оборудования'"
            ],
            "application/vnd.google.colaboratory.intrinsic+json": {
              "type": "string"
            }
          },
          "metadata": {}
        },
        {
          "output_type": "stream",
          "name": "stdout",
          "text": [
            "relatedness=0.561\n"
          ]
        },
        {
          "output_type": "display_data",
          "data": {
            "text/plain": [
              "'БЗР : батарея звуковой разведки'"
            ],
            "application/vnd.google.colaboratory.intrinsic+json": {
              "type": "string"
            }
          },
          "metadata": {}
        },
        {
          "output_type": "stream",
          "name": "stdout",
          "text": [
            "relatedness=0.559\n"
          ]
        },
        {
          "output_type": "display_data",
          "data": {
            "text/plain": [
              "'ГРОЗНИМ : Грозненский Научно-исследовательский нефтяной институт им. И. В. Коссиора'"
            ],
            "application/vnd.google.colaboratory.intrinsic+json": {
              "type": "string"
            }
          },
          "metadata": {}
        },
        {
          "output_type": "stream",
          "name": "stdout",
          "text": [
            "relatedness=0.557\n"
          ]
        },
        {
          "output_type": "display_data",
          "data": {
            "text/plain": [
              "'ВОРЗ : Всесоюзное объединение ремонтных заводов'"
            ],
            "application/vnd.google.colaboratory.intrinsic+json": {
              "type": "string"
            }
          },
          "metadata": {}
        },
        {
          "output_type": "stream",
          "name": "stdout",
          "text": [
            "relatedness=0.557\n"
          ]
        },
        {
          "output_type": "display_data",
          "data": {
            "text/plain": [
              "'ГРУ : Главное разведывательное управление Генерального штаба, Главное распределительное устройство электростанций'"
            ],
            "application/vnd.google.colaboratory.intrinsic+json": {
              "type": "string"
            }
          },
          "metadata": {}
        },
        {
          "output_type": "stream",
          "name": "stdout",
          "text": [
            "relatedness=0.552\n"
          ]
        },
        {
          "output_type": "display_data",
          "data": {
            "text/plain": [
              "'СЗГРТ : Северо-западный геологоразведочный трест'"
            ],
            "application/vnd.google.colaboratory.intrinsic+json": {
              "type": "string"
            }
          },
          "metadata": {}
        },
        {
          "output_type": "stream",
          "name": "stdout",
          "text": [
            "relatedness=0.551\n"
          ]
        },
        {
          "output_type": "display_data",
          "data": {
            "text/plain": [
              "'ГГРУ : Главное Геологоразведочное управление'"
            ],
            "application/vnd.google.colaboratory.intrinsic+json": {
              "type": "string"
            }
          },
          "metadata": {}
        },
        {
          "output_type": "stream",
          "name": "stdout",
          "text": [
            "relatedness=0.550\n"
          ]
        },
        {
          "output_type": "display_data",
          "data": {
            "text/plain": [
              "'ВРЗ : Вагоноремонтный завод'"
            ],
            "application/vnd.google.colaboratory.intrinsic+json": {
              "type": "string"
            }
          },
          "metadata": {}
        },
        {
          "output_type": "stream",
          "name": "stdout",
          "text": [
            "relatedness=0.548\n"
          ]
        },
        {
          "output_type": "display_data",
          "data": {
            "text/plain": [
              "'ЛенОГИЗ : Ленинградское Объединение Государственных издательств'"
            ],
            "application/vnd.google.colaboratory.intrinsic+json": {
              "type": "string"
            }
          },
          "metadata": {}
        },
        {
          "output_type": "stream",
          "name": "stdout",
          "text": [
            "relatedness=0.546\n"
          ]
        },
        {
          "output_type": "display_data",
          "data": {
            "text/plain": [
              "'ЗИ : За индустриализацию (журнал)'"
            ],
            "application/vnd.google.colaboratory.intrinsic+json": {
              "type": "string"
            }
          },
          "metadata": {}
        },
        {
          "output_type": "stream",
          "name": "stdout",
          "text": [
            "relatedness=0.544\n"
          ]
        },
        {
          "output_type": "display_data",
          "data": {
            "text/plain": [
              "'горт : государственный отдел радиотехники'"
            ],
            "application/vnd.google.colaboratory.intrinsic+json": {
              "type": "string"
            }
          },
          "metadata": {}
        },
        {
          "output_type": "stream",
          "name": "stdout",
          "text": [
            "relatedness=0.542\n"
          ]
        },
        {
          "output_type": "display_data",
          "data": {
            "text/plain": [
              "'гзх : Государственное земледельческое хозяйство (в Болгарии)'"
            ],
            "application/vnd.google.colaboratory.intrinsic+json": {
              "type": "string"
            }
          },
          "metadata": {}
        },
        {
          "output_type": "stream",
          "name": "stdout",
          "text": [
            "relatedness=0.537\n"
          ]
        },
        {
          "output_type": "display_data",
          "data": {
            "text/plain": [
              "'ГО : главный отряд'"
            ],
            "application/vnd.google.colaboratory.intrinsic+json": {
              "type": "string"
            }
          },
          "metadata": {}
        },
        {
          "output_type": "stream",
          "name": "stdout",
          "text": [
            "relatedness=0.536\n"
          ]
        },
        {
          "output_type": "display_data",
          "data": {
            "text/plain": [
              "'РАРЗ : районный авторемонтный завод'"
            ],
            "application/vnd.google.colaboratory.intrinsic+json": {
              "type": "string"
            }
          },
          "metadata": {}
        },
        {
          "output_type": "stream",
          "name": "stdout",
          "text": [
            "relatedness=0.536\n"
          ]
        },
        {
          "output_type": "display_data",
          "data": {
            "text/plain": [
              "'ГФО : главная физическая обсерватория'"
            ],
            "application/vnd.google.colaboratory.intrinsic+json": {
              "type": "string"
            }
          },
          "metadata": {}
        },
        {
          "output_type": "stream",
          "name": "stdout",
          "text": [
            "relatedness=0.535\n"
          ]
        },
        {
          "output_type": "display_data",
          "data": {
            "text/plain": [
              "'ЗАГС : Запись актов гражданского состояния'"
            ],
            "application/vnd.google.colaboratory.intrinsic+json": {
              "type": "string"
            }
          },
          "metadata": {}
        },
        {
          "output_type": "stream",
          "name": "stdout",
          "text": [
            "relatedness=0.533\n"
          ]
        },
        {
          "output_type": "display_data",
          "data": {
            "text/plain": [
              "'ГКРУ : Главное управление Министерства государственной безопасности по делам контрреволюции'"
            ],
            "application/vnd.google.colaboratory.intrinsic+json": {
              "type": "string"
            }
          },
          "metadata": {}
        },
        {
          "output_type": "stream",
          "name": "stdout",
          "text": [
            "relatedness=0.531\n"
          ]
        },
        {
          "output_type": "display_data",
          "data": {
            "text/plain": [
              "'ГРИ : Государственный радиевый институт'"
            ],
            "application/vnd.google.colaboratory.intrinsic+json": {
              "type": "string"
            }
          },
          "metadata": {}
        },
        {
          "output_type": "stream",
          "name": "stdout",
          "text": [
            "relatedness=0.531\n"
          ]
        },
        {
          "output_type": "display_data",
          "data": {
            "text/plain": [
              "'ОРПНЗ : Общество по распространению политических и научных знаний'"
            ],
            "application/vnd.google.colaboratory.intrinsic+json": {
              "type": "string"
            }
          },
          "metadata": {}
        },
        {
          "output_type": "stream",
          "name": "stdout",
          "text": [
            "relatedness=0.529\n"
          ]
        },
        {
          "output_type": "display_data",
          "data": {
            "text/plain": [
              "'рзв. : разведывательный зенитный взвод'"
            ],
            "application/vnd.google.colaboratory.intrinsic+json": {
              "type": "string"
            }
          },
          "metadata": {}
        },
        {
          "output_type": "stream",
          "name": "stdout",
          "text": [
            "relatedness=0.528\n"
          ]
        },
        {
          "output_type": "display_data",
          "data": {
            "text/plain": [
              "'УралЗИС : Уральский автомобильный завод им. Сталина (в Миассе)'"
            ],
            "application/vnd.google.colaboratory.intrinsic+json": {
              "type": "string"
            }
          },
          "metadata": {}
        },
        {
          "output_type": "stream",
          "name": "stdout",
          "text": [
            "relatedness=0.527\n"
          ]
        },
        {
          "output_type": "display_data",
          "data": {
            "text/plain": [
              "'ЗАКВОДГЕО : Закавказское отделение Всесоюзного Научно-исследовательского института водоснабжения, канализации, гидротехнических сооружений и инженерной гидрогеологии'"
            ],
            "application/vnd.google.colaboratory.intrinsic+json": {
              "type": "string"
            }
          },
          "metadata": {}
        },
        {
          "output_type": "stream",
          "name": "stdout",
          "text": [
            "relatedness=0.527\n"
          ]
        },
        {
          "output_type": "display_data",
          "data": {
            "text/plain": [
              "'ВНИТОгор : Всесоюзное научное инженерно- техническое горное общество'"
            ],
            "application/vnd.google.colaboratory.intrinsic+json": {
              "type": "string"
            }
          },
          "metadata": {}
        },
        {
          "output_type": "stream",
          "name": "stdout",
          "text": [
            "relatedness=0.526\n"
          ]
        },
        {
          "output_type": "display_data",
          "data": {
            "text/plain": [
              "'ГРРРИ : Государственный рентгенологический, радиологический и раковый институт'"
            ],
            "application/vnd.google.colaboratory.intrinsic+json": {
              "type": "string"
            }
          },
          "metadata": {}
        },
        {
          "output_type": "stream",
          "name": "stdout",
          "text": [
            "relatedness=0.525\n"
          ]
        },
        {
          "output_type": "display_data",
          "data": {
            "text/plain": [
              "'ТЗ : тыловая застава'"
            ],
            "application/vnd.google.colaboratory.intrinsic+json": {
              "type": "string"
            }
          },
          "metadata": {}
        },
        {
          "output_type": "stream",
          "name": "stdout",
          "text": [
            "relatedness=0.525\n"
          ]
        },
        {
          "output_type": "display_data",
          "data": {
            "text/plain": [
              "'ОрВО : Орловский военный округ'"
            ],
            "application/vnd.google.colaboratory.intrinsic+json": {
              "type": "string"
            }
          },
          "metadata": {}
        },
        {
          "output_type": "stream",
          "name": "stdout",
          "text": [
            "relatedness=0.525\n"
          ]
        },
        {
          "output_type": "display_data",
          "data": {
            "text/plain": [
              "'РГК : резерв главного командования'"
            ],
            "application/vnd.google.colaboratory.intrinsic+json": {
              "type": "string"
            }
          },
          "metadata": {}
        },
        {
          "output_type": "stream",
          "name": "stdout",
          "text": [
            "relatedness=0.524\n"
          ]
        },
        {
          "output_type": "display_data",
          "data": {
            "text/plain": [
              "'РУЖ : Ружейно-пулеметный трест'"
            ],
            "application/vnd.google.colaboratory.intrinsic+json": {
              "type": "string"
            }
          },
          "metadata": {}
        },
        {
          "output_type": "stream",
          "name": "stdout",
          "text": [
            "relatedness=0.524\n"
          ]
        },
        {
          "output_type": "display_data",
          "data": {
            "text/plain": [
              "'КЗОТ : Кодекс законов о труде'"
            ],
            "application/vnd.google.colaboratory.intrinsic+json": {
              "type": "string"
            }
          },
          "metadata": {}
        },
        {
          "output_type": "stream",
          "name": "stdout",
          "text": [
            "relatedness=0.520\n"
          ]
        },
        {
          "output_type": "display_data",
          "data": {
            "text/plain": [
              "'ЛеноКОГИЗ : Ленинградское Областное отделение Книготоргового объединения Государственных издательств'"
            ],
            "application/vnd.google.colaboratory.intrinsic+json": {
              "type": "string"
            }
          },
          "metadata": {}
        },
        {
          "output_type": "stream",
          "name": "stdout",
          "text": [
            "relatedness=0.520\n"
          ]
        },
        {
          "output_type": "display_data",
          "data": {
            "text/plain": [
              "'Огор. : огородничество (карт.)'"
            ],
            "application/vnd.google.colaboratory.intrinsic+json": {
              "type": "string"
            }
          },
          "metadata": {}
        },
        {
          "output_type": "stream",
          "name": "stdout",
          "text": [
            "relatedness=0.520\n"
          ]
        },
        {
          "output_type": "display_data",
          "data": {
            "text/plain": [
              "'ОЗАД : отдельный зенитный артиллерийский  дивизион'"
            ],
            "application/vnd.google.colaboratory.intrinsic+json": {
              "type": "string"
            }
          },
          "metadata": {}
        },
        {
          "output_type": "stream",
          "name": "stdout",
          "text": [
            "relatedness=0.520\n"
          ]
        },
        {
          "output_type": "display_data",
          "data": {
            "text/plain": [
              "'НЗО : неподвижный заградительный огонь'"
            ],
            "application/vnd.google.colaboratory.intrinsic+json": {
              "type": "string"
            }
          },
          "metadata": {}
        },
        {
          "output_type": "stream",
          "name": "stdout",
          "text": [
            "relatedness=0.520\n"
          ]
        },
        {
          "output_type": "display_data",
          "data": {
            "text/plain": [
              "'ТРО : транспортный отдел'"
            ],
            "application/vnd.google.colaboratory.intrinsic+json": {
              "type": "string"
            }
          },
          "metadata": {}
        },
        {
          "output_type": "stream",
          "name": "stdout",
          "text": [
            "relatedness=0.519\n"
          ]
        },
        {
          "output_type": "display_data",
          "data": {
            "text/plain": [
              "'гимз : Государственный Институт медицинских знаний'"
            ],
            "application/vnd.google.colaboratory.intrinsic+json": {
              "type": "string"
            }
          },
          "metadata": {}
        },
        {
          "output_type": "stream",
          "name": "stdout",
          "text": [
            "relatedness=0.519\n"
          ]
        },
        {
          "output_type": "display_data",
          "data": {
            "text/plain": [
              "'ИЗО : Отдел изобразительных искусств при Народном комиссариате (Министерстве) просвещения'"
            ],
            "application/vnd.google.colaboratory.intrinsic+json": {
              "type": "string"
            }
          },
          "metadata": {}
        },
        {
          "output_type": "stream",
          "name": "stdout",
          "text": [
            "relatedness=0.517\n"
          ]
        },
        {
          "output_type": "display_data",
          "data": {
            "text/plain": [
              "'ЗУ : земельное управление'"
            ],
            "application/vnd.google.colaboratory.intrinsic+json": {
              "type": "string"
            }
          },
          "metadata": {}
        },
        {
          "output_type": "stream",
          "name": "stdout",
          "text": [
            "relatedness=0.517\n"
          ]
        },
        {
          "output_type": "display_data",
          "data": {
            "text/plain": [
              "'горисполком : городской исполнительный комитет'"
            ],
            "application/vnd.google.colaboratory.intrinsic+json": {
              "type": "string"
            }
          },
          "metadata": {}
        },
        {
          "output_type": "stream",
          "name": "stdout",
          "text": [
            "relatedness=0.516\n"
          ]
        },
        {
          "output_type": "display_data",
          "data": {
            "text/plain": [
              "'ЗГЭИ : Закавказкий Научно-исследовательский гидроэнергетический трест'"
            ],
            "application/vnd.google.colaboratory.intrinsic+json": {
              "type": "string"
            }
          },
          "metadata": {}
        },
        {
          "output_type": "stream",
          "name": "stdout",
          "text": [
            "relatedness=0.516\n"
          ]
        },
        {
          "output_type": "display_data",
          "data": {
            "text/plain": [
              "'ВГРП : Волжское государственное речное пароходство'"
            ],
            "application/vnd.google.colaboratory.intrinsic+json": {
              "type": "string"
            }
          },
          "metadata": {}
        },
        {
          "output_type": "stream",
          "name": "stdout",
          "text": [
            "relatedness=0.515\n"
          ]
        },
        {
          "output_type": "display_data",
          "data": {
            "text/plain": [
              "'ОЗР : отдел защиты растений'"
            ],
            "application/vnd.google.colaboratory.intrinsic+json": {
              "type": "string"
            }
          },
          "metadata": {}
        },
        {
          "output_type": "stream",
          "name": "stdout",
          "text": [
            "relatedness=0.514\n"
          ]
        },
        {
          "output_type": "display_data",
          "data": {
            "text/plain": [
              "'сз : сеть заграждения, служба заграждения'"
            ],
            "application/vnd.google.colaboratory.intrinsic+json": {
              "type": "string"
            }
          },
          "metadata": {}
        },
        {
          "output_type": "stream",
          "name": "stdout",
          "text": [
            "relatedness=0.513\n"
          ]
        },
        {
          "output_type": "display_data",
          "data": {
            "text/plain": [
              "'ГЗФС : Горьковский завод фрезерных станков'"
            ],
            "application/vnd.google.colaboratory.intrinsic+json": {
              "type": "string"
            }
          },
          "metadata": {}
        },
        {
          "output_type": "stream",
          "name": "stdout",
          "text": [
            "relatedness=0.513\n"
          ]
        },
        {
          "output_type": "display_data",
          "data": {
            "text/plain": [
              "'угз : участок главного заражения'"
            ],
            "application/vnd.google.colaboratory.intrinsic+json": {
              "type": "string"
            }
          },
          "metadata": {}
        },
        {
          "output_type": "stream",
          "name": "stdout",
          "text": [
            "relatedness=0.512\n"
          ]
        },
        {
          "output_type": "display_data",
          "data": {
            "text/plain": [
              "'ТОЗ : и товарищество по совместной обработке земли, Тульский орудийный завод;Тол. :: Толевый завод (карт.)'"
            ],
            "application/vnd.google.colaboratory.intrinsic+json": {
              "type": "string"
            }
          },
          "metadata": {}
        },
        {
          "output_type": "stream",
          "name": "stdout",
          "text": [
            "relatedness=0.512\n"
          ]
        },
        {
          "output_type": "display_data",
          "data": {
            "text/plain": [
              "'горкомхоз : городское коммунальное хозяйство'"
            ],
            "application/vnd.google.colaboratory.intrinsic+json": {
              "type": "string"
            }
          },
          "metadata": {}
        },
        {
          "output_type": "stream",
          "name": "stdout",
          "text": [
            "relatedness=0.511\n"
          ]
        },
        {
          "output_type": "display_data",
          "data": {
            "text/plain": [
              "'СРзВО : Среднеазиатский военный округ'"
            ],
            "application/vnd.google.colaboratory.intrinsic+json": {
              "type": "string"
            }
          },
          "metadata": {}
        },
        {
          "output_type": "stream",
          "name": "stdout",
          "text": [
            "relatedness=0.510\n"
          ]
        },
        {
          "output_type": "display_data",
          "data": {
            "text/plain": [
              "'ГАГО : Государственное астрономогеодезическое общество'"
            ],
            "application/vnd.google.colaboratory.intrinsic+json": {
              "type": "string"
            }
          },
          "metadata": {}
        },
        {
          "output_type": "stream",
          "name": "stdout",
          "text": [
            "relatedness=0.509\n"
          ]
        },
        {
          "output_type": "display_data",
          "data": {
            "text/plain": [
              "'ГРМ : Государственный Русский музей'"
            ],
            "application/vnd.google.colaboratory.intrinsic+json": {
              "type": "string"
            }
          },
          "metadata": {}
        },
        {
          "output_type": "stream",
          "name": "stdout",
          "text": [
            "relatedness=0.509\n"
          ]
        },
        {
          "output_type": "display_data",
          "data": {
            "text/plain": [
              "'ТРГК : танки резерва главного командования'"
            ],
            "application/vnd.google.colaboratory.intrinsic+json": {
              "type": "string"
            }
          },
          "metadata": {}
        },
        {
          "output_type": "stream",
          "name": "stdout",
          "text": [
            "relatedness=0.509\n"
          ]
        },
        {
          "output_type": "display_data",
          "data": {
            "text/plain": [
              "'ГПР : Государственный племенной рассадник'"
            ],
            "application/vnd.google.colaboratory.intrinsic+json": {
              "type": "string"
            }
          },
          "metadata": {}
        },
        {
          "output_type": "stream",
          "name": "stdout",
          "text": [
            "relatedness=0.509\n"
          ]
        },
        {
          "output_type": "display_data",
          "data": {
            "text/plain": [
              "'горфинотдел : городской финансовый отдел'"
            ],
            "application/vnd.google.colaboratory.intrinsic+json": {
              "type": "string"
            }
          },
          "metadata": {}
        },
        {
          "output_type": "stream",
          "name": "stdout",
          "text": [
            "relatedness=0.508\n"
          ]
        },
        {
          "output_type": "display_data",
          "data": {
            "text/plain": [
              "'ЗЛП : запасный лыжный полк'"
            ],
            "application/vnd.google.colaboratory.intrinsic+json": {
              "type": "string"
            }
          },
          "metadata": {}
        },
        {
          "output_type": "stream",
          "name": "stdout",
          "text": [
            "relatedness=0.508\n"
          ]
        },
        {
          "output_type": "display_data",
          "data": {
            "text/plain": [
              "'ГИЖ : Государственный Институт журналистики'"
            ],
            "application/vnd.google.colaboratory.intrinsic+json": {
              "type": "string"
            }
          },
          "metadata": {}
        },
        {
          "output_type": "stream",
          "name": "stdout",
          "text": [
            "relatedness=0.507\n"
          ]
        },
        {
          "output_type": "display_data",
          "data": {
            "text/plain": [
              "'горпром : горная промышленность'"
            ],
            "application/vnd.google.colaboratory.intrinsic+json": {
              "type": "string"
            }
          },
          "metadata": {}
        },
        {
          "output_type": "stream",
          "name": "stdout",
          "text": [
            "relatedness=0.507\n"
          ]
        },
        {
          "output_type": "display_data",
          "data": {
            "text/plain": [
              "'зоосад : зоологический сад'"
            ],
            "application/vnd.google.colaboratory.intrinsic+json": {
              "type": "string"
            }
          },
          "metadata": {}
        },
        {
          "output_type": "stream",
          "name": "stdout",
          "text": [
            "relatedness=0.504\n"
          ]
        },
        {
          "output_type": "display_data",
          "data": {
            "text/plain": [
              "'помзав : помощник заведующего'"
            ],
            "application/vnd.google.colaboratory.intrinsic+json": {
              "type": "string"
            }
          },
          "metadata": {}
        },
        {
          "output_type": "stream",
          "name": "stdout",
          "text": [
            "relatedness=0.504\n"
          ]
        },
        {
          "output_type": "display_data",
          "data": {
            "text/plain": [
              "'гго : Главная Геофизическая обсерватория'"
            ],
            "application/vnd.google.colaboratory.intrinsic+json": {
              "type": "string"
            }
          },
          "metadata": {}
        },
        {
          "output_type": "stream",
          "name": "stdout",
          "text": [
            "relatedness=0.504\n"
          ]
        },
        {
          "output_type": "display_data",
          "data": {
            "text/plain": [
              "'ПТЗО : противотанковый заградительный огонь;'"
            ],
            "application/vnd.google.colaboratory.intrinsic+json": {
              "type": "string"
            }
          },
          "metadata": {}
        },
        {
          "output_type": "stream",
          "name": "stdout",
          "text": [
            "relatedness=0.503\n"
          ]
        },
        {
          "output_type": "display_data",
          "data": {
            "text/plain": [
              "'ЗИФ : Радиозавод имени Фрунзе'"
            ],
            "application/vnd.google.colaboratory.intrinsic+json": {
              "type": "string"
            }
          },
          "metadata": {}
        },
        {
          "output_type": "stream",
          "name": "stdout",
          "text": [
            "relatedness=0.503\n"
          ]
        },
        {
          "output_type": "display_data",
          "data": {
            "text/plain": [
              "'ЗИФ : Машиностроительный завод имени Фрунзе'"
            ],
            "application/vnd.google.colaboratory.intrinsic+json": {
              "type": "string"
            }
          },
          "metadata": {}
        },
        {
          "output_type": "stream",
          "name": "stdout",
          "text": [
            "relatedness=0.503\n"
          ]
        },
        {
          "output_type": "display_data",
          "data": {
            "text/plain": [
              "'гр-ка : гражданка'"
            ],
            "application/vnd.google.colaboratory.intrinsic+json": {
              "type": "string"
            }
          },
          "metadata": {}
        },
        {
          "output_type": "stream",
          "name": "stdout",
          "text": [
            "relatedness=0.503\n"
          ]
        },
        {
          "output_type": "display_data",
          "data": {
            "text/plain": [
              "'ЗКУ : заведующий комендатурами участков'"
            ],
            "application/vnd.google.colaboratory.intrinsic+json": {
              "type": "string"
            }
          },
          "metadata": {}
        },
        {
          "output_type": "stream",
          "name": "stdout",
          "text": [
            "relatedness=0.503\n"
          ]
        },
        {
          "output_type": "display_data",
          "data": {
            "text/plain": [
              "'ОМЗ : Оптико-механический завод, Отдел мест заключения Министерства внутренних дел'"
            ],
            "application/vnd.google.colaboratory.intrinsic+json": {
              "type": "string"
            }
          },
          "metadata": {}
        },
        {
          "output_type": "stream",
          "name": "stdout",
          "text": [
            "relatedness=0.503\n"
          ]
        },
        {
          "output_type": "display_data",
          "data": {
            "text/plain": [
              "'ПРЗ : Паровозоремонтный завод'"
            ],
            "application/vnd.google.colaboratory.intrinsic+json": {
              "type": "string"
            }
          },
          "metadata": {}
        },
        {
          "output_type": "stream",
          "name": "stdout",
          "text": [
            "relatedness=0.502\n"
          ]
        },
        {
          "output_type": "display_data",
          "data": {
            "text/plain": [
              "'горком : городской комитет'"
            ],
            "application/vnd.google.colaboratory.intrinsic+json": {
              "type": "string"
            }
          },
          "metadata": {}
        },
        {
          "output_type": "stream",
          "name": "stdout",
          "text": [
            "relatedness=0.502\n"
          ]
        },
        {
          "output_type": "display_data",
          "data": {
            "text/plain": [
              "'Гипрогор : Государственный Институт по проектированию городов, гражданских сооружений, по съемкам и по планированию населенных мест'"
            ],
            "application/vnd.google.colaboratory.intrinsic+json": {
              "type": "string"
            }
          },
          "metadata": {}
        },
        {
          "output_type": "stream",
          "name": "stdout",
          "text": [
            "relatedness=0.501\n"
          ]
        },
        {
          "output_type": "display_data",
          "data": {
            "text/plain": [
              "'зппо : заградительный противотанковый переносный огонь'"
            ],
            "application/vnd.google.colaboratory.intrinsic+json": {
              "type": "string"
            }
          },
          "metadata": {}
        }
      ]
    },
    {
      "cell_type": "markdown",
      "source": [
        "It became better when we used stems instead of words for matching. Below the \"горЗО\" example improved."
      ],
      "metadata": {
        "id": "5E98WEfbX5MH"
      }
    },
    {
      "cell_type": "code",
      "source": [
        "from nltk.stem.snowball import SnowballStemmer\n",
        "\n",
        "stemmer = SnowballStemmer(\"russian\")\n",
        "\n",
        "words = \"Зав. сектором горЗО\".split()\n",
        "stemmed_words = [stemmer.stem(word) for word in words]\n",
        "\n",
        "print(\"\\nPorter Stemmer Output:\")\n",
        "for original, stemmed in zip(words, stemmed_words):\n",
        "    print(f\"{original} -> {stemmed}\")"
      ],
      "metadata": {
        "colab": {
          "base_uri": "https://localhost:8080/"
        },
        "id": "FwwUc5JcIc5O",
        "outputId": "e60dac44-4fc1-4287-e69a-726e22015092"
      },
      "execution_count": null,
      "outputs": [
        {
          "output_type": "stream",
          "name": "stdout",
          "text": [
            "\n",
            "Porter Stemmer Output:\n",
            "Зав. -> зав.\n",
            "сектором -> сектор\n",
            "горЗО -> горз\n"
          ]
        }
      ]
    },
    {
      "cell_type": "markdown",
      "source": [
        "For stem \"горз\" the relevant result is on the top of the list and the list is much shorter.\n",
        "\n",
        "it might be we wouldn't need to use stems if we had a better embedding model. We used the simplest and cheapest one."
      ],
      "metadata": {
        "id": "L_yf8TD5YHgH"
      }
    },
    {
      "cell_type": "code",
      "source": [
        "# example: Зав. сектором горЗО\n",
        "strings, relatednesses = await strings_ranked_by_relatedness(client, \"горз\", abbreviations_df, model=\"text-embedding-3-small\", threshold=0.5, top_n=200)\n",
        "for string, relatedness in zip(strings, relatednesses):\n",
        "    print(f\"{relatedness=:.3f}\")\n",
        "    display(string)"
      ],
      "metadata": {
        "colab": {
          "base_uri": "https://localhost:8080/",
          "height": 597
        },
        "id": "B3vbLL9NTaOO",
        "outputId": "e8a324bc-15a5-4544-dcdf-1d4ad10f52cb"
      },
      "execution_count": null,
      "outputs": [
        {
          "output_type": "stream",
          "name": "stdout",
          "text": [
            "relatedness=0.886\n"
          ]
        },
        {
          "output_type": "display_data",
          "data": {
            "text/plain": [
              "'горзо : городской земельный отдел'"
            ],
            "application/vnd.google.colaboratory.intrinsic+json": {
              "type": "string"
            }
          },
          "metadata": {}
        },
        {
          "output_type": "stream",
          "name": "stdout",
          "text": [
            "relatedness=0.771\n"
          ]
        },
        {
          "output_type": "display_data",
          "data": {
            "text/plain": [
              "'горздрав : городской отдел здравоохранения'"
            ],
            "application/vnd.google.colaboratory.intrinsic+json": {
              "type": "string"
            }
          },
          "metadata": {}
        },
        {
          "output_type": "stream",
          "name": "stdout",
          "text": [
            "relatedness=0.686\n"
          ]
        },
        {
          "output_type": "display_data",
          "data": {
            "text/plain": [
              "'Горзавтрест : Государственный трест горнозаводского оборудования'"
            ],
            "application/vnd.google.colaboratory.intrinsic+json": {
              "type": "string"
            }
          },
          "metadata": {}
        },
        {
          "output_type": "stream",
          "name": "stdout",
          "text": [
            "relatedness=0.678\n"
          ]
        },
        {
          "output_type": "display_data",
          "data": {
            "text/plain": [
              "'гор- : горный, -ая, -ое, городской, -ая, -ое'"
            ],
            "application/vnd.google.colaboratory.intrinsic+json": {
              "type": "string"
            }
          },
          "metadata": {}
        },
        {
          "output_type": "stream",
          "name": "stdout",
          "text": [
            "relatedness=0.655\n"
          ]
        },
        {
          "output_type": "display_data",
          "data": {
            "text/plain": [
              "'гор. : город, городок'"
            ],
            "application/vnd.google.colaboratory.intrinsic+json": {
              "type": "string"
            }
          },
          "metadata": {}
        },
        {
          "output_type": "stream",
          "name": "stdout",
          "text": [
            "relatedness=0.593\n"
          ]
        },
        {
          "output_type": "display_data",
          "data": {
            "text/plain": [
              "'Гор. : горячий источник (карт.)'"
            ],
            "application/vnd.google.colaboratory.intrinsic+json": {
              "type": "string"
            }
          },
          "metadata": {}
        },
        {
          "output_type": "stream",
          "name": "stdout",
          "text": [
            "relatedness=0.578\n"
          ]
        },
        {
          "output_type": "display_data",
          "data": {
            "text/plain": [
              "'горт : государственный отдел радиотехники'"
            ],
            "application/vnd.google.colaboratory.intrinsic+json": {
              "type": "string"
            }
          },
          "metadata": {}
        },
        {
          "output_type": "stream",
          "name": "stdout",
          "text": [
            "relatedness=0.539\n"
          ]
        },
        {
          "output_type": "display_data",
          "data": {
            "text/plain": [
              "'горизбиркомы : городские избирательные комиссии по перевыборам в советы депутатов трудящихся'"
            ],
            "application/vnd.google.colaboratory.intrinsic+json": {
              "type": "string"
            }
          },
          "metadata": {}
        },
        {
          "output_type": "stream",
          "name": "stdout",
          "text": [
            "relatedness=0.537\n"
          ]
        },
        {
          "output_type": "display_data",
          "data": {
            "text/plain": [
              "'рогн : рота огнеметчиков'"
            ],
            "application/vnd.google.colaboratory.intrinsic+json": {
              "type": "string"
            }
          },
          "metadata": {}
        },
        {
          "output_type": "stream",
          "name": "stdout",
          "text": [
            "relatedness=0.537\n"
          ]
        },
        {
          "output_type": "display_data",
          "data": {
            "text/plain": [
              "'гортоп : городской отдел топлива'"
            ],
            "application/vnd.google.colaboratory.intrinsic+json": {
              "type": "string"
            }
          },
          "metadata": {}
        },
        {
          "output_type": "stream",
          "name": "stdout",
          "text": [
            "relatedness=0.534\n"
          ]
        },
        {
          "output_type": "display_data",
          "data": {
            "text/plain": [
              "'горбанк : городской банк'"
            ],
            "application/vnd.google.colaboratory.intrinsic+json": {
              "type": "string"
            }
          },
          "metadata": {}
        },
        {
          "output_type": "stream",
          "name": "stdout",
          "text": [
            "relatedness=0.534\n"
          ]
        },
        {
          "output_type": "display_data",
          "data": {
            "text/plain": [
              "'гоз : Государственный Оптический завод'"
            ],
            "application/vnd.google.colaboratory.intrinsic+json": {
              "type": "string"
            }
          },
          "metadata": {}
        },
        {
          "output_type": "stream",
          "name": "stdout",
          "text": [
            "relatedness=0.533\n"
          ]
        },
        {
          "output_type": "display_data",
          "data": {
            "text/plain": [
              "'ГОРЗЫ : Государственное объединение радиотелеграфных заводов'"
            ],
            "application/vnd.google.colaboratory.intrinsic+json": {
              "type": "string"
            }
          },
          "metadata": {}
        },
        {
          "output_type": "stream",
          "name": "stdout",
          "text": [
            "relatedness=0.533\n"
          ]
        },
        {
          "output_type": "display_data",
          "data": {
            "text/plain": [
              "'горОНО (гороно) : городской отдел народного образования'"
            ],
            "application/vnd.google.colaboratory.intrinsic+json": {
              "type": "string"
            }
          },
          "metadata": {}
        },
        {
          "output_type": "stream",
          "name": "stdout",
          "text": [
            "relatedness=0.521\n"
          ]
        },
        {
          "output_type": "display_data",
          "data": {
            "text/plain": [
              "'помзаворг : помощник заведующего организацией'"
            ],
            "application/vnd.google.colaboratory.intrinsic+json": {
              "type": "string"
            }
          },
          "metadata": {}
        },
        {
          "output_type": "stream",
          "name": "stdout",
          "text": [
            "relatedness=0.502\n"
          ]
        },
        {
          "output_type": "display_data",
          "data": {
            "text/plain": [
              "'горпром : горная промышленность'"
            ],
            "application/vnd.google.colaboratory.intrinsic+json": {
              "type": "string"
            }
          },
          "metadata": {}
        }
      ]
    },
    {
      "cell_type": "markdown",
      "source": [
        "Now the final code to generate a card from a request through RAG embeddings"
      ],
      "metadata": {
        "id": "tFpJqscoYjKf"
      }
    },
    {
      "cell_type": "code",
      "source": [
        "async def ask(\n",
        "    client: AsyncOpenAI,\n",
        "    record: RawCard,\n",
        "    card: str,\n",
        "    abbreviations_df: pd.DataFrame = abbreviations_df,\n",
        "    model: str = input_to_client.model,\n",
        "    embedding_model: str = 'text-embedding-3-small',\n",
        "    top_n: int = 10,\n",
        "    threshold: float = 0.5,\n",
        "    print_message: bool = False,\n",
        ") -> str:\n",
        "    \"\"\"Answers a query using GPT and a dataframe of relevant texts and embeddings.\"\"\"\n",
        "    query = [record.place_of_birth, record.occupation, record.execution_place]\n",
        "    query = ' '.join([x for x in query if x])\n",
        "    # query = record.occupation\n",
        "    reference_dic = await get_reference(client, query, abbreviations_df, model=embedding_model, top_n=top_n, threshold=threshold)\n",
        "    reference_dic = '\\nИспользуй этот справочник для расшифровки аббревиатур:\\n' + reference_dic\n",
        "    messages = [\n",
        "        {\"role\": \"system\", \"content\": ai_prompts.ALL_IN_ONE_PROMPT},\n",
        "        {\"role\": \"system\", \"content\": reference_dic},\n",
        "        {\"role\": \"assistant\",\"content\": ai_prompts.GOOD_EXAMPLES},\n",
        "        {\"role\": \"user\", \"content\": card},\n",
        "    ]\n",
        "    response = await client.chat.completions.create(\n",
        "        model=model,\n",
        "        messages=messages,\n",
        "        temperature=0\n",
        "    )\n",
        "    response_message = response.choices[0].message.content\n",
        "    return response_message, messages"
      ],
      "metadata": {
        "id": "t83cIYpq3RFj"
      },
      "execution_count": 39,
      "outputs": []
    },
    {
      "cell_type": "code",
      "source": [
        "id = 1222123 # example: Зав. сектором горЗО\n",
        "record = df.loc[df.id == id, KEEP_COLS].to_dict(orient='records')[0]\n",
        "record = RawCard(**record)\n",
        "card = record.pretty_print_without_id()\n",
        "print(card)\n",
        "print()\n",
        "\n",
        "clean_card, messages = await ask(client, record, card, model='gpt-4o-mini',top_n=200, threshold=0.5, print_message=True)\n",
        "print(clean_card)"
      ],
      "metadata": {
        "colab": {
          "base_uri": "https://localhost:8080/"
        },
        "id": "9CXreewy9UVK",
        "outputId": "a25fa8bc-40fc-4604-95b2-a5ad580c27e2"
      },
      "execution_count": 40,
      "outputs": [
        {
          "output_type": "stream",
          "name": "stdout",
          "text": [
            "\n",
            "Имя Отчество Фамилия: Венедикт Иванович Катков  \n",
            "Возраст: 31\n",
            "Пол: мужчина\n",
            "Место рождения: None\n",
            "Род занятий: Зав. сектором горЗО\n",
            "Дата расстрела: 01.07.1938\n",
            "Место расстрела: г. Барнаул      \n",
            "\n",
            "\n",
            "Венедикт Иванович Катков  \n",
            "31 год  \n",
            "Место рождения неизвестно  \n",
            "Заведующий сектором городского земельного отдела  \n",
            "Расстрелян 1 июля 1938 года в Барнауле  \n"
          ]
        }
      ]
    },
    {
      "cell_type": "code",
      "source": [
        "# See the generated reference dictionary through RAG embeddings\n",
        "print(messages[1]['content'])"
      ],
      "metadata": {
        "colab": {
          "base_uri": "https://localhost:8080/"
        },
        "id": "ELfy1-_6iQ6_",
        "outputId": "155009fa-8af6-488d-b801-ea4194e468eb"
      },
      "execution_count": 41,
      "outputs": [
        {
          "output_type": "stream",
          "name": "stdout",
          "text": [
            "\n",
            "Используй этот справочник для расшифровки аббревиатур:\n",
            "зав. : завод (карт.)\n",
            "зав- : заведующий, -ая, заводской, -ая, -ое\n",
            "завуч : заведующий учебной частью\n",
            "завмаг : заведующий магазином\n",
            "ЗавВО : Заволжский военный округ\n",
            "завхим : заведующий химической службой\n",
            "заветча : заведующий ветеринарной частью\n",
            "ав. : авиация, авиационный, -ая -ое\n",
            "коопзав : заведующий кооперативом\n",
            "замзав : заместитель заведующего\n",
            "завтео : заведующий техническим отделом\n",
            "завобовосу : заведующий общим отделом- Окружного военносанитарного управления\n",
            "завбиб : заведующий библиотекой\n",
            "завканц : заведующий канцелярией\n",
            "предзавкома : председатель заводского комитета\n",
            "ЗВ : зажигательное вещество\n",
            "завкомовец : член заводского комитета\n",
            "помзав : помощник заведующего\n",
            "вив : Всесоюзный трест искусственного волокна\n",
            "вив : величина изменения высоты\n",
            "зам. : замыкатель, заместитель\n",
            "ЗВО : Заволжский военный округ\n",
            "помзаворг : помощник заведующего организацией\n",
            "завинт : заведующий интендантской частью\n",
            "рзв. : разведывательный зенитный взвод\n",
            "сект. : сектор\n",
            "горзо : городской земельный отдел\n",
            "горздрав : городской отдел здравоохранения\n",
            "Горзавтрест : Государственный трест горнозаводского оборудования\n",
            "гор- : горный, -ая, -ое, городской, -ая, -ое\n",
            "гор. : город, городок\n",
            "Гор. : горячий источник (карт.)\n",
            "горт : государственный отдел радиотехники\n",
            "горизбиркомы : городские избирательные комиссии по перевыборам в советы депутатов трудящихся\n",
            "рогн : рота огнеметчиков\n",
            "гортоп : городской отдел топлива\n",
            "горбанк : городской банк\n",
            "гоз : Государственный Оптический завод\n",
            "ГОРЗЫ : Государственное объединение радиотелеграфных заводов\n",
            "горОНО (гороно) : городской отдел народного образования\n",
            "помзаворг : помощник заведующего организацией\n",
            "горпром : горная промышленность\n",
            "м. г. : милостивый государь (обращение в письмах)\n",
            "м. г. : минувший год\n",
            "б. г. : будущий год\n",
            "с. г. : сего года\n",
            "Г. пр. : горный проход (карт.)\n",
            "Г. д. : господский дом (карт.)\n",
            "Г. п. : германский патент\n",
            "Гр. : гравий (карт.), градус (карт.), Гросс (карт.)\n",
            "м. : мельница (карт.), московский, -ая, -ое\n",
            "м. : месяц, минута, море, метр\n",
            "г : грамм\n",
            "г : 81\n",
            "гг : гектограмм\n",
            "м. б. : может быть\n",
            "т. : твердый (грунт брода) (карт.)\n",
            "т. : телефон, товарищ, том, тысяча\n",
            "гт. : господа, граждане, годы\n",
            "к. : копейка, карат, кулон\n",
            "т г. : текущий год, текущего года\n",
            "Гл. : глина (карт.)\n",
            "Г. дв. : господский двор (карт.)\n",
            "б. : будка (карт.), бывший, -ая,-ое,(карт.), бензин, бензиновый, -ая, -ое\n",
            "ген. : генерал, генеральный, -ая, -ое\n",
            "ген. а. : генерал армии\n",
            "Л. : Ленинград\n",
            "гз : группа заграждения\n",
            "ц га : центнер на гектар\n",
            "гго : Главная Геофизическая обсерватория\n",
            "б. ч. : большей частью\n",
            "мгом : мегом\n",
            "ч. : час, часть, червонец\n",
            "гс : ::- генератор синхронный, главные силы, главный склад\n",
            "в. : верхний, -яя, -ее, (карт.), восток, восточный, -ая, -ое, (карт.), вязкий, -ая, -ое, (карт.)\n",
            "в. : :: век, вольт\n",
            "ст. : станция (карт.), столетие\n",
            "ген.-п. : генерал-полковник\n",
            "л. : лес (карт.), лейтенант, линия, литр\n",
            "мг : Министерство геологии\n",
            "мг : миллиграмм\n",
            "гп : главный пост\n",
            "Пр. : пруд (карт.)\n",
            "ГО : главный отряд\n",
            "ф. : фунт\n",
            "гпп : горный пехотный полк\n",
            "гор. : город, городок\n",
            "сер. : середина\n",
            "д. : деревня (карт.), дом (карт.)\n",
            "т. м. : текущий месяц\n",
            "проф. : профессор, профсоюзный, -ая, -ое, профессиональный, -ая, -ое\n",
            "тгр. : телеграмма, телеграфно\n",
            "ск. : секунда\n",
            "т. п. : тому подобный, -ая, -ое\n",
            "гтг : Государственная Третьяковская гал- лерея\n",
            "с. ш. : северная широта\n",
            "гпм : Государственный Политехнический музей\n",
            "ГСГГ : Государственный союзный геофизический трест\n",
            "гл : гектолитр, главный\n",
            "мгп : Министерство горной промышленности\n",
            "гмс : Гражданская метеорологическая служба\n",
            "Зд. : здание (карт.)\n",
            "д. б. : должно быть\n",
            "У г. код. : Уголовный кодекс\n",
            "Бар. : барак (карт.)\n",
            "\n"
          ]
        }
      ]
    },
    {
      "cell_type": "markdown",
      "source": [
        "# Fine-tuned mini-model with RAG with embeddings\n",
        "\n",
        "Now let's have all together:\n",
        "- Use RAG embedding to create a reference for expanding abbreviations\n",
        "- Use fine-tuned model instead of pure openai models (we don't use good examples in the promps as we fine-tuned the model already)"
      ],
      "metadata": {
        "id": "y2FwtCf5oIx3"
      }
    },
    {
      "cell_type": "code",
      "source": [
        "async def ask2(\n",
        "    client: AsyncOpenAI,\n",
        "    record: RawCard,\n",
        "    card: str,\n",
        "    abbreviations_df: pd.DataFrame = abbreviations_df,\n",
        "    model: str = input_to_client.model,\n",
        "    embedding_model: str = 'text-embedding-3-small',\n",
        "    top_n: int = 10,\n",
        "    threshold: float = 0.5,\n",
        "    print_message: bool = False,\n",
        ") -> str:\n",
        "    \"\"\"Answers a query using GPT and a dataframe of relevant texts and embeddings.\"\"\"\n",
        "    # query = [record.occupation,record.place_of_residence, record.execution_place, record.place_of_birth]\n",
        "    query = record.occupation\n",
        "    reference_dic = await get_reference(client, query, abbreviations_df, model=embedding_model, top_n=top_n, threshold=threshold)\n",
        "    reference_dic = '\\nИспользуй этот справочник для расшифровки аббревиатур:\\n' + reference_dic\n",
        "    messages = [\n",
        "        {\"role\": \"system\", \"content\": ai_prompts.ALL_IN_ONE_PROMPT},\n",
        "        {\"role\": \"system\", \"content\": reference_dic},\n",
        "        # No need to add good examples to the prompt anymore\n",
        "        # {\"role\": \"assistant\",\"content\": ai_prompts.GOOD_EXAMPLES},\n",
        "        {\"role\": \"user\", \"content\": card},\n",
        "    ]\n",
        "    response = await client.chat.completions.create(\n",
        "        model=model,\n",
        "        messages=messages,\n",
        "        temperature=0\n",
        "    )\n",
        "    response_message = response.choices[0].message.content\n",
        "    return response_message, messages"
      ],
      "metadata": {
        "id": "QzFm3-PxizEd"
      },
      "execution_count": 42,
      "outputs": []
    },
    {
      "cell_type": "code",
      "source": [
        "id = 1222123\n",
        "record = df.loc[df.id == id, KEEP_COLS].to_dict(orient='records')[0]\n",
        "record = RawCard(**record)\n",
        "card = record.pretty_print_without_id()\n",
        "print(card)\n",
        "print()\n",
        "\n",
        "clean_card, messages = await ask2(client, record, card, model=fine_tuned_model,top_n=200, threshold=0.5, print_message=True)\n",
        "print(clean_card)"
      ],
      "metadata": {
        "colab": {
          "base_uri": "https://localhost:8080/"
        },
        "id": "dK4XHoIYmaeu",
        "outputId": "7fe7f74a-0749-49b2-f41a-9815902850b2"
      },
      "execution_count": 45,
      "outputs": [
        {
          "output_type": "stream",
          "name": "stdout",
          "text": [
            "\n",
            "Имя Отчество Фамилия: Венедикт Иванович Катков  \n",
            "Возраст: 31\n",
            "Пол: мужчина\n",
            "Место рождения: None\n",
            "Род занятий: Зав. сектором горЗО\n",
            "Дата расстрела: 01.07.1938\n",
            "Место расстрела: г. Барнаул      \n",
            "\n",
            "\n",
            "Венедикт Иванович Катков  \n",
            "31 год  \n",
            "Место рождения неизвестно  \n",
            "Заведующий сектором городского земельного отдела в Барнауле  \n",
            "Расстрелян 1 июля 1938 года в Барнауле  \n"
          ]
        }
      ]
    },
    {
      "cell_type": "markdown",
      "source": [
        "# Conclusion\n",
        "\n",
        "We were able to improve the gpt mini model through RAG with embeddings and fine-tuning. Now the mini model doesn't hallucinates and creates card with the stylistic we needed.\n",
        "\n",
        "There are some things can be done further:\n",
        "- Combine the production RAG through trie with RAG through embeddings, but make the final list smaller. Just in case to make sure we are coverying everything we need"
      ],
      "metadata": {
        "id": "kTr1YT74bGxj"
      }
    }
  ]
}